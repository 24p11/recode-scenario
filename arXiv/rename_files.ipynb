{
 "cells": [
  {
   "cell_type": "code",
   "execution_count": 4,
   "metadata": {},
   "outputs": [],
   "source": [
    "folder = \"C:/data/crh_fictifs/relecture_crh_aout25/\""
   ]
  },
  {
   "cell_type": "code",
   "execution_count": 26,
   "metadata": {},
   "outputs": [],
   "source": [
    "import numpy as np\n",
    "import random\n",
    "from os import listdir\n",
    "import os\n",
    "import pandas as pd\n"
   ]
  },
  {
   "cell_type": "code",
   "execution_count": 60,
   "metadata": {},
   "outputs": [],
   "source": [
    "from os.path import isfile, join\n",
    "import re"
   ]
  },
  {
   "cell_type": "code",
   "execution_count": 28,
   "metadata": {},
   "outputs": [],
   "source": [
    "folder = \"C:/data/crh_fictifs/partages/\" \n",
    "dfp = pd.read_csv(folder + \"crh_cancero.csv\")\n",
    "\n"
   ]
  },
  {
   "cell_type": "code",
   "execution_count": 40,
   "metadata": {},
   "outputs": [
    {
     "data": {
      "text/plain": [
       "'\\r\\nConcerne Monsieur Alfred Mabaet, né le 26/09/1956.\\r\\n\\r\\nCompte-rendu d’Hôpital De Jour\\r\\ndu 02/04/2025\\r\\n\\r\\nSynthèse oncologique\\r\\nDiagnostic fin 2022 d’un carcinome épidermoïde de la jonction ⅓ supérieur ⅓ moyen de l’oesophage initialement T3N0M0 traité par radiochimiothérapie jusqu’en février 2023\\r\\nFin 2023 : réapparition d’une dysphagie faisant réaliser une FOGD qui montre une sténose à 23cm des arcades dentaires, non-franchissable, dont la biopsie retrouve un contingent de carcinome épidermoïde bien différencié infiltrant\\r\\nMai 2024 : oesophagectomie subtotale et gastrectomie polaire supérieure élargie à une médiastinectomie postérieure par cervicotomie gauche et thoracotomie, compliquée en post-opératoire d’une nécrose de l’extrémité supérieure du montage chirurgical ayant nécessité de multiples reprises chirurgicales et la mise en place d’une jéjunostomie d’alimentation. Histologie : carcinome épidermoïde bien différencié ypT3 N0 L1 V0 Pn1 M0. Indication théorique de NIVOLUMAB adjuvant, non-réalisé dans le contexte.\\r\\nJanvier 2025 : TEP-scanner retrouvant une récidive locale\\r\\nRCP : chimiothérapie par CISPLATINE 5-FU fractionnée tous les 15j\\r\\n\\r\\nAntécédents: HTA, hernie discale opérée en 2022, amygdalectomie, CE du LIG opéré en 2016, fibrose hépatique sans cirrhose en surveillance auprès de Dr DUFOIE\\r\\nTraitement habituel : INDAPAMIDE, AMLODIPINE, VESICARE, NUTRISON ENERGY\\r\\nMode de vie : OH-tabac sevré, alimentation entérale nocturne, vit actuellement chez sa fille aînée avec passage IDE biquotidien\\r\\n\\r\\nChère/cher Consoeur/Confrère\\r\\n\\r\\nMotif d’hospitalisation\\r\\nJe vois ce jour en consultation M MABAET pour la poursuite de son traitement par CISPLATINE 5-FU en 1ère ligne d’un carcinome épidermoïde oesophagien en récidive locale après chirurgie compliquée de nécrose du montage chirurgical.\\r\\n\\r\\nM MABAET garde un état général stable avec un OMS entre 1-2, sans aggravation récente. Sa nutrition entérale est relativement bien tolérée avec cependant des nausées de grade I, contrôlées sous traitement symptomatique et un transit accéléré ne nécessitant pas d’anti-diarrhéique. Il est suivi 2 fois par semaine par la diététicienne à domicile.\\r\\nSon poids est en légère augmentation à 67kg. Il poursuite une hydratation par la jéjunostomie avec 4 seringues par jour et son médecin traitant a ajouté une hydratation IV d’1L par jour depuis la semaine dernière devant une augmentation de la créatinine à 90µM, hydratation que nous allons majorer à 1,5L/j en continu avec 2L par jour le lendemain de la chimiothérapie, en plus de l’hyperhydratation en HDJ.\\r\\nL’auscultation pulmonaire est sans particularités et il ne présente pas d’oedèmes. Je lui explique qu’il ne doit pas tarder à nous contacter ou consulter son médecin traitant en cas d’essouflement inhabituel ou d’apparition d’oedèmes. J’appelle également sa fille, en présence du patient, pour lui expliquer la situation et les signes d’alerte.\\r\\nPas d’autre plainte fonctionnelle et pas d’autre anomalie biologique, avec notamment un ionogramme strictement normal.\\r\\nDans ce contexte, nous poursuivons la chimiothérapie avec du CARBOPLATINE en association au 5-FU pour limiter les risques néphrologiques et prévoyons une biologie de contrôle la semaine prochaine, qui sera vue par le médecin traitant.\\r\\nJe demande également la réalisation d’une échographie des voies urinaires et d’un scanner TAP de réévaluation d’ici 2 semaines. Je le reverrai avec les résultats et une nouvelle biologie de contrôle le 16 avril.\\r\\n\\r\\nPPS :\\r\\nInsuffisance rénale légère motivant un switch de Cisplatine pour Carboplatine\\r\\nSurveillance biologique rapprochée + écho des voies urinaires de principe + majoration de l’hydratation à domicile\\r\\nScanner TAP de réévaluation demandé pour la consultation dans 15j\\r\\n\\r\\n'"
      ]
     },
     "execution_count": 40,
     "metadata": {},
     "output_type": "execute_result"
    }
   ],
   "source": [
    "dfp.text.iloc[i]"
   ]
  },
  {
   "cell_type": "code",
   "execution_count": 59,
   "metadata": {},
   "outputs": [],
   "source": [
    "folder = \"C:/data/crh_fictifs/relecture_crh_aout25_source/\"  \n",
    "\n",
    "for i in range(1,55):\n",
    "    with open(folder + \"CRH_PARTAGES_\" + str(i) + \".txt\", \"w\", encoding=\"utf-8\") as text_file:\n",
    "        text_file.write(dfp.text.iloc[i]) \n",
    "       \n",
    "    "
   ]
  },
  {
   "cell_type": "code",
   "execution_count": 65,
   "metadata": {},
   "outputs": [],
   "source": [
    "folder = \"C:/data/crh_fictifs/relecture_crh_aout25/\"\n",
    "files_origin = [f for f in listdir(folder) if isfile(join(folder, f))]"
   ]
  },
  {
   "cell_type": "code",
   "execution_count": 66,
   "metadata": {},
   "outputs": [
    {
     "ename": "IndexError",
     "evalue": "list index out of range",
     "output_type": "error",
     "traceback": [
      "\u001b[1;31m---------------------------------------------------------------------------\u001b[0m",
      "\u001b[1;31mIndexError\u001b[0m                                Traceback (most recent call last)",
      "\u001b[1;32m~\\AppData\\Local\\Temp\\ipykernel_38216\\2313366408.py\u001b[0m in \u001b[0;36m<cell line: 3>\u001b[1;34m()\u001b[0m\n\u001b[0;32m      2\u001b[0m \u001b[0mdf_dict\u001b[0m\u001b[1;33m=\u001b[0m\u001b[1;33m[\u001b[0m\u001b[1;33m]\u001b[0m\u001b[1;33m\u001b[0m\u001b[1;33m\u001b[0m\u001b[0m\n\u001b[0;32m      3\u001b[0m \u001b[1;32mfor\u001b[0m \u001b[0mi\u001b[0m \u001b[1;32min\u001b[0m \u001b[0mrange\u001b[0m\u001b[1;33m(\u001b[0m\u001b[1;36m0\u001b[0m\u001b[1;33m,\u001b[0m\u001b[1;36m102\u001b[0m\u001b[1;33m)\u001b[0m\u001b[1;33m:\u001b[0m\u001b[1;33m\u001b[0m\u001b[1;33m\u001b[0m\u001b[0m\n\u001b[1;32m----> 4\u001b[1;33m     \u001b[0morigin_file_name\u001b[0m \u001b[1;33m=\u001b[0m \u001b[0mfiles_origin\u001b[0m\u001b[1;33m[\u001b[0m\u001b[0mi\u001b[0m\u001b[1;33m]\u001b[0m\u001b[1;33m\u001b[0m\u001b[1;33m\u001b[0m\u001b[0m\n\u001b[0m\u001b[0;32m      5\u001b[0m     \u001b[0morigin_file_path\u001b[0m \u001b[1;33m=\u001b[0m \u001b[0mos\u001b[0m\u001b[1;33m.\u001b[0m\u001b[0mpath\u001b[0m\u001b[1;33m.\u001b[0m\u001b[0mjoin\u001b[0m\u001b[1;33m(\u001b[0m\u001b[0mfolder\u001b[0m\u001b[1;33m,\u001b[0m \u001b[0morigin_file_name\u001b[0m\u001b[1;33m)\u001b[0m\u001b[1;33m\u001b[0m\u001b[1;33m\u001b[0m\u001b[0m\n\u001b[0;32m      6\u001b[0m     \u001b[0mdest_file_name\u001b[0m \u001b[1;33m=\u001b[0m  \u001b[1;34m\"CRH_REVIEW_\"\u001b[0m \u001b[1;33m+\u001b[0m \u001b[0mstr\u001b[0m\u001b[1;33m(\u001b[0m\u001b[0mnum_list\u001b[0m\u001b[1;33m[\u001b[0m\u001b[0mi\u001b[0m\u001b[1;33m]\u001b[0m\u001b[1;33m)\u001b[0m\u001b[1;33m+\u001b[0m\u001b[1;34m\".txt\"\u001b[0m\u001b[1;33m\u001b[0m\u001b[1;33m\u001b[0m\u001b[0m\n",
      "\u001b[1;31mIndexError\u001b[0m: list index out of range"
     ]
    }
   ],
   "source": [
    "num_list = random.sample(range(1, 101), 100)\n",
    "df_dict=[]\n",
    "for i in range(0,102):\n",
    "    origin_file_name = files_origin[i]\n",
    "    origin_file_path = os.path.join(folder, origin_file_name)\n",
    "    dest_file_name =  \"CRH_REVIEW_\" + str(num_list[i])+\".txt\"\n",
    "    dest_file_path= os.path.join(folder,dest_file_name)\n",
    "    os.rename(origin_file_path, dest_file_path)\n",
    "    \n",
    "    if re.search(\"PARTAGES\",origin_file_path):\n",
    "        source = \"PARTAGES\"\n",
    "    else:\n",
    "        source = \"MistralAI\"\n",
    "\n",
    "    df_dict.append({ \"source\": source, \"file_name_origin\" :origin_file_name, \"file_name_destination\" : dest_file_name })\n"
   ]
  },
  {
   "cell_type": "code",
   "execution_count": 68,
   "metadata": {},
   "outputs": [],
   "source": [
    "folder = \"C:/data/crh_fictifs/relecture_crh_aout25_source/\"\n",
    "pd.DataFrame(df_dict).to_csv(folder + \"liste_crh.txt\")"
   ]
  },
  {
   "cell_type": "code",
   "execution_count": null,
   "metadata": {},
   "outputs": [],
   "source": [
    "range(1, 100)"
   ]
  }
 ],
 "metadata": {
  "kernelspec": {
   "display_name": "Python 3.10.6 64-bit",
   "language": "python",
   "name": "python3"
  },
  "language_info": {
   "codemirror_mode": {
    "name": "ipython",
    "version": 3
   },
   "file_extension": ".py",
   "mimetype": "text/x-python",
   "name": "python",
   "nbconvert_exporter": "python",
   "pygments_lexer": "ipython3",
   "version": "3.10.6"
  },
  "orig_nbformat": 4,
  "vscode": {
   "interpreter": {
    "hash": "26de051ba29f2982a8de78e945f0abaf191376122a1563185a90213a26c5da77"
   }
  }
 },
 "nbformat": 4,
 "nbformat_minor": 2
}
