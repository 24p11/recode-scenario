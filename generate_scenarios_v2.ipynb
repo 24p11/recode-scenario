{
 "cells": [
  {
   "cell_type": "markdown",
   "metadata": {
    "colab_type": "text",
    "id": "view-in-github"
   },
   "source": [
    "<a href=\"https://colab.research.google.com/github/24p11/recode-scenario/blob/main/scenario_oncology_v2.ipynb\" target=\"_parent\"><img src=\"https://colab.research.google.com/assets/colab-badge.svg\" alt=\"Open In Colab\"/></a>"
   ]
  },
  {
   "cell_type": "markdown",
   "metadata": {
    "id": "TA98me3BVrPP"
   },
   "source": [
    "## Create fictive clinical notes from Code set (DRG + ICD)\n",
    "\n",
    "Code set are the raw classification data, we can extract from National database (Base nationale PMSI en France). They are made of \n",
    "* classification profile made of grouping variables from DRG records which are prepared with their frequency in the national database\n",
    "    - age (class)\n",
    "    - sexe\n",
    "    - DRG (racine GHM)\n",
    "    - Main diagnosis (ICD10) : cf\n",
    "    - Hospitalization management type : cf\n",
    "* diagnosis associated to each classification profile, extracted with their frequencies\n",
    "* procedures associated to each classification profile, specialy for surgery and technical gestures, extracted with their frequencies\n",
    "\n",
    "From thoses raw information we produce a coded clinical scenario which will be uses a seed.\n",
    "\n",
    "This scenario is transformed into a detail prompt that will be given to a LLM for generation.\n",
    "From the combinaision of primary and related diagnosis in French discharge abstract, we derived two notions :\n",
    "* Primary diagnosis : host the notion of principal pathology, it is rather the primary diagnosis of the discharge abstract or the related diagnosis when it exists and that the primary diagnosis of the discharge abstract is from the chapter \"Facteurs influant sur l’état de santé\" of ICD10\n",
    "* The Hospitalization management type is rather the term \"Primary diagnosis\" or the ICD-10 code of the related diagnosis when it exists\n"
   ]
  },
  {
   "cell_type": "code",
   "execution_count": null,
   "metadata": {},
   "outputs": [],
   "source": [
    "#Number of scenarios generate\n",
    "N_SCENARIO = 10000\n",
    "\n",
    "#Filters to apply to the initial national data\n",
    "#Here: patient not cancer ; None if no filters\n",
    "QUERY = \"~icd_primary_code.isin(@gs.icd_codes_cancer)\""
   ]
  },
  {
   "cell_type": "code",
   "execution_count": 2,
   "metadata": {
    "tags": []
   },
   "outputs": [],
   "source": [
    "%load_ext autoreload\n",
    "%autoreload 2"
   ]
  },
  {
   "cell_type": "code",
   "execution_count": 3,
   "metadata": {
    "id": "iYwLpeT3VrPQ",
    "tags": []
   },
   "outputs": [],
   "source": [
    "import pandas as pd\n",
    "import numpy as np\n",
    "import datetime as dt\n",
    "from tqdm import tqdm\n",
    "from utils import *"
   ]
  },
  {
   "cell_type": "code",
   "execution_count": 4,
   "metadata": {
    "tags": []
   },
   "outputs": [],
   "source": [
    "gs = generate_scenario()\n",
    "# Load official dictionaries\n",
    "# col_names option allow you to algin your column names the project dictionary.\n",
    "gs.load_offical_icd(\"cim_2024.xlsx\",col_names={\"code\" : \"icd_code\",\"libelle\":\"icd_code_description\"} )\n",
    "gs.load_offical_procedures(\"ccam_actes_2024.xlsx\",col_names={\"code\":\"procedure\",\"libelle_long\":\"procedure_description\"} )\n",
    "col_names={\"Code CIM\":\"icd_parent_code\",\"Localisation\":\"primary_site\",\"Type Histologique\":\"histological_type\",\n",
    "           \"Stade\":\"stage\",\"Marqueurs Tumoraux\":\"biomarkers\",\"Traitement\":\"treatment_recommandation\",\"Protocole de Chimiothérapie\":\"chemotherapy_regimen\"}\n",
    "gs.load_cancer_treatement_recommandations(\"Tableau récapitulatif traitement cancer.xlsx\",col_names ) \n",
    "col_names={\"racine\":\"drg_parent_code\",\"lib_spe_uma\":\"specialty\",\"ratio_spe_racine\":\"ratio\"}\n",
    "gs.load_specialty_refential(\"dictionnaire_spe_racine.xlsx\",col_names)\n",
    "gs.load_referential_hospital(\"chu\")\n",
    "gs.load_exclusions(\"exclusions\")\n",
    "\n",
    "# Load data from BN  PMSI\n",
    "col_names={\"racine\":\"drg_parent_code\",\"das\": \"icd_secondary_code\",\"diag\":\"icd_primary_code\",\"categ_cim\":\"icd_primary_parent_code\",\n",
    "            \"mdp\":\"case_management_type\",\"nb_situations\":\"nb\",\"acte\":\"procedure\",\n",
    "            \"mode_entree\":\"admission_mode\",\n",
    "            \"mode_sortie\":\"discharge_disposition\",\n",
    "            \"mode_hospit\":\"admission_type\"}\n",
    "gs.load_classification_profile(\"bn_pmsi_cases_20250819.csv\", col_names)\n",
    "gs.load_secondary_icd(\"bn_pmsi_related_diag_20250818.csv\",col_names)\n",
    "gs.load_procedures(\"bn_pmsi_procedures_20250818.csv\",col_names)"
   ]
  },
  {
   "cell_type": "code",
   "execution_count": 5,
   "metadata": {},
   "outputs": [],
   "source": [
    "#Prepare cases\n",
    "df_profile = gs.df_classification_profile"
   ]
  },
  {
   "cell_type": "code",
   "execution_count": 6,
   "metadata": {},
   "outputs": [
    {
     "data": {
      "text/plain": [
       "array([[<Axes: title={'center': 'nb'}>]], dtype=object)"
      ]
     },
     "execution_count": 6,
     "metadata": {},
     "output_type": "execute_result"
    },
    {
     "data": {
      "image/png": "[encoded data removed]",
      "text/plain": [
       "<Figure size 640x480 with 1 Axes>"
      ]
     },
     "metadata": {},
     "output_type": "display_data"
    }
   ],
   "source": [
    "df_profile.hist(column=\"nb\",bins=100)"
   ]
  },
  {
   "cell_type": "code",
   "execution_count": 7,
   "metadata": {},
   "outputs": [],
   "source": [
    "n_tot_r = np.sum(df_profile.nb)\n",
    "df_profile = df_profile.assign(effectif = df_profile.nb,\n",
    "                    effectif_trans = np.sqrt(df_profile.nb)*1000000000/n_tot_r)\n",
    "df_profile = df_profile.assign(effectif_final = np.where(df_profile.effectif_trans>1500,1500,df_profile.effectif_trans))\n"
   ]
  },
  {
   "cell_type": "code",
   "execution_count": 8,
   "metadata": {},
   "outputs": [
    {
     "data": {
      "text/plain": [
       "array([[<Axes: title={'center': 'effectif_final'}>]], dtype=object)"
      ]
     },
     "execution_count": 8,
     "metadata": {},
     "output_type": "execute_result"
    },
    {
     "data": {
      "image/png": "[encoded data removed]",
      "text/plain": [
       "<Figure size 640x480 with 1 Axes>"
      ]
     },
     "metadata": {},
     "output_type": "display_data"
    }
   ],
   "source": [
    "df_profile.hist(column=\"effectif_final\",bins=100)"
   ]
  },
  {
   "cell_type": "code",
   "execution_count": 9,
   "metadata": {
    "tags": []
   },
   "outputs": [
    {
     "name": "stdout",
     "output_type": "stream",
     "text": [
      "Total classification profiles :  98640\n"
     ]
    }
   ],
   "source": [
    "#Exclusion \n",
    "#G178\tTransplantations d'organes\n",
    "#G187\tSéances : dialyse\n",
    "#G189\tSéances : radiothérapie\n",
    "df_profile = df_profile[(~df_profile.ga.isin(gs.df_exclusions.ga) ) &(~df_profile.specialty.isin([\"OBSTETRIQUE\",\"NEONATOLOGIE\"])) ]\n",
    "print(\"Total classification profiles :  \" + (str(len(df_profile))))\n",
    "\n",
    "icd_codes_cancer = gs.icd_codes_cancer"
   ]
  },
  {
   "cell_type": "markdown",
   "metadata": {},
   "source": [
    "# Sampling"
   ]
  },
  {
   "cell_type": "code",
   "execution_count": 10,
   "metadata": {
    "tags": []
   },
   "outputs": [],
   "source": [
    "#Exclude some rows regarding QUERY\n",
    "if QUERY is not None : \n",
    "    df_profile_sample = df_profile.query(QUERY)\n",
    "else :\n",
    "    df_profile_sample = df_profile.copy()\n",
    "\n",
    "df_profile_sample = df_profile_sample.sample(N_SCENARIO, weights=\"effectif_final\").reset_index(drop=True)\n",
    "df_profile_sample.drop(columns=[\"nb\",\"effectif\",\"effectif_trans\",\"effectif_final\"],inplace=True)"
   ]
  },
  {
   "cell_type": "code",
   "execution_count": 11,
   "metadata": {
    "tags": []
   },
   "outputs": [
    {
     "name": "stderr",
     "output_type": "stream",
     "text": [
      "100%|██████████| 10/10 [00:21<00:00,  2.18s/it]\n"
     ]
    }
   ],
   "source": [
    "list_scenario = []\n",
    "\n",
    "for i in tqdm(range(len(df_profile_sample))):\n",
    "# for i in tqdm(range(1)):\n",
    "    profile = df_profile_sample.iloc[i].copy()\n",
    "    scenario = gs.generate_scenario_from_profile(profile)\n",
    "    row = {k:scenario[k] for k in scenario.keys()}\n",
    "    user_prompt = gs.make_prompts_marks_from_scenario(scenario)\n",
    "    system_prompt = gs.create_system_prompt(scenario)\n",
    "    row[\"user_prompt\"] = user_prompt\n",
    "    row[\"system_prompt\"] = system_prompt\n",
    "    \n",
    "    if  scenario[\"icd_primary_code\"]  in gs.icd_codes_cancer  :\n",
    "        prefix = \"\"\"Le compte rendu suivant respecte les élements suivants :\n",
    "        - les diagnostics ont une formulation moins formelle que la définition du code\n",
    "        - le type histologique et la valeur des biomarqueurs si recherchés\n",
    "        - le plan du CRH est conforme aux recommandations.\n",
    "        \"\"\"\n",
    "    else :\n",
    "        prefix = \"\"\"Le compte rendu suivant respecte les élements suivants :\n",
    "        - les diagnostics ont une formulation moins formelle que la définition du code\n",
    "        - le plan du CRH est conforme aux recommandations.\n",
    "        \"\"\"\n",
    "    \n",
    "    row[\"prefix\"] = prefix\n",
    "    row[\"prefix_len\"] = len(prefix)\n",
    "    list_scenario.append(row)"
   ]
  },
  {
   "cell_type": "code",
   "execution_count": null,
   "metadata": {
    "tags": []
   },
   "outputs": [],
   "source": [
    "keep_cols = ['age',  'cage', 'cage2','sexe', 'date_entry', 'date_discharge', 'date_of_birth',\n",
    "       'first_name', 'last_name', 'icd_primary_code', 'icd_primary_description', 'icd_parent_code',\n",
    "       'case_management_type','case_management_type_description', 'case_management_type_text', \n",
    "       'drg_parent_code', 'drg_parent_description',\n",
    "       'icd_secondaray_code',  'text_secondary_icd_official', \n",
    "        'procedure', 'text_procedure',\n",
    "        'admission_type','admission_mode', 'discharge_disposition', 'dms', 'los_mean', 'los_sd',\n",
    "       'cancer_stage', 'score_TNM', 'histological_type',\n",
    "       'treatment_recommandation', 'chemotherapy_regimen', 'biomarkers',\n",
    "       'first_name_med', 'last_name_med',\n",
    "       'department','hospital',\n",
    "       'cd_md_pec', 'user_prompt', 'system_prompt', 'prefix', 'prefix_len']\n",
    "df_scenario = pd.DataFrame(list_scenario)[keep_cols]\n",
    "df_scenario.to_csv(\"results/generated_scenarios_\"+dt.datetime.now().strftime('%Y%m%d_%H%M')+\".csv\")"
   ]
  },
  {
   "cell_type": "code",
   "execution_count": null,
   "metadata": {},
   "outputs": [],
   "source": []
  }
 ],
 "metadata": {
  "colab": {
   "include_colab_link": true,
   "provenance": []
  },
  "kernelspec": {
   "display_name": "Python 3",
   "language": "python",
   "name": "python3"
  },
  "language_info": {
   "codemirror_mode": {
    "name": "ipython",
    "version": 3
   },
   "file_extension": ".py",
   "mimetype": "text/x-python",
   "name": "python",
   "nbconvert_exporter": "python",
   "pygments_lexer": "ipython3",
   "version": "3.13.7"
  }
 },
 "nbformat": 4,
 "nbformat_minor": 4
}
