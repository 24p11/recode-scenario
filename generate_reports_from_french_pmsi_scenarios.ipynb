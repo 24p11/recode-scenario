{
  "cells": [
    {
      "cell_type": "markdown",
      "metadata": {
        "colab_type": "text",
        "id": "view-in-github"
      },
      "source": [
        "<a href=\"https://colab.research.google.com/github/24p11/recode-scenario/blob/main/scenario_oncology_v2.ipynb\" target=\"_parent\"><img src=\"https://colab.research.google.com/assets/colab-badge.svg\" alt=\"Open In Colab\"/></a>"
      ]
    },
    {
      "cell_type": "markdown",
      "metadata": {
        "id": "TA98me3BVrPP"
      },
      "source": [
        "## Create fictive clinical notes from Code set (DRG + ICD)\n",
        "\n",
        "Code set are the raw classification data, we can extract from National database (Base nationale PMSI en France). They are made of \n",
        "* classification profile made of grouping variables from DRG records which are prepared with their frequency in the national database\n",
        "    - age (class)\n",
        "    - sexe\n",
        "    - DRG (racine GHM)\n",
        "    - Main diagnosis (ICD10) : cf\n",
        "    - Hospitalization management type : cf\n",
        "* diagnosis associated to each classification profile, extracted with their frequencies\n",
        "* procedures associated to each classification profile, specialy for surgery and technical gestures, extracted with their frequencies\n",
        "\n",
        "From thoses raw information we produce a coded clinical scenario which will be uses a seed.\n",
        "\n",
        "This scenario is transformed into a detail prompt that will be given to a LLM for generation.\n",
        "From the combinaision of primary and related diagnosis in French discharge abstract, we derived two notions :\n",
        "* Primary diagnosis : host the notion of principal pathology, it is rather the primary diagnosis of the discharge abstract or the related diagnosis when it exists and that the primary diagnosis of the discharge abstract is from the chapter \"Facteurs influant sur l’état de santé\" of ICD10\n",
        "* The Hospitalization management type is rather the term \"Primary diagnosis\" or the ICD-10 code of the related diagnosis when it exists\n"
      ]
    },
    {
      "cell_type": "code",
      "execution_count": 2,
      "metadata": {},
      "outputs": [],
      "source": [
        "%load_ext autoreload\n",
        "%autoreload 2"
      ]
    },
    {
      "cell_type": "code",
      "execution_count": 3,
      "metadata": {
        "id": "iYwLpeT3VrPQ"
      },
      "outputs": [],
      "source": [
        "import pandas as pd\n",
        "import numpy as np\n",
        "import datetime as dt"
      ]
    },
    {
      "cell_type": "code",
      "execution_count": 145,
      "metadata": {},
      "outputs": [],
      "source": [
        "from utils import *"
      ]
    },
    {
      "cell_type": "code",
      "execution_count": 5,
      "metadata": {},
      "outputs": [],
      "source": [
        "gs = generate_scenario()\n",
        "# Load official dictionaries\n",
        "# col_names option allow you to algin your column names the project dictionary.\n",
        "gs.load_offical_icd(\"cim_2024.xlsx\",col_names={\"code\" : \"icd_code\",\"libelle\":\"icd_code_description\"} )\n",
        "gs.load_offical_procedures(\"ccam_actes_2024.xlsx\",col_names={\"code\":\"procedure\",\"libelle_long\":\"procedure_description\"} )\n",
        "col_names={\"Code CIM\":\"icd_parent_code\",\"Localisation\":\"primary_site\",\"Type Histologique\":\"histological_type\",\n",
        "\t\"Stade\":\"stage\",\"Marqueurs Tumoraux\":\"biomarkers\",\"Traitement\":\"treatment_recommandation\",\"Protocole de Chimiothérapie\":\"chemotherapy_regimen\"}\n",
        "gs.load_cancer_treatement_recommandations(\"Tableau récapitulatif traitement cancer.xlsx\",col_names ) "
      ]
    },
    {
      "cell_type": "code",
      "execution_count": 6,
      "metadata": {},
      "outputs": [],
      "source": [
        "# Load data from BN  PMSI\n",
        "col_names={\"racine\":\"drg_parent_code\",\"das\": \"icd_secondary_code\",\"diag\":\"icd_primary_code\",\"categ_cim\":\"icd_primary_parent_code\",\n",
        "            \"mdp\":\"case_management_type\",\"nb_situations\":\"nb\",\"acte\":\"procedure\",\n",
        "            \"mode_entree\":\"admission_mode\",\n",
        "            \"mode_sortie\":\"discharge_disposition\",\n",
        "            \"mode_hospit\":\"admission_type\"}\n",
        "gs.load_classification_profile(\"bn_pmsi_cases_20250819.csv\", col_names)\n",
        "gs.load_secondary_icd(\"bn_pmsi_related_diag_20250818.csv\",col_names)\n",
        "gs.load_procedures(\"bn_pmsi_procedures_20250818.csv\",col_names)"
      ]
    },
    {
      "cell_type": "code",
      "execution_count": 25,
      "metadata": {},
      "outputs": [],
      "source": [
        "cols_scenario = [\"first_name\",\"last_name\",\"cage2\",\"cage\",\"sexe\",\n",
        "                \"last_name_med\",\"icd_primary_code\",\n",
        "                \"admission_type\",\"admission_mode\",\"discharge_disposition\",\n",
        "                'drg_parent_code','icd_primary_code','icd_secondaray_code']\n",
        "                \n",
        "cols_cancer = [\"cancer_stage\",\"TNM_score\",\"histological_type\",\"treatment_recommandation\",\"chemotherapy_regimen\"]\n",
        "\n"
      ]
    },
    {
      "cell_type": "code",
      "execution_count": 202,
      "metadata": {},
      "outputs": [],
      "source": [
        "df =[]\n",
        "for i in range(1,2):\n",
        "\n",
        "    query = \"icd_primary_code=='C50' and case_management_type=='Z511'\"\n",
        "\n",
        "    current_profile = gs.df_classification_profile.query(query).drop(columns=\"nb\").iloc[i]\n",
        "\n",
        "    scenario = gs.generate_scenario_from_profile(current_profile)\n",
        "    row = {k:scenario[k] for k in scenario if k in cols_scenario }\n",
        "    cancer = [scenario[k] for k in scenario if k in cols_cancer ]\n",
        "\n",
        "    row.update({\"cancer\":cancer})\n",
        "    \n",
        "    case  = gs.make_prompts_marks_from_scenario(scenario)\n",
        "    row.update({'case': case})\n",
        "\n",
        "    prompt =  prepare_prompt(\"templates/scenario_onco_v1.txt\",case =case)\n",
        "    row.update({'prompt': prompt})\n",
        "\n",
        "    df.append(row)"
      ]
    },
    {
      "cell_type": "code",
      "execution_count": 204,
      "metadata": {},
      "outputs": [],
      "source": [
        "df= pd.DataFrame(df)"
      ]
    },
    {
      "cell_type": "code",
      "execution_count": null,
      "metadata": {},
      "outputs": [],
      "source": []
    }
  ],
  "metadata": {
    "colab": {
      "include_colab_link": true,
      "provenance": []
    },
    "kernelspec": {
      "display_name": "Python 3",
      "name": "python3"
    },
    "language_info": {
      "codemirror_mode": {
        "name": "ipython",
        "version": 3
      },
      "file_extension": ".py",
      "mimetype": "text/x-python",
      "name": "python",
      "nbconvert_exporter": "python",
      "pygments_lexer": "ipython3",
      "version": "3.10.6"
    },
    "orig_nbformat": 4,
    "vscode": {
      "interpreter": {
        "hash": "26de051ba29f2982a8de78e945f0abaf191376122a1563185a90213a26c5da77"
      }
    }
  },
  "nbformat": 4,
  "nbformat_minor": 0
}
