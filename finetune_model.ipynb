{
 "cells": [
  {
   "cell_type": "code",
   "execution_count": 24,
   "metadata": {},
   "outputs": [],
   "source": [
    "import pandas as pd\n",
    "import numpy as nb\n",
    "from config import *\n",
    "import json\n",
    "import re"
   ]
  },
  {
   "cell_type": "code",
   "execution_count": 209,
   "metadata": {},
   "outputs": [],
   "source": [
    "scenario_file_name = \"generated_scenarios_20250922_1207\""
   ]
  },
  {
   "cell_type": "code",
   "execution_count": 210,
   "metadata": {},
   "outputs": [],
   "source": [
    "output_file = path_results + scenario_file_name + \".jsonl\""
   ]
  },
  {
   "cell_type": "code",
   "execution_count": 211,
   "metadata": {},
   "outputs": [],
   "source": [
    "df_crh= pd.read_csv(path_results + \"crh_\"+scenario_file_name + \".csv\",index_col=0)"
   ]
  },
  {
   "cell_type": "code",
   "execution_count": 213,
   "metadata": {},
   "outputs": [],
   "source": [
    "limit = 50\n",
    "with open(output_file, 'a+', encoding=\"utf-8\") as outfile:\n",
    "\n",
    "    for i in range(0,len(df_crh)) :\n",
    "\n",
    "        if  len(df_crh.crh[i])<500 :\n",
    "\n",
    "            continue\n",
    "        # annotations = json.loads(df_crh.crh[i].split('\"formulations\":')[1][:-3])\n",
    "        case_management_type = df_crh.case_management_type[i]\n",
    "        case_management_type_description = df_crh.case_management_type_description[i]\n",
    "\n",
    "        diagnostics = df_crh.crh[i].split('\"formulations\":')[1][:-3].replace('\\n ',\"\").split(\"informations\")[0][:-5].split('\"diagnostics\":')[1]\n",
    "\n",
    "        text_crh = df_crh.crh[i].split('\"formulations\":')[0].split('\"CR\":')[1][3:-5]\n",
    "\n",
    "        codes = []\n",
    "        #Regular expressions \n",
    "        p = re.compile(\"^[A-Z][0-9]{2}\")\n",
    "        PCID = \"Diagnostic principal :\\n\"\n",
    "        SICD = \"Diagnotics associés :\\n\"\n",
    "        CMT = \"Motif de recours au soin (code en Z du chapitre XXI):\\n\"\n",
    "\n",
    "        if case_management_type == \"DP\":\n",
    "            CMT+= \"- aucun, le motif de recours au soin est le diagnostic principal\\n\"\n",
    "        else :\n",
    "            CMT+= \"- \" + case_management_type_description + \"(\" + case_management_type + \")\\n\"\n",
    "\n",
    "        for x in re.sub('\"',\"\", diagnostics).split(\"],\"):\n",
    "            diag =  re.sub(\"\\[|\\]|}|{\",\"\",x).replace(\"  \",\"\")\n",
    "            extract = re.findall(r'\\((.*?)\\)',diag)\n",
    "            if extract:\n",
    "                for code in extract: \n",
    "                    if p.match(code):\n",
    "                        codes +=[code]\n",
    "                        if(code == df_crh.icd_primary_code.loc[i]):\n",
    "                            PCID += \"- \" + diag + \"\\n\"\n",
    "                        else :\n",
    "                            SICD += \"- \" + diag + \"\\n\"\n",
    "        \n",
    "                    \n",
    "            \n",
    "        data = {\n",
    "        \"messages\": [\n",
    "            {\n",
    "                \"role\": \"system\",\n",
    "                \"content\": \"\"\"Vous êtes un modèle de langage en française spécialisé dans le codage des diagnostics selon la classification internationale des maladies version 10 (CIM-10) pour les résumés standardisés de sortie du programme de médicalisation des systèmes d'information français (PMSI). A partir des comptes rendus d'hospitalisation vous donnerez  les codes diagnostics CIM-10 que l'on peut retenir pour le séjours en distiguant  :\n",
    "- Motifs de recours (code en Z du chapitre XXI). Ces codes ne sont utilisables que dans certaines circonstances. Lorsqu'il n'est pas nécessaire vous d'utiliser un code en Z vous votre réponse pour cette catégorie sera : aucun, le motif de recours au soin est le diagnostic principal.\n",
    "- Diagnostic principal \n",
    "- Diagnostics associés \"\"\"},\n",
    "\n",
    "            {\n",
    "                \"role\": \"user\",\n",
    "                \"content\": \"Générez le codage CIM-10 du résumé strandisé de sortie PMSI à partir du compte rendu d'hospitalisation suivant : \" + text_crh\n",
    "            },\n",
    "            {\n",
    "                \"role\": \"assistant\",\n",
    "                \"content\": \"Codes CIM 10 retenus pour le résumé strandisé de sortie PMSI : \" + CMT+PCID+SICD\n",
    "            }\n",
    "        ]\n",
    "        }\n",
    "        json.dump(data, outfile, separators=(',', ':'),  ensure_ascii=False)\n",
    "        outfile.write('\\n')\n",
    "\n",
    "\n",
    "        if limit is not None:\n",
    "            if i > limit:\n",
    "                break"
   ]
  },
  {
   "cell_type": "code",
   "execution_count": 220,
   "metadata": {},
   "outputs": [
    {
     "name": "stdout",
     "output_type": "stream",
     "text": [
      "Motif de recours au soin (code en Z du chapitre XXI):\n",
      "- aucun, le motif de recours au soin est le diagnostic principal\n",
      "Diagnostic principal :\n",
      "- Travail et accouchement compliqués d'une anomalie du rythme cardiaque du foetus (O680):anomalies du rythme cardiaque fœtal, décélérations variables du RCF, tracé de type II, signes de détresse fœtale chronique, anomalies du RCF persistantes \n",
      "Diagnotics associés :\n",
      "-  Centres médicaux non disponibles et non accessibles (Z753):difficultés d’accès aux soins, suivi obstétrical irrégulier, éloignement géographique, précarité sociale \n",
      "-  Maladies à protozoaires compliquant la grossesse, l'accouchement et la puerpéralité (O986):paludisme traité en cours de grossesse, antécédent de paludisme à *Plasmodium falciparum*, sérologie paludéenne positive au 2ᵉ trimestre, contexte infectieux antérieur (paludisme) \n",
      "-  Rupture d'une suture de césarienne (O900):risque de désunion de cicatrice de césarienne// Mentionné indirectement dans la surveillance post-op \n",
      "-  Dystocie due à une présentation de l'épaule (O644):dystocie mécanique par présentation de l’épaule, présentation fœtale anormale (épaule antérieure), échec de la version externe, présentation du siège avec dos antérieur, dystocie sur présentation de l’épaule\n",
      "\n"
     ]
    }
   ],
   "source": [
    "print(CMT+PCID+SICD)"
   ]
  },
  {
   "cell_type": "code",
   "execution_count": 214,
   "metadata": {},
   "outputs": [],
   "source": [
    "from mistralai import Mistral\n",
    "import os\n",
    "\n",
    "\n",
    "client = Mistral(api_key=api_key)\n",
    "\n",
    "file_1 = client.files.upload(file={\n",
    "    \"file_name\": scenario_file_name + \".jsonl\",\n",
    "    \"content\": open(output_file, \"rb\"),\n",
    "})\n"
   ]
  },
  {
   "cell_type": "code",
   "execution_count": 217,
   "metadata": {},
   "outputs": [],
   "source": [
    "scenario_file_name = \"generated_scenarios_20250922_1208\"\n",
    "output_file = path_results + scenario_file_name + \".jsonl\""
   ]
  },
  {
   "cell_type": "code",
   "execution_count": 218,
   "metadata": {},
   "outputs": [],
   "source": [
    "file_2 = client.files.upload(file={\n",
    "    \"file_name\": scenario_file_name + \".jsonl\",\n",
    "    \"content\": open(output_file, \"rb\"),\n",
    "})\n"
   ]
  },
  {
   "cell_type": "code",
   "execution_count": 219,
   "metadata": {},
   "outputs": [
    {
     "ename": "SDKError",
     "evalue": "API error occurred: Status 400\n{\"detail\": \"Job has status QUEUED, cannot start unless job has status VALIDATED.\"}",
     "output_type": "error",
     "traceback": [
      "\u001b[1;31m---------------------------------------------------------------------------\u001b[0m",
      "\u001b[1;31mSDKError\u001b[0m                                  Traceback (most recent call last)",
      "\u001b[1;32m~\\AppData\\Local\\Temp\\ipykernel_23676\\1702077753.py\u001b[0m in \u001b[0;36m<cell line: 14>\u001b[1;34m()\u001b[0m\n\u001b[0;32m     12\u001b[0m \u001b[1;33m\u001b[0m\u001b[0m\n\u001b[0;32m     13\u001b[0m \u001b[1;31m# start a fine-tuning job\u001b[0m\u001b[1;33m\u001b[0m\u001b[1;33m\u001b[0m\u001b[0m\n\u001b[1;32m---> 14\u001b[1;33m \u001b[0mclient\u001b[0m\u001b[1;33m.\u001b[0m\u001b[0mfine_tuning\u001b[0m\u001b[1;33m.\u001b[0m\u001b[0mjobs\u001b[0m\u001b[1;33m.\u001b[0m\u001b[0mstart\u001b[0m\u001b[1;33m(\u001b[0m\u001b[0mjob_id\u001b[0m \u001b[1;33m=\u001b[0m \u001b[0mcreated_jobs\u001b[0m\u001b[1;33m.\u001b[0m\u001b[0mid\u001b[0m\u001b[1;33m)\u001b[0m\u001b[1;33m\u001b[0m\u001b[1;33m\u001b[0m\u001b[0m\n\u001b[0m\u001b[0;32m     15\u001b[0m \u001b[1;33m\u001b[0m\u001b[0m\n\u001b[0;32m     16\u001b[0m \u001b[0mcreated_jobs\u001b[0m\u001b[1;33m\u001b[0m\u001b[1;33m\u001b[0m\u001b[0m\n",
      "\u001b[1;32m~\\AppData\\Roaming\\Python\\Python310\\site-packages\\mistralai\\jobs.py\u001b[0m in \u001b[0;36mstart\u001b[1;34m(self, job_id, retries, server_url, timeout_ms)\u001b[0m\n\u001b[0;32m    878\u001b[0m         \u001b[1;32mif\u001b[0m \u001b[0mutils\u001b[0m\u001b[1;33m.\u001b[0m\u001b[0mmatch_response\u001b[0m\u001b[1;33m(\u001b[0m\u001b[0mhttp_res\u001b[0m\u001b[1;33m,\u001b[0m \u001b[1;33m[\u001b[0m\u001b[1;34m\"4XX\"\u001b[0m\u001b[1;33m,\u001b[0m \u001b[1;34m\"5XX\"\u001b[0m\u001b[1;33m]\u001b[0m\u001b[1;33m,\u001b[0m \u001b[1;34m\"*\"\u001b[0m\u001b[1;33m)\u001b[0m\u001b[1;33m:\u001b[0m\u001b[1;33m\u001b[0m\u001b[1;33m\u001b[0m\u001b[0m\n\u001b[0;32m    879\u001b[0m             \u001b[0mhttp_res_text\u001b[0m \u001b[1;33m=\u001b[0m \u001b[0mutils\u001b[0m\u001b[1;33m.\u001b[0m\u001b[0mstream_to_text\u001b[0m\u001b[1;33m(\u001b[0m\u001b[0mhttp_res\u001b[0m\u001b[1;33m)\u001b[0m\u001b[1;33m\u001b[0m\u001b[1;33m\u001b[0m\u001b[0m\n\u001b[1;32m--> 880\u001b[1;33m             raise models.SDKError(\n\u001b[0m\u001b[0;32m    881\u001b[0m                 \u001b[1;34m\"API error occurred\"\u001b[0m\u001b[1;33m,\u001b[0m \u001b[0mhttp_res\u001b[0m\u001b[1;33m.\u001b[0m\u001b[0mstatus_code\u001b[0m\u001b[1;33m,\u001b[0m \u001b[0mhttp_res_text\u001b[0m\u001b[1;33m,\u001b[0m \u001b[0mhttp_res\u001b[0m\u001b[1;33m\u001b[0m\u001b[1;33m\u001b[0m\u001b[0m\n\u001b[0;32m    882\u001b[0m             )\n",
      "\u001b[1;31mSDKError\u001b[0m: API error occurred: Status 400\n{\"detail\": \"Job has status QUEUED, cannot start unless job has status VALIDATED.\"}"
     ]
    }
   ],
   "source": [
    "# create a fine-tuning job\n",
    "created_jobs = client.fine_tuning.jobs.create(\n",
    "    model=\"open-mistral-7b\", \n",
    "    training_files=[{\"file_id\": file_1.id, \"weight\": 1}],\n",
    "    validation_files=[file_2.id], \n",
    "    hyperparameters={\n",
    "        \"training_steps\": 10,\n",
    "        \"learning_rate\":0.0001\n",
    "    },\n",
    "    auto_start=False\n",
    ")\n",
    "\n",
    "# start a fine-tuning job\n",
    "client.fine_tuning.jobs.start(job_id = created_jobs.id)\n",
    "\n",
    "created_jobs"
   ]
  },
  {
   "cell_type": "code",
   "execution_count": 208,
   "metadata": {},
   "outputs": [
    {
     "name": "stdout",
     "output_type": "stream",
     "text": [
      "id='c5c72831-0bf3-42ea-b61f-f5c8aa323d00' auto_start=False hyperparameters=TrainingParameters(training_steps=10, learning_rate=0.0001, weight_decay=0.1, warmup_fraction=0.05, epochs=None, fim_ratio=None, seq_len=32768) model='open-mistral-7b' status='QUEUED' job_type='completion' created_at=1758724866 modified_at=1758724866 training_files=['b423ac5d-3f17-473f-a667-2234c4ffbc4e'] validation_files=['89ce81ce-d885-446e-bd23-48284e872ccf'] OBJECT='job' fine_tuned_model=None suffix=None integrations=[] trained_tokens=None repositories=[] metadata=JobMetadataOut(expected_duration_seconds=None, cost=0.0, cost_currency=None, train_tokens_per_step=None, train_tokens=None, data_tokens=None, estimated_start_time=None)\n"
     ]
    }
   ],
   "source": [
    "print(created_jobs)"
   ]
  },
  {
   "cell_type": "code",
   "execution_count": null,
   "metadata": {},
   "outputs": [],
   "source": []
  }
 ],
 "metadata": {
  "kernelspec": {
   "display_name": "Python 3.10.6 64-bit",
   "language": "python",
   "name": "python3"
  },
  "language_info": {
   "codemirror_mode": {
    "name": "ipython",
    "version": 3
   },
   "file_extension": ".py",
   "mimetype": "text/x-python",
   "name": "python",
   "nbconvert_exporter": "python",
   "pygments_lexer": "ipython3",
   "version": "3.10.6"
  },
  "orig_nbformat": 4,
  "vscode": {
   "interpreter": {
    "hash": "26de051ba29f2982a8de78e945f0abaf191376122a1563185a90213a26c5da77"
   }
  }
 },
 "nbformat": 4,
 "nbformat_minor": 2
}
