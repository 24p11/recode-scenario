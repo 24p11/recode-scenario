{
  "cells": [
    {
      "cell_type": "markdown",
      "metadata": {
        "colab_type": "text",
        "id": "view-in-github"
      },
      "source": [
        "<a href=\"https://colab.research.google.com/github/24p11/recode-scenario/blob/main/scenario_oncology_v2.ipynb\" target=\"_parent\"><img src=\"https://colab.research.google.com/assets/colab-badge.svg\" alt=\"Open In Colab\"/></a>"
      ]
    },
    {
      "cell_type": "markdown",
      "metadata": {
        "id": "TA98me3BVrPP"
      },
      "source": [
        "## Create fictive clinical notes from Code set (DRG + ICD)\n",
        "\n",
        "Code set are the raw classification data, they are extracted from French National database (Base nationale PMSI). They are made of \n",
        "* classification profile made of grouping variables from DRG records which are prepared with their frequency in the national database\n",
        "    - age (class)\n",
        "    - sexe\n",
        "    - DRG (racine GHM)\n",
        "    - Main diagnosis (ICD10) : cf\n",
        "    - Hospitalization management type : cf\n",
        "* diagnosis associated to each classification profile, extracted with their frequencies\n",
        "* procedures associated to each classification profile, specialy for surgery and technical gestures, extracted with their frequencies\n",
        "\n",
        "From thoses raw information we produce a coded clinical scenario which will be uses a seed.\n",
        "\n",
        "This scenario is transformed into a detail prompt that will be given to a LLM for generation.\n",
        "From the combinaision of primary and related diagnosis in French discharge abstract, we derived two notions :\n",
        "* Primary diagnosis : host the notion of principal pathology, it is rather the primary diagnosis of the discharge abstract or the related diagnosis when it exists and that the primary diagnosis of the discharge abstract is from the chapter \"Facteurs influant sur l’état de santé\" of ICD10\n",
        "* The Hospitalization management type is rather the term \"Primary diagnosis\" or the ICD-10 code of the related diagnosis when it exists\n",
        "\n",
        "Variables dictionary :\n",
        "* drg_code\n",
        "* drg_description\n",
        "* drg_parent_code\n",
        "* drg_parent_code_description\n",
        "* icd_code\n",
        "* icd_code_description\n",
        "* icd_parent_code\n",
        "* icd_parent_code_description\n",
        "* icd_primary_code : digonstic principal\n",
        "* icd_primary_code_definition : digonstic principal\n",
        "* icd_secondary : related diagnosis\n",
        "* cage : age classes [0-1[, [1-5[,[15-18[, [5-10[, [10-15[, [30-40[, [50-60[, [18-30[, [40-50[, [60-70[, [70-80[, [80-[\n",
        "* cage2 :  age classes [0-1[ , [1-5[ , [5-10[ , [10-15[ , [15-18[, [18-50[ , [50-[\n",
        "* sexe : 1/2 (F)\n",
        "       \n",
        "\n",
        "Table classification_profile\n",
        "* drg_parent_code\n",
        "* icd_primary_code\n",
        "* icd_primary_parent_code\n",
        "* case_management_type\n",
        "* cage\n",
        "* cage2\n",
        "* sexe\n",
        "\n",
        "Table secondary_diagnosis\n",
        "* drg_parent_code\n",
        "* icd_primary_parent_code\n",
        "* cage2\n",
        "* sexe\n",
        "\n",
        "Use the col_names options in the load function of the project to align the columns names of your files with this dictionary."
      ]
    },
    {
      "cell_type": "code",
      "execution_count": 1,
      "metadata": {},
      "outputs": [],
      "source": [
        "%load_ext autoreload\n",
        "%autoreload 2"
      ]
    },
    {
      "cell_type": "code",
      "execution_count": 2,
      "metadata": {
        "id": "iYwLpeT3VrPQ"
      },
      "outputs": [],
      "source": [
        "import pandas as pd\n",
        "import numpy as np\n",
        "import datetime as dt"
      ]
    },
    {
      "cell_type": "code",
      "execution_count": 3,
      "metadata": {},
      "outputs": [],
      "source": [
        "from utils import *"
      ]
    },
    {
      "cell_type": "code",
      "execution_count": 259,
      "metadata": {},
      "outputs": [],
      "source": [
        "gs = generate_scenario()\n",
        "# Load official dictionaries\n",
        "# col_names option allow you to algin your column names the project dictionary.\n",
        "gs.load_offical_icd(\"cim_2024.xlsx\",col_names={\"code\" : \"icd_code\",\"libelle\":\"icd_code_description\"} )\n",
        "gs.load_offical_procedures(\"ccam_actes_2024.xlsx\",col_names={\"code\":\"procedure\",\"libelle_long\":\"procedure_description\"} )"
      ]
    },
    {
      "cell_type": "code",
      "execution_count": 260,
      "metadata": {},
      "outputs": [],
      "source": [
        "# Load data from BN  PMSI\n",
        "col_names={\"racine\":\"drg_parent_code\",\"das\": \"icd_secondary_code\",\"diag\":\"icd_primary_code\",\"categ_cim\":\"icd_primary_parent_code\",\"mdp\":\"case_management_type\",\"nb_situations\":\"nb\",\"acte\":\"procedure\"}\n",
        "gs.load_classification_profile(\"bn_pmsi_cases_20250819.csv\", col_names)\n",
        "gs.load_secondary_icd(\"bn_pmsi_related_diag_20250818.csv\",col_names)\n",
        "gs.load_procedures(\"bn_pmsi_procedures_20250818.csv\",col_names)"
      ]
    },
    {
      "cell_type": "code",
      "execution_count": 308,
      "metadata": {},
      "outputs": [],
      "source": [
        "current_profile = gs.df_classification_profile.drop(columns=\"nb\").loc[120]"
      ]
    },
    {
      "cell_type": "code",
      "execution_count": 313,
      "metadata": {
        "id": "tKC_4BAfZ3Uv"
      },
      "outputs": [],
      "source": [
        "scenario = gs.get_clinical_scenario_template()\n",
        "for k,v in current_profile.items():\n",
        "    scenario[k]=v \n"
      ]
    },
    {
      "cell_type": "code",
      "execution_count": 322,
      "metadata": {},
      "outputs": [
        {
          "name": "stdout",
          "output_type": "stream",
          "text": [
            "18\n"
          ]
        }
      ],
      "source": [
        "scenario[\"icd_primary_description\"] = gs.get_icd_description(current_profile.icd_primary_code)\n",
        "scenario[\"icd_primary_description_alternative\"] = gs.get_icd_alternative_descriptions(current_profile.icd_primary_code)\n",
        "scenario[\"case_management_type_description\"] = gs.get_icd_description(current_profile.case_management_type)\n",
        "scenario[\"text_secondary_icd\"] = \"\"\n",
        "scenario[\"age\"] = get_age(current_profile.cage)\n",
        "#For chronic diseases we choose grouping profile only on ICD\n",
        "grouping_secondary =[\"icd_primary_code\",\"icd_secondary_code\",\"cage2\",\"sexe\",\"nb\"]\n",
        "scenario[\"metastases\"] = gs.sample_from_df(profile =current_profile,df_values= gs.df_secondary_icd.query(\"type=='Metastasis'\")[grouping_secondary])  \n",
        "\n",
        "###Secodary diagnosis :\n",
        "###We sample secondary diagnosis by steps : metastases, metastases ln, chronic,complications\n",
        "###Each time build :\n",
        "### - official descriptions\n",
        "### - official : alternatives descripttion\n",
        "scenario[\"text_secondary_icd_official\"]=\"\"\n",
        "scenario[\"text_secondary_icd_alternative\"]=\"\"\n",
        "if scenario[\"metastases\"].shape[0] > 0 :\n",
        "  for index, row in scenario[\"metastases\"].iterrows():\n",
        "    scenario[\"text_secondary_icd_official\"] += \"- \" + row.icd_code_description_official + \"(\"+ row.icd_secondary_code+\")\\n\"\n",
        "    scenario[\"text_secondary_icd_alternative\"] += \"- \" + row.icd_code_description_official + \"(\"+ row.icd_secondary_code+\") : \" + row.icd_code_description_alternative + \"\\n\"\n",
        "    \n",
        "scenario[\"metastases_ln\"] = gs.sample_from_df(profile =current_profile,df_values= gs.df_secondary_icd.query(\"type=='Metastasis LN'\")[grouping_secondary])  \n",
        "if scenario[\"metastases_ln\"].shape[0] > 0 :\n",
        "  for index, row in scenario[\"metastases_ln\"].iterrows():\n",
        "    scenario[\"text_secondary_icd_official\"] += \"- \" + row.icd_code_description_official + \"(\"+ row.icd_secondary_code+\")\\n\"\n",
        "    scenario[\"text_secondary_icd_alternative\"] += \"- \" + row.icd_code_description_official + \"(\"+ row.icd_secondary_code+\") : \" + row.icd_code_description_alternative + \"\\n\"\n",
        "\n",
        "scenario[\"chronic\"] =  gs.sample_from_df(profile =current_profile,df_values= gs.df_secondary_icd.query(\"type.isin(['Chronic'])\")[grouping_secondary])  \n",
        "if scenario[\"chronic\"].shape[0] > 0 :\n",
        "  for index, row in scenario[\"chronic\"].iterrows():\n",
        "    scenario[\"text_secondary_icd_official\"] += \"- \" + row.icd_code_description_official + \"(\"+ row.icd_secondary_code+\")\\n\"\n",
        "    scenario[\"text_secondary_icd_alternative\"] += \"- \" + row.icd_code_description_official + \"(\"+ row.icd_secondary_code+\") : \" + row.icd_code_description_alternative + \"\\n\"\n",
        "\n",
        "#For complication drg_parent_code we choose grouping profile only on ICD\n",
        "grouping_secondary =[\"drg_parent_code\",\"icd_secondary_code\",\"cage2\",\"sexe\",\"nb\"]\n",
        "scenario[\"complications\"] = gs.sample_from_df(profile =current_profile,df_values= gs.df_secondary_icd.query(\"type.isin(['Acute'])\")[grouping_secondary]) \n",
        "if scenario[\"complications\"].shape[0] > 0 :\n",
        "  for index, row in scenario[\"complications\"].iterrows():\n",
        "    scenario[\"text_secondary_icd_official\"] += \"- \" + row.icd_code_description_official + \"(\"+ row.icd_secondary_code+\")\\n\"\n",
        "    scenario[\"text_secondary_icd_alternative\"] += \"- \" + row.icd_code_description_official + \"(\"+ row.icd_secondary_code+\") : \" + row.icd_code_description_alternative + \"\\n\"\n",
        "\n",
        "scenario[\"date_entry\"],scenario[\"date_discharge\"] = get_dates_of_stay(current_profile.mode_hospit,current_profile.mode_entree,current_profile.los_mean,current_profile.los_sd)\n",
        "scenario[\"date_of_birth\"] = random_date_between( scenario[\"date_entry\"] - datetime.timedelta(days = 365*(scenario[\"age\"]+1)) , scenario[\"date_entry\"] - datetime.timedelta(days = 365*(scenario[\"age\"])))\n",
        "current_profile[\"case_management_type_description\"] = scenario[\"case_management_type_description\"] \n",
        "scenario[\"case_management_type_text\"] , scenario[\"cd_md_pec\"] = gs.define_cancer_md_pec(current_profile)\n",
        "scenario[\"first_name\"] , scenario[\"laste_name\"] = gs.get_names(current_profile.sexe)\n",
        "scenario[\"first_name_med\"] , scenario[\"laste_name_med\"] = gs.get_names(random.randint(1, 2))\n"
      ]
    },
    {
      "cell_type": "code",
      "execution_count": 332,
      "metadata": {},
      "outputs": [
        {
          "name": "stdout",
          "output_type": "stream",
          "text": [
            "**SCÉNARIO DE DÉPART :**\n",
            "- Âge du patient : 81ans\n",
            "- Sexe du patient : 1\n",
            "- Date d'entrée : 16/10/2024\n",
            "- Date de sortie : 26/10/2024\n",
            "- Date de naissance : 01/05/1943\n",
            "- Prénom du patient : Franco\n",
            "- Mode de prise en charge : Hospitalisation pour prise en charge diagnostique et thérapeutique du diagnotic principal en hospitalisation complète\n",
            "- codage CIM10 :\n",
            "   * Diagnostic principal : Hypotension orthostatique(I951)\n",
            "   * Diagnostic relié :  Aucun\n",
            "   * Diagnostic associés : \n",
            "- Tumeur maligne secondaire des os et de la moelle osseuse(C795)\n",
            "- Tumeur maligne secondaire du poumon(C780)\n",
            "- Tumeur maligne secondaire du poumon(C780)\n",
            "- Tumeur maligne secondaire des os et de la moelle osseuse(C795)\n",
            "- Tumeur maligne secondaire et non précisée des ganglions lymphatiques de la tête, de la face et du cou(C770)\n",
            "- Sclérose systémique, sans précision(M349)\n",
            "- Cardiopathie hypertensive, (sans insuffisance cardiaque congestive)(I119)\n",
            "- Besoin d'assistance à domicile, aucun autre membre du foyer n'étant capable d'assurer les soins(Z742)\n",
            "- Tremblement essentiel(G250)\n",
            "- Autres hypotensions(I958)\n",
            "- Tachycardie, sans précision(R000)\n",
            "\n",
            "- Mode d'entrée' : DOMICILE\n",
            "- Mode de sortie' : SMR\n",
            "\n"
          ]
        }
      ],
      "source": [
        "SCENARIO = \"**SCÉNARIO DE DÉPART :**\\n\"\n",
        "\n",
        "for k,v in scenario.items():\n",
        "  if k == \"age\" and v is not None:\n",
        "    SCENARIO +=\"- Âge du patient : \" + str(v) + \"ans\\n\"\n",
        "  if k == \"sexe\" and v is not None:  \n",
        "    SCENARIO +=\"- Sexe du patient : \" + str(v) + \"\\n\"\n",
        "  if k == \"date_entry\" and v is not None:  \n",
        "    SCENARIO +=\"- Date d'entrée : \"+ v.strftime(\"%d/%m/%Y\") + \"\\n\"\n",
        "  if k == \"date_discharge\" and v is not None:  \n",
        "    SCENARIO +=\"- Date de sortie : \"+ v.strftime(\"%d/%m/%Y\") + \"\\n\" \n",
        "  if k == \"date_of_birth\" and v is not None:  \n",
        "    SCENARIO +=\"- Date de naissance : \"+ v.strftime(\"%d/%m/%Y\") + \"\\n\"  \n",
        "  if k == \"last_name\" and v is not None:  \n",
        "    SCENARIO +=\"- Nom du patient : \"+ v + \"\\n\" \n",
        "  if k == \"first_name\" and v is not None:  \n",
        "    SCENARIO +=\"- Prénom du patient : \"+ v + \"\\n\" \n",
        "  if(scenario[\"icd_primary_code\"] in gs.icd_codes_cancer) : \n",
        "    if k == \"icd_primary_code_definition\" and v is not None:  \n",
        "      SCENARIO +=\"- Localisation anatomique de la tumeur primaire : (\"+ v + scenario[\"icd_primary_code\"] + \")\\n\" \n",
        "    if k == \"cancer_histology\":\n",
        "      if v is not None:  \n",
        "          SCENARIO +=\"- Type anatomopathologique de la tumeur primaire : (\"+ v + scenario[\"icd_primary_code\"] + \")\\n\" \n",
        "      else :\n",
        "          SCENARIO +=\"- Type anatomopathologique de la tumeur primaire : Vous choisirez vous même un type histologique cohérent avec la localisation anatomique\\n\" \n",
        "    if k == \"scrore_TNM\":\n",
        "      if v is not None:  \n",
        "          SCENARIO +=\"- Score TNM :\"+ v + \"\\n\" \n",
        "      else :\n",
        "          SCENARIO +=\"- Score TNM : Si la notion de score de TNM est pertinente avec le type histologique et la localisation anatomique, vous choisirez un score TNM\\n\" \n",
        "    if k == \"cancer_stage\":\n",
        "       if v is not None:  \n",
        "          SCENARIO +=\"- Stade tumoral : \" + v + \"\\n\" \n",
        "    if k == \"biomarqueurs\":\n",
        "       if v is not None:  \n",
        "          SCENARIO +=\"- Biomarqueurs tumoraux : \"+ v + \"\\n\" \n",
        "       else :\n",
        "          SCENARIO +=\"- Biomarqueurs tumoraux : Vous choisirez des biomarqueur tumoraux cohérent avec la localisation et l'histologie de la tumeur\\n\" \n",
        "  \n",
        "  if k == \"mode_entree\" and v is not None:  \n",
        "    SCENARIO +=\"- Mode d'entrée' : \"+ v + \"\\n\" \n",
        "  if k == \"mode_sortie\" and v is not None:  \n",
        "    SCENARIO +=\"- Mode de sortie' : \"+ v + \"\\n\" \n",
        "\n",
        "  if k == \"case_management_type\" and v is not None:  \n",
        "    SCENARIO +=\"- Mode de prise en charge : \"+ scenario[\"case_management_type_text\"] + \"\\n\" \n",
        "    SCENARIO +=\"- codage CIM10 :\\n\" \n",
        "    SCENARIO +=\"   * Diagnostic principal : \"+  scenario[\"icd_primary_description\"] + \"(\"+ scenario[\"icd_primary_code\"] + \")\\n\"  \n",
        "    if scenario[\"case_management_type\"]!=\"DP\":\n",
        "      SCENARIO +=\"   * Diagnostic relié : \"+  scenario[\"case_management_type_description\"] + \"(\"+ scenario[\"case_management_type\"] + \")\\n\"  \n",
        "    else:\n",
        "      SCENARIO +=\"   * Diagnostic relié :  Aucun\\n\"  \n",
        "    \n",
        "    SCENARIO +=\"   * Diagnostic associés : \\n\"\n",
        "    SCENARIO +=  scenario[\"text_secondary_icd_official\"]  + \"\\n\"  \n",
        "\n",
        "print(SCENARIO)\n"
      ]
    },
    {
      "cell_type": "code",
      "execution_count": 333,
      "metadata": {
        "id": "YVo3CUosa9VJ"
      },
      "outputs": [
        {
          "name": "stdout",
          "output_type": "stream",
          "text": [
            " - Hypotension orthostatique(I951) : : hypotension orthostatique\n",
            "- Tumeur maligne secondaire des os et de la moelle osseuse(C795) : metastases medullaires vertebrales, metastase osseuse maxillaire compressive, metastase clavicule, metastase osseuse costale, metastases l l\n",
            "- Tumeur maligne secondaire du poumon(C780) : metastase hilaire, metastases pulmonaires surinfectees, metastase lobe superieur droit, metastase champ pulmoniare droit, metastases endobronchiques\n",
            "- Tumeur maligne secondaire du poumon(C780) : metastase lobe superieur droit, metastase champ pulmoniare droit, metastase pulmonaire apicale gauche, metastase pulmonaire contro laterale, metastase pulmonaire lobe superieur\n",
            "- Tumeur maligne secondaire des os et de la moelle osseuse(C795) : metastase clavicule gauche, metastase humerale droite, metastase canal rachidien, metastase os malaire gauche, metastase vertebrale d d\n",
            "- Tumeur maligne secondaire et non précisée des ganglions lymphatiques de la tête, de la face et du cou(C770) : masse ganglionnaire sus claviculaire, envahissement ganglion sus claviculaire gauche, adenopathies retro cervicales, metastases ganglionnaires cervicales, adenopathies cervicales\n",
            "- Sclérose systémique, sans précision(M349) : sclerodermie systemique multiviscerale, sclerodermie systemique, sclerodermie multiviscerale, maladie auto immune cutanee, maladie auto immune dermatologique\n",
            "- Cardiopathie hypertensive, (sans insuffisance cardiaque congestive)(I119) : cardiomyopathie hypertensive hypokinetique, myocardiopathie chronique hypertensive, decompensation cardiaque hypertensive, cardiopathie hypertensive, oap hypertensif\n",
            "- Besoin d'assistance à domicile, aucun autre membre du foyer n'étant capable d'assurer les soins(Z742) : sejour pour repit de la famille ou des aidants, personne ayant besoin de soins a domicile mais aucun membre de la famille n etant capable assurer les soins, personne ayant besoin de soins a domicile mais aucun membre de la famille n etant capable d assurer les soins, difficulte de liees a besoin assistance a domicile aucun membre du foyer n etant capable d assumer les soins, difficulte de soins par membre de la famille\n",
            "- Tremblement essentiel(G250) : tremblement hereditaire, tremblements idiopathiques invalidants, tremblement idiopathique diffus, tremblement familial, tremblement cerebelleux\n",
            "- Autres hypotensions(I958) : hypotension chronique, hypotension effort, hypotension arterielle paroxystique, hypotension post prandiale, autres hypotensions\n",
            "- Tachycardie, sans précision(R000) : tachycardie permanente, antecedent tachycardie reguliere, rythme cardiaque rapide, acces tachycardie, tachycardie sinusale permanente\n",
            "\n",
            "\n"
          ]
        }
      ],
      "source": [
        "\n",
        "ICD_ALTERNATIVES =\"\"\n",
        "\n",
        "if scenario[\"icd_primary_code\"] not in gs.icd_codes_cancer :\n",
        "      ICD_ALTERNATIVES +=\" - \" + scenario[\"icd_primary_description\"] + \"(\"+ scenario[\"icd_primary_code\"] + \") : \" \n",
        "      ICD_ALTERNATIVES +=\": \"+ scenario[\"icd_primary_description_alternative\"] + \"\\n\"\n",
        "ICD_ALTERNATIVES +=  scenario[\"text_secondary_icd_alternative\"]  + \"\\n\" \n",
        "\n",
        "print(ICD_ALTERNATIVES)\n"
      ]
    },
    {
      "cell_type": "code",
      "execution_count": 335,
      "metadata": {
        "id": "-QSvXRCGQn3d"
      },
      "outputs": [
        {
          "data": {
            "text/plain": [
              "'Vous êtes un oncologue clinicien expert. Votre tâche est de générer un compte rendu d\\'hospitalisation en style clinique synthétique à partir d\\'un scénario comprenant le résumé PMSI (codes de la classification internationale des maladies), ainsi que d\\'autres informations décrivant l\\'hospitalisation.\\n\\n\\n[SCENARIO here]\\n\\n\\n\\n\\n**INSTRUCTIONS :**\\n\\n- Vous devez utiliser exclusivement les diagnostics fournis. Aucun autre diagnostic ne doit être ajouté ou inventé.\\t\\t\\n\\n- Lors vous mentionnerez dans le texte les diagnostics, vous utiliserez autant que faire ce peut une formulation moins formelle que la définition du code. Pour vous aider nous vous proposons ci-dessous quelques exemples de formulation alternative qui peut être retrouvée dans les comptes rendus d\\'hospitalisation.\\n - Hypotension orthostatique(I951) : : hypotension orthostatique\\n- Tumeur maligne secondaire des os et de la moelle osseuse(C795) : metastases medullaires vertebrales, metastase osseuse maxillaire compressive, metastase clavicule, metastase osseuse costale, metastases l l\\n- Tumeur maligne secondaire du poumon(C780) : metastase hilaire, metastases pulmonaires surinfectees, metastase lobe superieur droit, metastase champ pulmoniare droit, metastases endobronchiques\\n- Tumeur maligne secondaire du poumon(C780) : metastase lobe superieur droit, metastase champ pulmoniare droit, metastase pulmonaire apicale gauche, metastase pulmonaire contro laterale, metastase pulmonaire lobe superieur\\n- Tumeur maligne secondaire des os et de la moelle osseuse(C795) : metastase clavicule gauche, metastase humerale droite, metastase canal rachidien, metastase os malaire gauche, metastase vertebrale d d\\n- Tumeur maligne secondaire et non précisée des ganglions lymphatiques de la tête, de la face et du cou(C770) : masse ganglionnaire sus claviculaire, envahissement ganglion sus claviculaire gauche, adenopathies retro cervicales, metastases ganglionnaires cervicales, adenopathies cervicales\\n- Sclérose systémique, sans précision(M349) : sclerodermie systemique multiviscerale, sclerodermie systemique, sclerodermie multiviscerale, maladie auto immune cutanee, maladie auto immune dermatologique\\n- Cardiopathie hypertensive, (sans insuffisance cardiaque congestive)(I119) : cardiomyopathie hypertensive hypokinetique, myocardiopathie chronique hypertensive, decompensation cardiaque hypertensive, cardiopathie hypertensive, oap hypertensif\\n- Besoin d\\'assistance à domicile, aucun autre membre du foyer n\\'étant capable d\\'assurer les soins(Z742) : sejour pour repit de la famille ou des aidants, personne ayant besoin de soins a domicile mais aucun membre de la famille n etant capable assurer les soins, personne ayant besoin de soins a domicile mais aucun membre de la famille n etant capable d assurer les soins, difficulte de liees a besoin assistance a domicile aucun membre du foyer n etant capable d assumer les soins, difficulte de soins par membre de la famille\\n- Tremblement essentiel(G250) : tremblement hereditaire, tremblements idiopathiques invalidants, tremblement idiopathique diffus, tremblement familial, tremblement cerebelleux\\n- Autres hypotensions(I958) : hypotension chronique, hypotension effort, hypotension arterielle paroxystique, hypotension post prandiale, autres hypotensions\\n- Tachycardie, sans précision(R000) : tachycardie permanente, antecedent tachycardie reguliere, rythme cardiaque rapide, acces tachycardie, tachycardie sinusale permanente\\n\\n\\n\\n- Vous pourrez reformulez librement ces propositions de manière fluide et naturelle dans le texte. Néanmoins, vous devrez donner à la fin sous forme structuré, pour chaque diagnostic les formulations que vous aurez choisi sous la forme :\\nCode CIM - Définition du code : formulations utilisées dans le texte.\\n\\n- Aucune partie du texte ne doit être mise en gras.\\n\\n- Langue : Rédigez le compte rendu en français.\\n\\n- Style : Adoptez un style clinique informel, tel qu\\'utilisé couramment dans les notes cliniques quotidiennes.\\n+ Ton télégraphique.\\t\\n+ Phrases éventuellement incomplètes (absence de sujet ou verbe) si cela reste naturel.\\n+ Informations enchaînées par ponctuation simple : virgules, tirets, points-virgules, etc.\\n\\n- Formulation : \\t\\n+ Variez la structure des phrases. \\t\\n+ Variez les termes médicaux (synonymes, reformulations naturelles) tout en conservant leur précision clinique. Évitez les répétitions mot à mot.\\t\\n+ Utilisez, de manière occasionnelle et pertinente, des acronymes et abréviations médicales françaises courantes, sans en abuser.\\n\\n- Contenu à produire : Le compte rendu doit comporter les sections suivantes (max. 200 mots/section) :\\t\\n+ Motif d’hospitalisation\\n+ Antécédents (médicaux, chirurgicaux, familiaux, allergies)\\n+ Mode de vie (toxiques, profession, autres) par exemple activité physique, nombre de gestités et parités chez les femmes, situation sociale...)\\n+ Histoire de la maladie\\n+ Examen clinique (constantes vitales, examen physique, poids en kgs en particulier si une dénutrition est évoquée, etc.) \\n+ Examens complémentaires avec résultats (uniquement ceux réalisés durant l’hospitalisation)\\n+ Évolution pendant l\\'hospitalisation: Veillez à être le plus exhaustif possible, en particulier indiquez : Conclusions des principaux examens complémentaires réalisés dans la section « Examens complémentaires »; Prise en charge thérapeutique; Suivi mis en place; Critères de sortie\\n+ Conclusion\\n\\n- Chaque section doit commencer par un titre au format suivant :\\n### Nom de la section (ex. : ### Motif d\\'hospitalisation)\\n- Attribuez des dates plausibles et cohérentes aux événements majeurs (hospitalisations, diagnostics, examens, traitements...).\\n- Assurez la cohérence temporelle et médicale entre les différentes sections.\\n- Ne pas inclure : Clauses de non-responsabilité.\\n- Veillez à être le plus détaillé possible concernant le cancer. Incluez, si pertinent, les informations suivantes : \\n+ État général : score de performance explicite selon l’échelle ECOG/OMS\\n+ Statut gestationnel (contraception, grossesse ou allaitement) : uniquement chez les femmes\\n+ Évolutivité tumorale : si elle est mentionée, vous devez obligatoirement :\\n* indiquer les examens ayant permis d’évaluer cette évolution, avec leurs résultats\\n* faire référence explicite aux examens antérieurs utilisés comme points de comparaison, afin de démontrer une progression ou une stabilité de la tumeur dans le temps\\n+ Type de traitements antitumoraux reçus\\n+ Lignes de traitement antitumoral reçues: indiquez explicitement à quelle ligne de traitement le patient se trouve actuellement.\\n+ La tolérance aiguë à la chimiothérapie\\n\\nVeillez à intégrer ces informations de façon naturelle dans le compte rendu, sans recourir à des formats semi-structurés, par exemple préférez une rédaction naturelle plutôt que « État général : ECOG 1 »).\\n\\n- À la fin du texte généré, fournissez :\\n+ un dictionnaire listant les formulations utilisées pour chaque diagnostic fourni (y compris le diagnostic principal et les diagnostics associés) : {\"Code CIM - Définition du code\": [\"formulation utilisée 1\", \"formulation utilisée 2\", ...],...}\\n* Par exemple : {\"poussee hypertension arterielle\": [\"poussée hypertension arterielle\", \"poussée HTA\"],...} \\n+ un dictionnaire listant les segments textuels utilisés pour décrire les informations suivantes, reproduits strictement à l’identique (copiés-collés depuis le texte généré, sans aucune modification ni interprétation, y compris ponctuation et orthographe) :\\n* Âge\\n* Sexe\\n* État général\\n* Statut gestationnel (s\\'il s\\'agit d\\'une femme)\\n* Gestité\\n* Comorbidités\\n* Topographie de la tumeur primaire: Localisation anatomique de la tumeur primaire- Histologie tumorale : Type cellulaire explicite de la tumeur primaire. Ne pas inclure de localisations anatomiques générales (ex. : cancer du sein, tumeur pulmonaire...)\\n* Stade tumoral\\n* Biomarqueurs tumoraux\\n* Sites métastatiques : Localisations anatomiques des métastases\\n* Évolutivité tumorale\\n* Examens pour diagnostic initial: Noms des examens qui ont permis d\\'établir le diagnostic initial de la tumeur primaire\\n* Examens d\\'évaluation du stade tumoral : Noms des examens ayant servi à déterminer le stade tumoral initial- Examens d’évaluation de l’évolutivité tumorale : Noms des examens ayant permis de juger de la progression ou de la stabilité de la maladie dans le temps - Traitements antitumoraux : Type de traitements antitumoraux reçus, y compris les types de chirurgie pratiqués- Lignes de traitement antitumoral\\n* Médicaments antitumoraux : Noms des médicaments antitumoraux administrés\\n* Cycles de chimiothérapie\\n* NFS: résultats explicites (valeurs ou qualificatifs comme \"normal\", \"élevé\",...)\\n* Créatinine : résultats explicites (valeurs ou qualificatifs comme \"normal\", \"élevé\",...)\\n* Bilan hepatique: résultats explicites (valeurs ou qualificatifs comme \"normal\", \"élevé\",...)\\n\\nPar exemple : {\"Âge\": [\"55 ans\"],\"Stade tumoral\" : [\"cT4N1M2\"],\"Examens pour diagnostic initial\": [\"TDM thoracique\", \"IRM cérébrale\"],...}- La sortie doit être un objet JSON au format suivant :{\"CR\": \"le text généré\",\"formulations\": {  \"diagnostics\": {...},  \"informations\": {...}  }}Par exemple : {\"CR\": \"Texte du compte rendu ici...\",\"formulations\": {  \"diagnostics\": {\"poussee hypertension arterielle\": [\"poussée hypertension arterielle\", \"poussée HTA\"]},  \"informations\": {\"Âge\": [\"55 ans\"], \"Stade tumoral\" : [\"cT4N1M2\"], \"Examens pour diagnostic initial\": [\"TDM thoracique\", \"IRM cérébrale\"]}  }}'"
            ]
          },
          "execution_count": 335,
          "metadata": {},
          "output_type": "execute_result"
        }
      ],
      "source": [
        "def prepare_prompt(prompt_path, case):\n",
        "  with open(prompt_path, \"r\", encoding=\"utf-8\") as f:\n",
        "      content = f.read()\n",
        "  return (content\n",
        "          .replace(\"[[SCENARIO here]\", case[\"SCENARIO\"])\n",
        "          .replace(\"[ICD_ALTERNATIVES here]\", case[\"ICD_ALTERNATIVES\"])\n",
        "\n",
        "          )\n",
        "\n",
        "prepare_prompt(\"templates/scenario_onco_v1.txt\",case = {\"SCENARIO\":SCENARIO,\"ICD_ALTERNATIVES\":ICD_ALTERNATIVES})"
      ]
    }
  ],
  "metadata": {
    "colab": {
      "include_colab_link": true,
      "provenance": []
    },
    "kernelspec": {
      "display_name": "Python 3",
      "name": "python3"
    },
    "language_info": {
      "codemirror_mode": {
        "name": "ipython",
        "version": 3
      },
      "file_extension": ".py",
      "mimetype": "text/x-python",
      "name": "python",
      "nbconvert_exporter": "python",
      "pygments_lexer": "ipython3",
      "version": "3.10.6"
    },
    "orig_nbformat": 4,
    "vscode": {
      "interpreter": {
        "hash": "26de051ba29f2982a8de78e945f0abaf191376122a1563185a90213a26c5da77"
      }
    }
  },
  "nbformat": 4,
  "nbformat_minor": 0
}
