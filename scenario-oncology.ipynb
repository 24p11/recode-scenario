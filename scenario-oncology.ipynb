{
 "cells": [
  {
   "cell_type": "markdown",
   "metadata": {},
   "source": [
    "## Creation of oncology fictives clinical scenario for medical documents generation"
   ]
  },
  {
   "cell_type": "code",
   "execution_count": 2,
   "metadata": {},
   "outputs": [],
   "source": [
    "import pandas as pd\n",
    "import numpy as np"
   ]
  },
  {
   "cell_type": "code",
   "execution_count": 3,
   "metadata": {},
   "outputs": [],
   "source": [
    "# Path to repository with references data\n",
    "path_ref = \"~/Documents/data/stream/\""
   ]
  },
  {
   "cell_type": "code",
   "execution_count": 4,
   "metadata": {},
   "outputs": [],
   "source": [
    "#ICD10 cancer files\n",
    "cim_cancer = pd.read_excel(path_ref + \"REFERENTIEL_METHODE_DIM_CANCER_20140411.xls\")\n",
    "codes_cancer = cim_cancer.CIM10\n",
    "\n",
    "racine_chimio = ['28Z07','17M05','17M06']\n",
    "racine_radio = [\"17K04\",\"17K05\",\"17K08\",\"17K09\",\"28Z10\",\"28Z11\",\"28Z18\",\"28Z19\",\n",
    "                \"28Z20\",\"28Z21\",\"28Z22\",\"28Z23\",\"28Z24\",\"28Z25\"]\n",
    "racine_greffe = [\"27Z02\",\"27Z03\",\"27Z04\"]\n",
    "racine_transfusion = [\"28Z14\"]\n",
    "racine_soins_palliatifs = [\"23Z02\"]\n",
    "racine_soins_stomies = [\"06M17\"]\n",
    "racine_aphereses = [\"28Z16\"]\n",
    "racine_deces = [\"04M24\"]\n",
    "racine_bilan = [\"23M03\"]"
   ]
  },
  {
   "cell_type": "code",
   "execution_count": 18,
   "metadata": {},
   "outputs": [],
   "source": [
    "df_situations = pd.read_excel(path_ref + \"situations_cliniques.xlsx\")\n",
    "df_das = pd.read_excel(path_ref + \"situations_cliniques_das.xlsx\")\n",
    "df_actes = pd.read_excel(path_ref + \"situations_cliniques_actes.xlsx\")"
   ]
  },
  {
   "cell_type": "code",
   "execution_count": 69,
   "metadata": {},
   "outputs": [],
   "source": [
    "def prompt_situation(situation):\n",
    "    prompt = \"Hopsitalisation complète\"\n",
    "    \n",
    "    if situation[\"racine\"] in racine_chimio and situation[\"type_hosp\"]  == \"HP\" :\n",
    "\n",
    "        prompt = \"Prise en charge en hospitalisation de jour pour cure de chimiotérapie\"\n",
    "    \n",
    "    elif  situation[\"racine\"] in racine_chimio and situation[\"type_hosp\"]  == \"HC\":\n",
    "\n",
    "        prompt = \"Prise en charge en hospitalisation complète pour cure de chimiotérapie \"\n",
    "\n",
    "    elif situation[\"racine\"] in racine_radio and situation[\"type_hosp\"]  == \"HP\":\n",
    "\n",
    "        prompt = \"Prise en charge en hospitalisation de jour pour séance de radiothérapie\"\n",
    "\n",
    "    elif situation[\"racine\"] in  racine_radio and situation[\"type_hosp\"]  == \"HP\":\n",
    "\n",
    "        prompt = \"Prise en charge en hospitalisation complète pour réalisation du traitment de radiothérapie\"\n",
    "\n",
    "    elif situation[\"racine\"] in racine_greffe: \n",
    "\n",
    "        prompt = \"Prise en charge \" + situation[\"libelle_racine\"]\n",
    "\n",
    "    elif situation[\"racine\"] in racine_transfusion :\n",
    "\n",
    "        prompt = \"Prise en charge \" + situation[\"libelle_racine\"]\n",
    "\n",
    "    elif situation[\"racine\"] in racine_aphereses :\n",
    "\n",
    "        prompt = \"Prise en charge \" + situation[\"libelle_racine\"]\n",
    "\n",
    "    elif situation[\"racine\"] in racine_soins_palliatifs :\n",
    "\n",
    "        prompt = \"Prise en charge \" + situation[\"libelle_racine\"]\n",
    "\n",
    "    elif situation[\"racine\"] in racine_soins_stomies :\n",
    "\n",
    "        prompt = \"Prise en charge \" + situation[\"libelle_racine\"]\n",
    "\n",
    "    elif situation[\"racine\"][2:3] in [\"C\",\"K\"] and situation[\"type_hosp\"]  == \"HP\" :\n",
    "        prompt =  \"Prise en charge en chirugie ambulatoire\"\n",
    "        acte = df_actes[(df_actes.sexe.isin(situation[\"sexe\"])) & (df_actes.racine.isin(situation[\"sexe\"]))  & (df_actes.diag.isin(situation[\"diag\"])) ].sample(1)\n",
    "\n",
    "    elif situation[\"racine\"][2:3] in [\"C\",\"K\"] and situation[\"type_hosp\"]  == \"HC\" :\n",
    "        prompt =  \"Prise en charge en chirugicale en hospitalisation complète\"\n",
    "\n",
    "    elif situation[\"racine\"] in racine_deces | situation[\"mode_sortie\"] == \"DECES\"  :\n",
    "        prompt =  \"Hospitalisation au cours de laquelle le patient est décédé\"\n",
    "\n",
    "    elif situation[\"racine\"] in racine_bilan and situation[\"type_hosp\"]  == \"HP\" :\n",
    "        prompt =  \"Hospitalisation de jour pour bilan et surveillance du cancer\"\n",
    "\n",
    "    elif situation[\"racine\"] in racine_bilan and situation[\"type_hosp\"]  == \"HC\" :\n",
    "        prompt =  \"Hospitalisation de jour pour bilan et surveillance du cancer\"\n",
    "\n",
    "    else :\n",
    "        prompt = \"Première hospitalisation pour découverte de cancer\"# // 70%\n",
    "        prompt = \"Première diagnostique et thérapeuttique dans le cadre d'une rechute du cancer après traitement\" #// 30%\n",
    "\n",
    "\n",
    "\n",
    "    return(prompt)\n"
   ]
  },
  {
   "cell_type": "code",
   "execution_count": 56,
   "metadata": {},
   "outputs": [],
   "source": [
    "situation = df_situations[ df_situations.racine.isin(racine_greffe)].sample(1).iloc[0].to_dict()"
   ]
  },
  {
   "cell_type": "code",
   "execution_count": 66,
   "metadata": {},
   "outputs": [
    {
     "data": {
      "text/plain": [
       "'Autogreffes de cellules souches hématopoïétiques'"
      ]
     },
     "execution_count": 66,
     "metadata": {},
     "output_type": "execute_result"
    }
   ],
   "source": [
    "prompt_situation(situation)"
   ]
  }
 ],
 "metadata": {
  "kernelspec": {
   "display_name": "Python 3.10.6 64-bit",
   "language": "python",
   "name": "python3"
  },
  "language_info": {
   "codemirror_mode": {
    "name": "ipython",
    "version": 3
   },
   "file_extension": ".py",
   "mimetype": "text/x-python",
   "name": "python",
   "nbconvert_exporter": "python",
   "pygments_lexer": "ipython3",
   "version": "3.10.6"
  },
  "orig_nbformat": 4,
  "vscode": {
   "interpreter": {
    "hash": "26de051ba29f2982a8de78e945f0abaf191376122a1563185a90213a26c5da77"
   }
  }
 },
 "nbformat": 4,
 "nbformat_minor": 2
}
