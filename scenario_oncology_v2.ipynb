{
  "cells": [
    {
      "cell_type": "markdown",
      "metadata": {
        "id": "view-in-github",
        "colab_type": "text"
      },
      "source": [
        "<a href=\"https://colab.research.google.com/github/24p11/recode-scenario/blob/main/scenario_oncology_v2.ipynb\" target=\"_parent\"><img src=\"https://colab.research.google.com/assets/colab-badge.svg\" alt=\"Open In Colab\"/></a>"
      ]
    },
    {
      "cell_type": "markdown",
      "metadata": {
        "id": "TA98me3BVrPP"
      },
      "source": [
        "## Creation of oncology fictive clinical scenarios for medical documents generation"
      ]
    },
    {
      "cell_type": "code",
      "execution_count": 1,
      "metadata": {
        "id": "iYwLpeT3VrPQ"
      },
      "outputs": [],
      "source": [
        "import pandas as pd\n",
        "import numpy as np\n",
        "import datetime as dt"
      ]
    },
    {
      "cell_type": "code",
      "source": [
        "from google.colab import drive\n",
        "drive.mount('/content/drive')"
      ],
      "metadata": {
        "id": "353Ndva9Zco0",
        "outputId": "cdcff2c4-6be9-4b4b-ba61-01c03888c760",
        "colab": {
          "base_uri": "https://localhost:8080/"
        }
      },
      "execution_count": 2,
      "outputs": [
        {
          "output_type": "stream",
          "name": "stdout",
          "text": [
            "Drive already mounted at /content/drive; to attempt to forcibly remount, call drive.mount(\"/content/drive\", force_remount=True).\n"
          ]
        }
      ]
    },
    {
      "cell_type": "code",
      "execution_count": 3,
      "metadata": {
        "id": "GXKrzRHZVrPQ"
      },
      "outputs": [],
      "source": [
        "# Path to repository with references data\n",
        "path_ref = \"/content/drive/MyDrive/Referentials/\""
      ]
    },
    {
      "cell_type": "code",
      "execution_count": 4,
      "metadata": {
        "id": "OBsXs1EzVrPQ"
      },
      "outputs": [],
      "source": [
        "# ICD10 cancer files\n",
        "cim_cancer = pd.read_excel(path_ref + \"REFERENTIEL_METHODE_DIM_CANCER_20140411.xls\")\n",
        "codes_cancer = cim_cancer.CIM10\n",
        "codes_cancer_meta = [\"C770\",\"C771\",\"C772\",\"C773\",\"C774\",\"C775\",\"C778\",\"C779\",\n",
        "             \"C780\",\"C781\",\"C782\",\"C783\",\"C784\",\"C785\",\"C786\",\"C787\",\"C788\",\n",
        "             \"C790\",\"C791\",\"C792\",\"C793\",\"C794\",\"C795\",\"C796\",\"C797\",\"C798\"]\n",
        "\n",
        "racine_chimio = ['28Z07','17M05','17M06']\n",
        "racine_radio = [\"17K04\",\"17K05\",\"17K08\",\"17K09\",\"28Z10\",\"28Z11\",\"28Z18\",\"28Z19\",\n",
        "                \"28Z20\",\"28Z21\",\"28Z22\",\"28Z23\",\"28Z24\",\"28Z25\"]\n",
        "racine_greffe = [\"27Z02\",\"27Z03\",\"27Z04\"]\n",
        "racine_transfusion = [\"28Z14\"]\n",
        "racine_soins_palliatifs = [\"23Z02\"]\n",
        "racine_soins_stomies = [\"06M17\"]\n",
        "racine_aphereses = [\"28Z16\"]\n",
        "racine_deces = [\"04M24\"]\n",
        "racine_bilan = [\"23M03\"]\n"
      ]
    },
    {
      "cell_type": "code",
      "execution_count": 5,
      "metadata": {
        "id": "nfKg_egrVrPR"
      },
      "outputs": [],
      "source": [
        "df_situations = pd.read_excel(path_ref + \"situations_cliniques.xlsx\")\n",
        "df_das = pd.read_excel(path_ref + \"situations_cliniques_das.xlsx\")\n",
        "df_actes = pd.read_excel(path_ref + \"situations_cliniques_actes.xlsx\")\n",
        "df_icd_official = pd.read_excel(path_ref + \"cim_2024.xlsx\")\n",
        "df_icd_syn = pd.read_csv(path_ref + \"cim_synonymes.csv\").dropna()\n",
        "df_chronique = pd.read_excel(path_ref + \"Affections chroniques.xlsx\",header=None,names=[\"code\",\"chronic\",\"libelle\"])\n",
        "df_stats_racines =  pd.read_excel(path_ref + \"stat_racines.xlsx\")\n",
        "df_names = pd.read_csv(path_ref + \"prenoms_nom_sexe.csv\",sep=\";\").dropna()"
      ]
    },
    {
      "cell_type": "markdown",
      "source": [
        "New table DAS for chronic diseases with regrouping key = new_cage, racine, sexe, mode_sortie"
      ],
      "metadata": {
        "id": "PfiXabMkN2rw"
      }
    },
    {
      "cell_type": "code",
      "source": [
        "df_das_racine = pd.read_csv(path_ref + \"situations_das_racine_rgp_20250805.csv\")\n",
        "df_das_racine.rename(columns={\"cage\":\"new_cage\"},inplace=True)"
      ],
      "metadata": {
        "id": "cCfQGL4RBpvu"
      },
      "execution_count": 6,
      "outputs": []
    },
    {
      "cell_type": "code",
      "source": [
        "df_stats_racines = df_stats_racines.assign(dsd = np.where(df_stats_racines.dsd.isna(),1,df_stats_racines.dsd))"
      ],
      "metadata": {
        "id": "1eElwdUlfWT1"
      },
      "execution_count": 7,
      "outputs": []
    },
    {
      "cell_type": "code",
      "source": [
        "#Add standard deviation of length of stay\n",
        "df_situations = df_situations.merge(df_stats_racines[[\"racine\",\"dsd\"]],how=\"left\")"
      ],
      "metadata": {
        "id": "XGNys-tCOh9K"
      },
      "execution_count": 8,
      "outputs": []
    },
    {
      "cell_type": "markdown",
      "source": [
        "Chronic disease are ranked 1,2 or 3 in the file ICD chronic."
      ],
      "metadata": {
        "id": "Z0ryBUM_kWZ_"
      }
    },
    {
      "cell_type": "code",
      "source": [
        "icd_chronic = df_chronique[df_chronique.chronic.isin([1,2,3])].code.to_list()"
      ],
      "metadata": {
        "id": "fX0x3XhFh1Ca"
      },
      "execution_count": 9,
      "outputs": []
    },
    {
      "cell_type": "markdown",
      "source": [
        "Make a higher hierarchie for DAS :\n",
        "- key between df_situations and df_das will be :\n",
        "  * sexe,\n",
        "  * new_cage,\n",
        "  * categ_cim"
      ],
      "metadata": {
        "id": "OB3z3xmbgbaZ"
      }
    },
    {
      "cell_type": "code",
      "source": [
        "\n",
        "df_situations = df_situations.assign(new_cage= np.where(df_situations.cage.isin([\"[18-30[\",\"[30-40[\",\"[40-50[\"]),\"[18-50[\",\n",
        "                                 np.where(df_situations.cage.isin([\"[50-60[\",\"[60-70[\",\"[[70-80[\",\"[80-[\"]),\"[50-[\",\"[0-18[\")),\n",
        "              categ_cim = df_situations.diag.str.slice(0,3))\n",
        "\n",
        "df_das = df_das.assign(new_cage= np.where(df_das.cage.isin([\"[18-30[\",\"[30-40[\",\"[40-50[\"]),\"[18-50[\",\n",
        "                                 np.where(df_das.cage.isin([\"[50-60[\",\"[60-70[\",\"[[70-80[\",\"[80-[\"]),\"[50-[\",\"[0-18[\")),\n",
        "              categ_cim = df_das.diag.str.slice(0,3))\n",
        "\n"
      ],
      "metadata": {
        "id": "lwWsurfzn_gF"
      },
      "execution_count": 10,
      "outputs": []
    },
    {
      "cell_type": "markdown",
      "source": [
        "calculate new values for the number of time each DAS as been used for each key (sexe,new_cage,categ_cim)"
      ],
      "metadata": {
        "id": "PhPBhqOegktb"
      }
    },
    {
      "cell_type": "code",
      "source": [
        "df_das_new= df_das.groupby([\"sexe\",\"new_cage\",\"das\",\"categ_cim\"]).agg({\"nb_das\":\"sum\"}).reset_index()"
      ],
      "metadata": {
        "id": "GjCvvltSofT2"
      },
      "execution_count": 11,
      "outputs": []
    },
    {
      "cell_type": "markdown",
      "source": [
        "For cancer patients we will make 3 DAS dataframe :\n",
        "- Metastasis : for each cancer (categ_cim) we will calculate in national database the number of case with a least one metastase and the mean number of metastase\n",
        "- Chronicle desease : chronic desease from which we remove cancer\n",
        "- Acute diseases which we will call complications"
      ],
      "metadata": {
        "id": "aGje19TshIkF"
      }
    },
    {
      "cell_type": "code",
      "source": [
        "df_das_new_meta = df_das_new[df_das_new.das.isin(codes_cancer_meta)].reset_index(drop=True)\n",
        "df_das_new_chronic = df_das_new[(~df_das_new.das.isin(codes_cancer_meta)) & (df_das_new.das.isin(icd_chronic)) & ~(df_das_new.das.str.slice(0,1)==\"Z\")& ~(df_das_new.das.isin(codes_cancer))  ].reset_index(drop=True)\n",
        "#  df_das_new_complication = df_das_new[(~df_das_new.das.isin(codes_cancer_meta)) & ~(df_das_new.das.isin(icd_chronic)) & ~(df_das_new.das.str.slice(0,1)==\"Z\")].reset_index(drop=True)\n",
        "df_das_new_complication = df_das_racine[(~df_das_racine.das.isin(codes_cancer_meta)) & ~(df_das_racine.das.isin(icd_chronic)) & ~(df_das_racine.das.str.slice(0,1)==\"Z\")].reset_index(drop=True)"
      ],
      "metadata": {
        "id": "UzI6Y1eBgZ2a"
      },
      "execution_count": 12,
      "outputs": []
    },
    {
      "cell_type": "code",
      "source": [
        "df_das_new_meta_n_distinct = df_das_new_meta.groupby([\"sexe\",\"new_cage\",\"categ_cim\"]).agg(nb_distinct_das = (\"das\",\"nunique\")).reset_index()\n",
        "df_das_new_chronic_n_distinct = df_das_new_chronic.groupby([\"sexe\",\"new_cage\",\"categ_cim\"]).agg(nb_distinct_das = (\"das\",\"nunique\")).reset_index()\n",
        "df_das_new_complication_n_distinct = df_das_new_complication.groupby([\"sexe\",\"new_cage\",\"racine\",\"mode_sortie\"]).agg(nb_distinct_das = (\"das\",\"nunique\")).reset_index()"
      ],
      "metadata": {
        "id": "8Owh01bUizbp"
      },
      "execution_count": 13,
      "outputs": []
    },
    {
      "cell_type": "markdown",
      "source": [
        "# Usefull functions"
      ],
      "metadata": {
        "id": "h30ZMJX5QMJy"
      }
    },
    {
      "cell_type": "markdown",
      "source": [
        "### Attribute DAS to each situations\n",
        "\n",
        "Function to attribute DAS for each key (sexe,new_cage,categ_cim):\n",
        "- Metastase :\n",
        "  * choose randomly if patient has a metastase regarding metastasis distribution\n",
        "  * choose randomly the number of metastasis in df_das_new_meta_n_distinct\n",
        "  * choose randomly the metastic codes in df_das_new_meta regarding distribution of case (nb_das)\n",
        "- Chronic disease :\n",
        "  * choose randomly the number of chronic disease in regard with df_das_new_chronic_n_distinct taking into account a zero option\n",
        "  * choose randomly the list of chronic disease in the df_das_new_chronic dataset regarding distribution of case (nb_das)\n",
        "- Complication :\n",
        "  * choose randomly the number of complications in regard with df_das_new_complication_n_distinct taking into account a zero option\n",
        "  * choose randomly the list of complications in the df_das_new_complication dataset regarding distribution of case (nb_das)\n",
        "\n",
        "For each ICD code at the end choose the right formulation in the"
      ],
      "metadata": {
        "id": "7KHlcc5Qjoha"
      }
    },
    {
      "cell_type": "code",
      "source": [
        "def sample_from_df(df_nb,df_values,max_nb,situation):\n",
        "\n",
        "  df_values[\"libelle\"] = \"\"\n",
        "\n",
        "  nb_theo = df_nb.nb_distinct_das[(df_nb.new_cage == situation.new_cage) &\n",
        "                           (df_nb.sexe == situation.sexe) &\n",
        "                           (df_nb.categ_cim == situation.categ_cim) ]\n",
        "\n",
        "  icd_theo = df_values[(df_values.new_cage == situation.new_cage) &\n",
        "                  (df_values.sexe == situation.sexe) &\n",
        "                  (df_values.categ_cim == situation.categ_cim) ]\n",
        "\n",
        "  if len(nb_theo)==0:\n",
        "    return pd.DataFrame(columns=df_values.columns)\n",
        "\n",
        "  nb = np.minimum(np.random.randint(nb_theo, size=1)[0],max_nb)\n",
        "\n",
        "  if nb > 0:\n",
        "   icds = icd_theo.sample(nb, replace=False)\n",
        "   icds[\"libelle\"] = icds.das.apply(get_synonym)\n",
        "   return icds\n",
        "  else:\n",
        "    return pd.DataFrame(columns=df_values.columns)\n",
        "\n",
        "\n",
        "def sample_from_df(df_nb,df_values,col_weights,max_nb,distinct_chapter,situation):\n",
        "\n",
        "  df_values[\"libelle\"] = \"\"\n",
        "\n",
        "  query = ' & '.join(['{}=={}'.format(k, \"'{}'\".format(v) if isinstance(v, str) else v) for k, v in situation.items() if k in df_nb.columns  ])\n",
        "\n",
        "  nb_theo = df_nb.query(query).nb_distinct_das\n",
        "\n",
        "  icd_theo = df_values.query(query)\n",
        "\n",
        "  if len(nb_theo)==0:\n",
        "    return pd.DataFrame(columns=df_values.columns)\n",
        "\n",
        "  nb_max_das = np.minimum(nb_theo,max_nb)\n",
        "  nb = np.random.randint(nb_max_das, size=1)[0]\n",
        "\n",
        "  if nb > 0:\n",
        "\n",
        "      #Codes are from different chapter of ICD10\n",
        "      if distinct_chapter == True:\n",
        "\n",
        "        icds=None\n",
        "        chapter = []\n",
        "\n",
        "        for i in range(1,nb+1):\n",
        "            icds=pd.concat([icds,icd_theo[~(icd_theo.das.str.slice(0,1).isin(chapter))].sample(1, replace=False, weights =col_weights  )])\n",
        "            chapter = icds.das.str.slice(0,1).to_list()\n",
        "\n",
        "      else:\n",
        "        icds = icd_theo.sample(nb, replace=False, weights =col_weights)\n",
        "\n",
        "      icds[\"libelle\"] = icds.das.apply(get_synonym)\n",
        "      return icds\n",
        "\n",
        "\n",
        "  else:\n",
        "    return pd.DataFrame(columns=df_values.columns)"
      ],
      "metadata": {
        "id": "zhAN5JvBrWWb"
      },
      "execution_count": 14,
      "outputs": []
    },
    {
      "cell_type": "markdown",
      "source": [
        "### Get synomym from ICD10 code"
      ],
      "metadata": {
        "id": "OBp1wtq1QFo2"
      }
    },
    {
      "cell_type": "code",
      "source": [
        "def get_synonym(code):\n",
        "\n",
        "  if code in codes_cancer_meta:\n",
        "    synonyms = df_icd_syn.dictionary_keys[(df_icd_syn.code==code) & ( df_icd_syn.dictionary_keys.str.contains(\"metastase\"))]\n",
        "  else:\n",
        "    synonyms = df_icd_syn.dictionary_keys[df_icd_syn.code==code]\n",
        "\n",
        "  #synonyms = df_icd_syn.dictionary_keys[df_icd_syn.code==code]\n",
        "  if len(synonyms) > 0:\n",
        "    return str(synonyms.sample(1).iloc[0])\n",
        "  else:\n",
        "    # Check if the code exists in the official ICD list\n",
        "    official_libelle = df_icd_official.libelle[df_icd_official.code==code]\n",
        "    if len(official_libelle) > 0:\n",
        "      return str(official_libelle.iloc[0])\n",
        "    else:\n",
        "      return \"\" # Return empty string if code not found in official list"
      ],
      "metadata": {
        "id": "bXGB5y6kG42R"
      },
      "execution_count": 15,
      "outputs": []
    },
    {
      "cell_type": "markdown",
      "source": [
        "### Generate random date"
      ],
      "metadata": {
        "id": "2x_PwDaWQCb5"
      }
    },
    {
      "cell_type": "code",
      "source": [
        "import datetime\n",
        "import random\n",
        "\n",
        "def random_date(year,exclude_weekends=False):\n",
        "  \"\"\"Generates a random date in the year 2024.\n",
        "\n",
        "  Args:\n",
        "    exclude_weekends: If True, excludes Saturdays and Sundays.\n",
        "  \"\"\"\n",
        "  while True:\n",
        "    year = 2024\n",
        "    month = random.randint(1, 12)\n",
        "    # Get the number of days in the randomly chosen month\n",
        "    if month == 2:\n",
        "      if year % 4 == 0 and (year % 100 != 0 or year % 400 == 0): # Check for leap year\n",
        "        day = random.randint(1, 29)\n",
        "      else:\n",
        "        day = random.randint(1, 28)\n",
        "    elif month in [4, 6, 9, 11]:\n",
        "      day = random.randint(1, 30)\n",
        "    else:\n",
        "      day = random.randint(1, 31)\n",
        "\n",
        "    random_date = datetime.date(year, month, day)\n",
        "\n",
        "    if exclude_weekends:\n",
        "      if random_date.weekday() < 5:  # Monday is 0, Sunday is 6\n",
        "        break\n",
        "    else:\n",
        "      break\n",
        "  return random_date"
      ],
      "metadata": {
        "id": "8q2uDrU_QBY-"
      },
      "execution_count": 28,
      "outputs": []
    },
    {
      "cell_type": "markdown",
      "source": [
        "Generate a date between 2 dates for date of birth"
      ],
      "metadata": {
        "id": "tKC_4BAfZ3Uv"
      }
    },
    {
      "cell_type": "code",
      "source": [
        "def random_date_between(start_date, end_date):\n",
        "  \"\"\"Generates a random date between two datetime.date objects (inclusive).\"\"\"\n",
        "  time_between_dates = end_date - start_date\n",
        "  days_between_dates = time_between_dates.days\n",
        "  random_number_of_days = random.randrange(days_between_dates + 1)\n",
        "  random_date = start_date + datetime.timedelta(days=random_number_of_days)\n",
        "  return random_date"
      ],
      "metadata": {
        "id": "CQILQUbSZ9MA"
      },
      "execution_count": 29,
      "outputs": []
    },
    {
      "cell_type": "markdown",
      "source": [
        "### Generate date of entry and date of discharge from Mean Length of Stay (MLOS) and Standard Deviaton length of stay (DSLOS)"
      ],
      "metadata": {
        "id": "6PREZyxWTrBx"
      }
    },
    {
      "cell_type": "code",
      "source": [
        "def get_dates_of_stay(type_hospitalisation, entry_mode,mols,sdlos):\n",
        "\n",
        "  if type_hospitalisation == \"HP\" :\n",
        "    date_entry = date_discharge = random_date(2024,exclude_weekends=False)\n",
        "\n",
        "  else:\n",
        "    los = int(np.round(np.random.normal(mols, sdlos, 1))[0])\n",
        "\n",
        "\n",
        "    if entry_mode==\"URGENCES\":\n",
        "     date_entry = random_date(2024,exclude_weekends=False)\n",
        "    else :\n",
        "      date_entry = random_date(2024,exclude_weekends=True)\n",
        "\n",
        "    date_discharge = date_entry + datetime.timedelta(days=los)\n",
        "\n",
        "  return date_entry, date_discharge\n",
        "\n"
      ],
      "metadata": {
        "id": "ji9p_ckzT0ev"
      },
      "execution_count": 30,
      "outputs": []
    },
    {
      "cell_type": "markdown",
      "source": [
        "### Extraction first and second age from age categorie"
      ],
      "metadata": {
        "id": "Dtju9r3CYC0w"
      }
    },
    {
      "cell_type": "code",
      "source": [
        "import re\n",
        "\n",
        "def extract_integers_from_cage(cage_string):\n",
        "  \"\"\"Extracts integer values from a string in the format \"[x-y[\" or \"[x-[\" and considers y as 90 if missing.\"\"\"\n",
        "  match = re.match(r\"\\[(\\d+)-(\\d+)\\[\", cage_string.strip())\n",
        "  if match:\n",
        "    return [int(match.group(1)), int(match.group(2))]\n",
        "  else:\n",
        "    # Handle the case for \"[x-[\" format like \"[80-[\"\n",
        "    match_single = re.match(r\"\\[(\\d+)-\\[\", cage_string.strip())\n",
        "    if match_single:\n",
        "      return [int(match_single.group(1)), 90] # Consider missing y as 100\n",
        "    else:\n",
        "      return [] # Return empty list if no match\n",
        "\n"
      ],
      "metadata": {
        "id": "abJseN_oYBwB"
      },
      "execution_count": 31,
      "outputs": []
    },
    {
      "cell_type": "markdown",
      "source": [
        "### Get random age from age categorie"
      ],
      "metadata": {
        "id": "Lh7dd-QGYMOm"
      }
    },
    {
      "cell_type": "code",
      "source": [
        "def get_age(cage):\n",
        "  age_min,age_max =extract_integers_from_cage(cage)\n",
        "  return random.randint(age_min, age_max)\n",
        "\n"
      ],
      "metadata": {
        "id": "tHsKWM6RYLwY"
      },
      "execution_count": 32,
      "outputs": []
    },
    {
      "cell_type": "markdown",
      "source": [
        "### Get first and last name"
      ],
      "metadata": {
        "id": "aN6QV9gypehG"
      }
    },
    {
      "cell_type": "code",
      "source": [
        "def get_names(gender):\n",
        "  first_name = df_names.prenom[(df_names.sexe==gender) & (df_names.prenom.str.len()>3)].sample(1).iloc[0]\n",
        "  last_name = df_names.nom[ (df_names.nom.str.len()>3)].sample(1).iloc[0]\n",
        "\n",
        "\n",
        "\n",
        "  return first_name[0].upper() + first_name[1:].lower() ,last_name[0].upper() + last_name[1:].lower()"
      ],
      "metadata": {
        "id": "KVDp_VJ_pjEN"
      },
      "execution_count": 33,
      "outputs": []
    },
    {
      "cell_type": "markdown",
      "source": [
        "### Define \"mode de prise en charge\""
      ],
      "metadata": {
        "id": "WTglpoM0f69s"
      }
    },
    {
      "cell_type": "code",
      "source": [
        "def define_md_pec(case):\n",
        "    situa = \"\"\n",
        "    code = 0\n",
        "\n",
        "    if case[\"racine\"] in racine_chimio and case[\"type_hosp\"]  == \"HP\" :\n",
        "      situa = \"Prise en charge en hospitalisation de jour pour cure de chimiothérapie\"\n",
        "      code = 1\n",
        "\n",
        "    elif case[\"racine\"] in racine_chimio and case[\"type_hosp\"]  == \"HC\":\n",
        "      situa = \"Prise en charge en hospitalisation complète pour cure de chimiothérapie\"\n",
        "      code = 2\n",
        "\n",
        "    elif case[\"racine\"] in racine_radio and case[\"type_hosp\"]  == \"HP\":\n",
        "      situa = \"Prise en charge en hospitalisation de jour pour séance de radiothérapie\"\n",
        "      code = 3\n",
        "\n",
        "    elif case[\"racine\"] in racine_radio and case[\"type_hosp\"]  == \"HC\":\n",
        "      situa = \"Prise en charge en hospitalisation complète pour réalisation du traitment de radiothérapie\"\n",
        "      code = 4\n",
        "\n",
        "    elif case[\"racine\"] in racine_greffe:\n",
        "      situa = \"Prise en charge pour \" + case[\"libelle_racine\"].lower()\n",
        "      code = 5\n",
        "\n",
        "    elif case[\"racine\"] in racine_transfusion :\n",
        "      situa = \"Prise en charge pour \" + case[\"libelle_racine\"].lower()\n",
        "      code = 6\n",
        "\n",
        "    elif case[\"racine\"] in racine_aphereses :\n",
        "      situa = \"Prise en charge pour \" + case[\"libelle_racine\"].lower()\n",
        "      code = 7\n",
        "\n",
        "    elif case[\"racine\"] in racine_soins_palliatifs :\n",
        "      actes = df_actes[(df_actes[\"racine\"] == case[\"racine\"]) &\\\n",
        "                       (df_actes[\"type_hosp\"] == case[\"type_hosp\"]) &\\\n",
        "                       (df_actes[\"sexe\"] == case[\"sexe\"]) &\\\n",
        "                       (df_actes[\"diag\"] == case[\"diag\"])]\n",
        "\n",
        "      if len(actes) > 0:\n",
        "        situa = \"Prise en charge pour soins palliatifs avec \" + actes.sample(1).iloc[0].copy()[\"libelle_long\"].lower()\n",
        "      else:\n",
        "        situa = \"Prise en charge pour soins palliatifs\"\n",
        "\n",
        "      code = 8\n",
        "\n",
        "    elif case[\"racine\"] in racine_soins_stomies:\n",
        "      situa = \"Prise en charge pour \" + case[\"libelle_racine\"].lower()\n",
        "      code = 9\n",
        "\n",
        "    elif (case[\"racine\"] in racine_deces) | (case[\"mode_sortie\"] == \"DECES\"):\n",
        "      situa =  \"Hospitalisation au cours de laquelle le patient est décédé\"\n",
        "      code = 10\n",
        "\n",
        "    elif case[\"racine\"][2:3] in [\"C\",\"K\"] and case[\"type_hosp\"]  == \"HP\" :\n",
        "      situa =  \"Prise en charge en chirugie ambulatoire pour \"\n",
        "      actes = df_actes[(df_actes[\"racine\"] == case[\"racine\"]) &\\\n",
        "                       (df_actes[\"type_hosp\"] == case[\"type_hosp\"]) &\\\n",
        "                       (df_actes[\"sexe\"] == case[\"sexe\"]) &\\\n",
        "                       (df_actes[\"diag\"] == case[\"diag\"])]\n",
        "\n",
        "      if len(actes) > 0:\n",
        "        situa += actes.sample(1).iloc[0].copy()[\"libelle_long\"].lower()\n",
        "\n",
        "      code = 11\n",
        "\n",
        "    elif case[\"racine\"][2:3] in [\"C\",\"K\"] and case[\"type_hosp\"]  == \"HC\" :\n",
        "      situa =  \"Prise en charge chirugicale en hospitalisation complète pour \"\n",
        "      actes = df_actes[(df_actes[\"racine\"] == case[\"racine\"]) &\\\n",
        "                       (df_actes[\"type_hosp\"] == case[\"type_hosp\"]) &\\\n",
        "                       (df_actes[\"sexe\"] == case[\"sexe\"]) &\\\n",
        "                       (df_actes[\"diag\"] == case[\"diag\"])]\n",
        "\n",
        "      if len(actes) > 0:\n",
        "        situa += actes.sample(1).iloc[0].copy()[\"libelle_long\"].lower()\n",
        "\n",
        "      code = 12\n",
        "\n",
        "    else :\n",
        "      option = np.random.choice(3, p=[0.4, 0.3, 0.3])\n",
        "      if option == 0:\n",
        "        situa = \"Première hospitalisation pour découverte de cancer\" # 40%\n",
        "        code = 13\n",
        "      elif option == 1:\n",
        "        situa = \"Première diagnostique et thérapeutique dans le cadre d'une rechute du cancer après traitement\" # 30%\n",
        "        code = 14\n",
        "      else:\n",
        "        situa =  \"Hospitalisation pour bilan et surveillance du cancer\" # 30%\n",
        "        code = 15\n",
        "\n",
        "    return (situa, code)"
      ],
      "metadata": {
        "id": "MWJiWv0jmL_q"
      },
      "execution_count": 34,
      "outputs": []
    },
    {
      "cell_type": "markdown",
      "source": [
        "# Make clinical scenario from situations\n"
      ],
      "metadata": {
        "id": "gaeSrEVZQW4x"
      }
    },
    {
      "cell_type": "markdown",
      "source": [
        "Define all the necessary variables"
      ],
      "metadata": {
        "id": "HBJ5uXutJ2xB"
      }
    },
    {
      "cell_type": "code",
      "source": [
        "scenario = {}\n",
        "situation = df_situations.iloc[1000,:]\n",
        "situation"
      ],
      "metadata": {
        "colab": {
          "base_uri": "https://localhost:8080/",
          "height": 554
        },
        "id": "1Ec5fi2RqUtQ",
        "outputId": "63961d8a-a96d-436a-8201-e5c548ffc64d"
      },
      "execution_count": 35,
      "outputs": [
        {
          "output_type": "execute_result",
          "data": {
            "text/plain": [
              "diag                                                           C040\n",
              "cage                                                        [60-70[\n",
              "sexe                                                              1\n",
              "mode_entree                                                DOMICILE\n",
              "mode_sortie                                                DOMICILE\n",
              "type_hosp                                                        HC\n",
              "racine                                                        03M07\n",
              "gp                                                              X09\n",
              "ga                                                             G092\n",
              "nb                                                               42\n",
              "dms                                                            2.75\n",
              "libelle_racine    Tumeurs malignes des oreilles, du nez, de la g...\n",
              "dsd                                                       10.085467\n",
              "new_cage                                                      [50-[\n",
              "categ_cim                                                       C04\n",
              "Name: 1000, dtype: object"
            ],
            "text/html": [
              "<div>\n",
              "<style scoped>\n",
              "    .dataframe tbody tr th:only-of-type {\n",
              "        vertical-align: middle;\n",
              "    }\n",
              "\n",
              "    .dataframe tbody tr th {\n",
              "        vertical-align: top;\n",
              "    }\n",
              "\n",
              "    .dataframe thead th {\n",
              "        text-align: right;\n",
              "    }\n",
              "</style>\n",
              "<table border=\"1\" class=\"dataframe\">\n",
              "  <thead>\n",
              "    <tr style=\"text-align: right;\">\n",
              "      <th></th>\n",
              "      <th>1000</th>\n",
              "    </tr>\n",
              "  </thead>\n",
              "  <tbody>\n",
              "    <tr>\n",
              "      <th>diag</th>\n",
              "      <td>C040</td>\n",
              "    </tr>\n",
              "    <tr>\n",
              "      <th>cage</th>\n",
              "      <td>[60-70[</td>\n",
              "    </tr>\n",
              "    <tr>\n",
              "      <th>sexe</th>\n",
              "      <td>1</td>\n",
              "    </tr>\n",
              "    <tr>\n",
              "      <th>mode_entree</th>\n",
              "      <td>DOMICILE</td>\n",
              "    </tr>\n",
              "    <tr>\n",
              "      <th>mode_sortie</th>\n",
              "      <td>DOMICILE</td>\n",
              "    </tr>\n",
              "    <tr>\n",
              "      <th>type_hosp</th>\n",
              "      <td>HC</td>\n",
              "    </tr>\n",
              "    <tr>\n",
              "      <th>racine</th>\n",
              "      <td>03M07</td>\n",
              "    </tr>\n",
              "    <tr>\n",
              "      <th>gp</th>\n",
              "      <td>X09</td>\n",
              "    </tr>\n",
              "    <tr>\n",
              "      <th>ga</th>\n",
              "      <td>G092</td>\n",
              "    </tr>\n",
              "    <tr>\n",
              "      <th>nb</th>\n",
              "      <td>42</td>\n",
              "    </tr>\n",
              "    <tr>\n",
              "      <th>dms</th>\n",
              "      <td>2.75</td>\n",
              "    </tr>\n",
              "    <tr>\n",
              "      <th>libelle_racine</th>\n",
              "      <td>Tumeurs malignes des oreilles, du nez, de la g...</td>\n",
              "    </tr>\n",
              "    <tr>\n",
              "      <th>dsd</th>\n",
              "      <td>10.085467</td>\n",
              "    </tr>\n",
              "    <tr>\n",
              "      <th>new_cage</th>\n",
              "      <td>[50-[</td>\n",
              "    </tr>\n",
              "    <tr>\n",
              "      <th>categ_cim</th>\n",
              "      <td>C04</td>\n",
              "    </tr>\n",
              "  </tbody>\n",
              "</table>\n",
              "</div><br><label><b>dtype:</b> object</label>"
            ]
          },
          "metadata": {},
          "execution_count": 35
        }
      ]
    },
    {
      "cell_type": "code",
      "source": [
        "situation = df_situations.iloc[1587,:]\n",
        "scenario = {}\n",
        "\n",
        "if situation.diag in codes_cancer :\n",
        "  scenario[\"diagnosis\"] = situation.diag\n",
        "else :\n",
        "  scenario[\"diagnosis\"] = get_synonym(situation.diag)\n",
        "\n",
        "scenario[\"age\"] = get_age(situation.cage)\n",
        "scenario[\"metastases\"] =  sample_from_df(df_das_new_meta_n_distinct,df_das_new_meta,\"nb_das\",4,False,situation).libelle.to_list()\n",
        "scenario[\"chronic_diseases\"] =   sample_from_df(df_das_new_chronic_n_distinct,df_das_new_chronic,\"nb_das\",5,False,situation).libelle.to_list()\n",
        "scenario[\"complications\"] = sample_from_df(df_das_new_complication_n_distinct,df_das_new_complication,\"nb_situations\",5,True,situation).libelle.to_list()\n",
        "scenario[\"date_entry\"],scenario[\"date_discharge\"] = get_dates_of_stay(situation.type_hosp,situation.mode_entree,situation.dms,situation.dsd)\n",
        "scenario[\"date_of_birth\"] = random_date_between( scenario[\"date_entry\"] - datetime.timedelta(days = 365*(scenario[\"age\"]+1)) , scenario[\"date_entry\"] - datetime.timedelta(days = 365*(scenario[\"age\"])))\n",
        "scenario[\"md_pec\"] , scenario[\"cd_md_pec\"] = define_md_pec(situation)\n",
        "scenario[\"first_name\"] , scenario[\"laste_name\"] = get_names(situation.sexe)\n",
        "scenario[\"first_name_med\"] , scenario[\"laste_name_med\"] = get_names(random.randint(1, 2))"
      ],
      "metadata": {
        "id": "3McOmhzBr_D4"
      },
      "execution_count": 54,
      "outputs": []
    },
    {
      "cell_type": "code",
      "source": [
        "situation.diag"
      ],
      "metadata": {
        "colab": {
          "base_uri": "https://localhost:8080/",
          "height": 35
        },
        "id": "tUtqJ63kqZl4",
        "outputId": "a36ba3a9-64c5-4744-c248-0a926dbc21d6"
      },
      "execution_count": 56,
      "outputs": [
        {
          "output_type": "execute_result",
          "data": {
            "text/plain": [
              "'C180'"
            ],
            "application/vnd.google.colaboratory.intrinsic+json": {
              "type": "string"
            }
          },
          "metadata": {},
          "execution_count": 56
        }
      ]
    },
    {
      "cell_type": "code",
      "source": [
        "def make_scenario(situation):\n",
        "  scenario = {}\n",
        "\n",
        "  scenario[\"diagnosis\"] = get_synonym(situation.diag)\n",
        "  scenario[\"age\"] = get_age(situation.cage)\n",
        "  scenario[\"metastases\"] =  sample_from_df(df_das_new_meta_n_distinct,df_das_new_meta,5,False,situation).libelle.to_list()\n",
        "  scenario[\"chronic_diseases\"] =   sample_from_df(df_das_new_chronic_n_distinct,df_das_new_chronic,5,False,situation).libelle.to_list()\n",
        "  scenario[\"complications\"] = sample_from_df(df_das_new_complication_n_distinct,df_das_new_complication,5,True,situation).libelle.to_list()\n",
        "  scenario[\"date_entry\"],scenario[\"date_discharge\"] = get_dates_of_stay(situation.type_hosp,situation.mode_entree,situation.dms,situation.dsd)\n",
        "  scenario[\"date_of_birth\"] = random_date_between( scenario[\"date_entry\"] - datetime.timedelta(days = 365*(scenario[\"age\"]+1)) , scenario[\"date_entry\"] - datetime.timedelta(days = 365*(scenario[\"age\"])))\n",
        "  scenario[\"md_pec\"] , scenario[\"cd_md_pec\"] = define_md_pec(situation)\n",
        "  scenario[\"first_name\"] , scenario[\"laste_name\"] = get_names(situation.sexe)\n",
        "  scenario[\"first_name_med\"] , scenario[\"laste_name_med\"] = get_names(random.randint(1, 2))\n",
        "\n",
        "  return(scenario)\n"
      ],
      "metadata": {
        "id": "YVo3CUosa9VJ"
      },
      "execution_count": null,
      "outputs": []
    },
    {
      "cell_type": "code",
      "source": [
        "n_sample = 20\n",
        "\n",
        "df_situations_scenario = df_situations.sample(n_sample, replace=False,weights=\"nb\").reset_index(drop=True)\n",
        "\n"
      ],
      "metadata": {
        "id": "-QSvXRCGQn3d"
      },
      "execution_count": null,
      "outputs": []
    },
    {
      "cell_type": "code",
      "source": [
        "df_situations_scenario[\"scenario\"] = df_situations_scenario.apply(make_scenario,axis=1)"
      ],
      "metadata": {
        "id": "Pca71BKJg4AE"
      },
      "execution_count": null,
      "outputs": []
    },
    {
      "cell_type": "code",
      "source": [
        "df_situations_scenario[\"scenario\"][6]"
      ],
      "metadata": {
        "colab": {
          "base_uri": "https://localhost:8080/"
        },
        "id": "jcUJV9-Wg8cv",
        "outputId": "930706b1-0f90-4058-ed2e-74253e9bfd82"
      },
      "execution_count": null,
      "outputs": [
        {
          "output_type": "execute_result",
          "data": {
            "text/plain": [
              "{'diagnosis': 'gastrite atrophique',\n",
              " 'age': 34,\n",
              " 'metastases': [],\n",
              " 'chronic_diseases': ['hypertension arterielle commune accompagnee'],\n",
              " 'complications': ['degenerescence moelle combinee carence en vitamine b avec anemie pernicieuse',\n",
              "  'douleur abdominale',\n",
              "  'gastrite chronique erosive',\n",
              "  'syndrome de dependance au tabac utilisation actuelle',\n",
              "  'selles liquides abondantes'],\n",
              " 'date_entry': datetime.date(2024, 8, 30),\n",
              " 'date_discharge': datetime.date(2024, 8, 30),\n",
              " 'date_of_birth': datetime.date(1990, 5, 31),\n",
              " 'md_pec': 'Prise en charge en chirugie ambulatoire pour examen histopathologique de biopsies étagées de 3 structures anatomiques',\n",
              " 'cd_md_pec': 11,\n",
              " 'first_name': 'Simone',\n",
              " 'laste_name': 'Rouxel',\n",
              " 'first_name_med': 'Claude',\n",
              " 'laste_name_med': 'Dewerdt'}"
            ]
          },
          "metadata": {},
          "execution_count": 52
        }
      ]
    },
    {
      "cell_type": "code",
      "source": [],
      "metadata": {
        "id": "enoicuaXigO4"
      },
      "execution_count": null,
      "outputs": []
    }
  ],
  "metadata": {
    "kernelspec": {
      "display_name": "Python 3",
      "name": "python3"
    },
    "language_info": {
      "codemirror_mode": {
        "name": "ipython",
        "version": 3
      },
      "file_extension": ".py",
      "mimetype": "text/x-python",
      "name": "python",
      "nbconvert_exporter": "python",
      "pygments_lexer": "ipython3",
      "version": "3.10.6"
    },
    "orig_nbformat": 4,
    "vscode": {
      "interpreter": {
        "hash": "26de051ba29f2982a8de78e945f0abaf191376122a1563185a90213a26c5da77"
      }
    },
    "colab": {
      "provenance": [],
      "include_colab_link": true
    }
  },
  "nbformat": 4,
  "nbformat_minor": 0
}