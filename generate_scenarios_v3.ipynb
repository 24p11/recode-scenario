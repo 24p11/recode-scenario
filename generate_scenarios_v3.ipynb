{
 "cells": [
  {
   "cell_type": "markdown",
   "metadata": {
    "colab_type": "text",
    "id": "view-in-github"
   },
   "source": [
    "<a href=\"https://colab.research.google.com/github/24p11/recode-scenario/blob/main/scenario_oncology_v2.ipynb\" target=\"_parent\"><img src=\"https://colab.research.google.com/assets/colab-badge.svg\" alt=\"Open In Colab\"/></a>"
   ]
  },
  {
   "cell_type": "markdown",
   "metadata": {
    "id": "TA98me3BVrPP"
   },
   "source": [
    "## Create fictive clinical notes from Code set (DRG + ICD)\n",
    "\n",
    "Code set are the raw classification data, we can extract from National database (Base nationale PMSI en France). They are made of \n",
    "* classification profile made of grouping variables from DRG records which are prepared with their frequency in the national database\n",
    "    - age (class)\n",
    "    - sexe\n",
    "    - DRG (racine GHM)\n",
    "    - Main diagnosis (ICD10) : cf\n",
    "    - Hospitalization management type : cf\n",
    "* diagnosis associated to each classification profile, extracted with their frequencies\n",
    "* procedures associated to each classification profile, specialy for surgery and technical gestures, extracted with their frequencies\n",
    "\n",
    "From thoses raw information we produce a coded clinical scenario which will be uses a seed.\n",
    "\n",
    "This scenario is transformed into a detail prompt that will be given to a LLM for generation.\n",
    "From the combinaision of primary and related diagnosis in French discharge abstract, we derived two notions :\n",
    "* Primary diagnosis : host the notion of principal pathology, it is rather the primary diagnosis of the discharge abstract or the related diagnosis when it exists and that the primary diagnosis of the discharge abstract is from the chapter \"Facteurs influant sur l’état de santé\" of ICD10\n",
    "* The Hospitalization management type is rather the term \"Primary diagnosis\" or the ICD-10 code of the related diagnosis when it exists\n"
   ]
  },
  {
   "cell_type": "code",
   "execution_count": 1,
   "metadata": {},
   "outputs": [],
   "source": [
    "#Number of scenarios generate\n",
    "N_SCENARIO = 10000\n",
    "\n",
    "#Filters to apply to the initial national data\n",
    "#Here: patient not cancer ; None if no filters\n",
    "#QUERY = \"icd_primary_code.isin(@gs.icd_codes_cancer)\"\n",
    "QUERY = None"
   ]
  },
  {
   "cell_type": "code",
   "execution_count": 2,
   "metadata": {
    "tags": []
   },
   "outputs": [],
   "source": [
    "%load_ext autoreload\n",
    "%autoreload 2"
   ]
  },
  {
   "cell_type": "code",
   "execution_count": 3,
   "metadata": {
    "id": "iYwLpeT3VrPQ",
    "tags": []
   },
   "outputs": [],
   "source": [
    "import pandas as pd\n",
    "import numpy as np\n",
    "import datetime as dt\n",
    "from tqdm import tqdm\n",
    "import os\n",
    "import json\n",
    "\n",
    "from utils import *\n"
   ]
  },
  {
   "cell_type": "markdown",
   "metadata": {},
   "source": [
    "The config file is python file (ignore by git) which contains:\n",
    "- api_key : mistral API Key\n",
    "- path_results : folder where to write results (scenario and clinical reports)"
   ]
  },
  {
   "cell_type": "code",
   "execution_count": 4,
   "metadata": {},
   "outputs": [],
   "source": [
    "from config import *"
   ]
  },
  {
   "cell_type": "code",
   "execution_count": 18,
   "metadata": {
    "tags": []
   },
   "outputs": [],
   "source": [
    "gs = generate_scenario()\n",
    "# Load official dictionaries\n",
    "# col_names option allow you to algin your column names the project dictionary.\n",
    "gs.load_offical_icd(\"cim_2024.xlsx\",col_names={\"code\" : \"icd_code\",\"libelle\":\"icd_code_description\"} )\n",
    "gs.load_offical_procedures(\"ccam_actes_2024.xlsx\",col_names={\"code\":\"procedure\",\"libelle_long\":\"procedure_description\"} )\n",
    "col_names={\"Code CIM\":\"icd_parent_code\",\"Localisation\":\"primary_site\",\"Type Histologique\":\"histological_type\",\n",
    "           \"Stade\":\"stage\",\"Marqueurs Tumoraux\":\"biomarkers\",\"Traitement\":\"treatment_recommandation\",\"Protocole de Chimiothérapie\":\"chemotherapy_regimen\"}\n",
    "gs.load_cancer_treatement_recommandations(\"Tableau récapitulatif traitement cancer.xlsx\",col_names ) \n",
    "col_names={\"racine\":\"drg_parent_code\",\"lib_spe_uma\":\"specialty\",\"ratio_spe_racine\":\"ratio\"}\n",
    "gs.load_specialty_refential(\"dictionnaire_spe_racine.xlsx\",col_names)\n",
    "gs.load_referential_hospital(\"chu\")\n",
    "gs.load_exclusions(\"exclusions\")\n",
    "\n",
    "# Load data from BN  PMSI\n",
    "col_names={\"racine\":\"drg_parent_code\",\"das\": \"icd_secondary_code\",\"diag\":\"icd_primary_code\",\"categ_cim\":\"icd_primary_parent_code\",\n",
    "            \"mdp\":\"case_management_type\",\"nb_situations\":\"nb\",\"acte\":\"procedure\",\n",
    "            \"mode_entree\":\"admission_mode\",\n",
    "            \"mode_sortie\":\"discharge_disposition\",\n",
    "            \"mode_hospit\":\"admission_type\"}\n",
    "\n",
    "gs.load_classification_profile(\"bn_pmsi_cases_20250819.csv\", col_names)\n",
    "gs.load_secondary_icd(\"bn_pmsi_related_diag_20250818.csv\",col_names)\n",
    "gs.load_procedures(\"bn_pmsi_procedures_20250818.csv\",col_names)"
   ]
  },
  {
   "cell_type": "code",
   "execution_count": 19,
   "metadata": {},
   "outputs": [],
   "source": [
    "#Prepare cases\n",
    "df_profile = gs.df_classification_profile"
   ]
  },
  {
   "cell_type": "code",
   "execution_count": 20,
   "metadata": {},
   "outputs": [
    {
     "data": {
      "text/plain": [
       "array([[<AxesSubplot:title={'center':'nb'}>]], dtype=object)"
      ]
     },
     "execution_count": 20,
     "metadata": {},
     "output_type": "execute_result"
    },
    {
     "data": {
      "image/png": "[encoded data removed]",
      "text/plain": [
       "<Figure size 640x480 with 1 Axes>"
      ]
     },
     "metadata": {},
     "output_type": "display_data"
    }
   ],
   "source": [
    "df_profile.hist(column=\"nb\",bins=100)"
   ]
  },
  {
   "cell_type": "code",
   "execution_count": 21,
   "metadata": {},
   "outputs": [],
   "source": [
    "n_tot_r = np.sum(df_profile.nb)\n",
    "df_profile = df_profile.assign(effectif = df_profile.nb,\n",
    "                    effectif_trans = np.sqrt(df_profile.nb)*1000000000/n_tot_r)\n",
    "df_profile = df_profile.assign(effectif_final = np.where(df_profile.effectif_trans>1500,1500,df_profile.effectif_trans))\n"
   ]
  },
  {
   "cell_type": "code",
   "execution_count": 22,
   "metadata": {},
   "outputs": [
    {
     "data": {
      "text/plain": [
       "array([[<AxesSubplot:title={'center':'effectif_final'}>]], dtype=object)"
      ]
     },
     "execution_count": 22,
     "metadata": {},
     "output_type": "execute_result"
    },
    {
     "data": {
      "image/png": "[encoded data removed]",
      "text/plain": [
       "<Figure size 640x480 with 1 Axes>"
      ]
     },
     "metadata": {},
     "output_type": "display_data"
    }
   ],
   "source": [
    "df_profile.hist(column=\"effectif_final\",bins=100)"
   ]
  },
  {
   "cell_type": "markdown",
   "metadata": {},
   "source": [
    "# Sampling"
   ]
  },
  {
   "cell_type": "code",
   "execution_count": 23,
   "metadata": {
    "tags": []
   },
   "outputs": [],
   "source": [
    "#Exclude some rows regarding QUERY\n",
    "if QUERY is not None : \n",
    "    df_profile_sample = df_profile.query(QUERY)\n",
    "else :\n",
    "    df_profile_sample = df_profile.copy()\n",
    "\n",
    "df_profile_sample = df_profile_sample.sample(N_SCENARIO, weights=\"effectif_final\").reset_index(drop=True)\n",
    "df_profile_sample.drop(columns=[\"nb\",\"effectif\",\"effectif_trans\",\"effectif_final\"],inplace=True)"
   ]
  },
  {
   "cell_type": "code",
   "execution_count": 14,
   "metadata": {
    "tags": []
   },
   "outputs": [
    {
     "name": "stderr",
     "output_type": "stream",
     "text": [
      "  4%|▎         | 723/20000 [39:37<17:36:41,  3.29s/it]\n"
     ]
    },
    {
     "ename": "IndexError",
     "evalue": "index 0 is out of bounds for axis 0 with size 0",
     "output_type": "error",
     "traceback": [
      "\u001b[1;31m---------------------------------------------------------------------------\u001b[0m",
      "\u001b[1;31mIndexError\u001b[0m                                Traceback (most recent call last)",
      "\u001b[1;32m~\\AppData\\Local\\Temp\\ipykernel_4532\\3880633649.py\u001b[0m in \u001b[0;36m<cell line: 3>\u001b[1;34m()\u001b[0m\n\u001b[0;32m      4\u001b[0m \u001b[1;31m# for i in tqdm(range(1)):\u001b[0m\u001b[1;33m\u001b[0m\u001b[1;33m\u001b[0m\u001b[0m\n\u001b[0;32m      5\u001b[0m     \u001b[0mprofile\u001b[0m \u001b[1;33m=\u001b[0m \u001b[0mdf_profile_sample\u001b[0m\u001b[1;33m.\u001b[0m\u001b[0miloc\u001b[0m\u001b[1;33m[\u001b[0m\u001b[0mi\u001b[0m\u001b[1;33m]\u001b[0m\u001b[1;33m.\u001b[0m\u001b[0mcopy\u001b[0m\u001b[1;33m(\u001b[0m\u001b[1;33m)\u001b[0m\u001b[1;33m\u001b[0m\u001b[1;33m\u001b[0m\u001b[0m\n\u001b[1;32m----> 6\u001b[1;33m     \u001b[0mscenario\u001b[0m \u001b[1;33m=\u001b[0m \u001b[0mgs\u001b[0m\u001b[1;33m.\u001b[0m\u001b[0mgenerate_scenario_from_profile\u001b[0m\u001b[1;33m(\u001b[0m\u001b[0mprofile\u001b[0m\u001b[1;33m)\u001b[0m\u001b[1;33m\u001b[0m\u001b[1;33m\u001b[0m\u001b[0m\n\u001b[0m\u001b[0;32m      7\u001b[0m     \u001b[0mrow\u001b[0m \u001b[1;33m=\u001b[0m \u001b[1;33m{\u001b[0m\u001b[0mk\u001b[0m\u001b[1;33m:\u001b[0m\u001b[0mscenario\u001b[0m\u001b[1;33m[\u001b[0m\u001b[0mk\u001b[0m\u001b[1;33m]\u001b[0m \u001b[1;32mfor\u001b[0m \u001b[0mk\u001b[0m \u001b[1;32min\u001b[0m \u001b[0mscenario\u001b[0m\u001b[1;33m.\u001b[0m\u001b[0mkeys\u001b[0m\u001b[1;33m(\u001b[0m\u001b[1;33m)\u001b[0m\u001b[1;33m}\u001b[0m\u001b[1;33m\u001b[0m\u001b[1;33m\u001b[0m\u001b[0m\n\u001b[0;32m      8\u001b[0m     \u001b[0muser_prompt\u001b[0m \u001b[1;33m=\u001b[0m \u001b[0mgs\u001b[0m\u001b[1;33m.\u001b[0m\u001b[0mmake_prompts_marks_from_scenario\u001b[0m\u001b[1;33m(\u001b[0m\u001b[0mscenario\u001b[0m\u001b[1;33m)\u001b[0m\u001b[1;33m\u001b[0m\u001b[1;33m\u001b[0m\u001b[0m\n",
      "\u001b[1;32mc:\\Users\\3056269\\Documents\\code\\projets\\recode-scenario\\utils.py\u001b[0m in \u001b[0;36mgenerate_scenario_from_profile\u001b[1;34m(self, profile)\u001b[0m\n\u001b[0;32m   1038\u001b[0m         \u001b[0mprocedures\u001b[0m \u001b[1;33m=\u001b[0m \u001b[0mself\u001b[0m\u001b[1;33m.\u001b[0m\u001b[0msample_from_df\u001b[0m\u001b[1;33m(\u001b[0m\u001b[0mprofile\u001b[0m \u001b[1;33m=\u001b[0m\u001b[0mprofile\u001b[0m\u001b[1;33m,\u001b[0m\u001b[0mdf_values\u001b[0m\u001b[1;33m=\u001b[0m \u001b[0mself\u001b[0m\u001b[1;33m.\u001b[0m\u001b[0mdf_procedures\u001b[0m\u001b[1;33m[\u001b[0m\u001b[0mgrouping_procedure\u001b[0m\u001b[1;33m]\u001b[0m\u001b[1;33m,\u001b[0m\u001b[0mnb\u001b[0m\u001b[1;33m=\u001b[0m\u001b[1;36m1\u001b[0m\u001b[1;33m)\u001b[0m\u001b[1;33m\u001b[0m\u001b[1;33m\u001b[0m\u001b[0m\n\u001b[0;32m   1039\u001b[0m \u001b[1;33m\u001b[0m\u001b[0m\n\u001b[1;32m-> 1040\u001b[1;33m         \u001b[0mscenario\u001b[0m\u001b[1;33m[\u001b[0m\u001b[1;34m\"procedure\"\u001b[0m\u001b[1;33m]\u001b[0m \u001b[1;33m=\u001b[0m \u001b[0mprocedures\u001b[0m\u001b[1;33m.\u001b[0m\u001b[0mprocedure\u001b[0m\u001b[1;33m.\u001b[0m\u001b[0mvalues\u001b[0m\u001b[1;33m[\u001b[0m\u001b[1;36m0\u001b[0m\u001b[1;33m]\u001b[0m\u001b[1;33m\u001b[0m\u001b[1;33m\u001b[0m\u001b[0m\n\u001b[0m\u001b[0;32m   1041\u001b[0m         \u001b[0mscenario\u001b[0m\u001b[1;33m[\u001b[0m\u001b[1;34m\"text_procedure\"\u001b[0m\u001b[1;33m]\u001b[0m \u001b[1;33m=\u001b[0m\u001b[0mprocedures\u001b[0m\u001b[1;33m.\u001b[0m\u001b[0mprocedure_description_official\u001b[0m\u001b[1;33m.\u001b[0m\u001b[0mvalues\u001b[0m\u001b[1;33m[\u001b[0m\u001b[1;36m0\u001b[0m\u001b[1;33m]\u001b[0m\u001b[1;33m\u001b[0m\u001b[1;33m\u001b[0m\u001b[0m\n\u001b[0;32m   1042\u001b[0m \u001b[1;33m\u001b[0m\u001b[0m\n",
      "\u001b[1;31mIndexError\u001b[0m: index 0 is out of bounds for axis 0 with size 0"
     ]
    }
   ],
   "source": [
    "list_scenario = []\n",
    "\n",
    "for i in tqdm(range(len(df_profile_sample))):\n",
    "# for i in tqdm(range(1)):\n",
    "    profile = df_profile_sample.iloc[i].copy()\n",
    "    scenario = gs.generate_scenario_from_profile(profile)\n",
    "    row = {k:scenario[k] for k in scenario.keys()}\n",
    "    user_prompt = gs.make_prompts_marks_from_scenario(scenario)\n",
    "    system_prompt = gs.create_system_prompt(scenario)\n",
    "    row[\"user_prompt\"] = user_prompt\n",
    "    row[\"system_prompt\"] = system_prompt\n",
    "    \n",
    "    if  scenario[\"icd_primary_code\"]  in gs.icd_codes_cancer  :\n",
    "        prefix = \"\"\"Le compte rendu suivant respecte les élements suivants :\n",
    "        - les diagnostics ont une formulation moins formelle que la définition du code\n",
    "        - le type histologique et la valeur des biomarqueurs si recherchés\n",
    "        - le plan du CRH est conforme aux recommandations.\n",
    "        \"\"\"\n",
    "    else :\n",
    "        prefix = \"\"\"Le compte rendu suivant respecte les élements suivants :\n",
    "        - les diagnostics ont une formulation moins formelle que la définition du code\n",
    "        - le plan du CRH est conforme aux recommandations.\n",
    "        \"\"\"\n",
    "    \n",
    "    row[\"prefix\"] = prefix\n",
    "    row[\"prefix_len\"] = len(prefix)\n",
    "    list_scenario.append(row)"
   ]
  },
  {
   "cell_type": "code",
   "execution_count": null,
   "metadata": {
    "tags": []
   },
   "outputs": [],
   "source": [
    "keep_cols = ['age',  'cage', 'cage2','sexe', 'date_entry', 'date_discharge', 'date_of_birth',\n",
    "       'first_name', 'last_name', 'icd_primary_code', 'icd_primary_description', 'icd_parent_code',\n",
    "       'case_management_type','case_management_type_description', 'coding_rule','case_management_type_text', \n",
    "       'drg_parent_code', 'drg_parent_description',\n",
    "       'icd_secondaray_code',  'text_secondary_icd_official', \n",
    "        'procedure', 'text_procedure',\n",
    "        'admission_type','admission_mode', 'discharge_disposition', 'dms', 'los_mean', 'los_sd',\n",
    "       'cancer_stage', 'score_TNM', 'histological_type',\n",
    "       'treatment_recommandation', 'chemotherapy_regimen', 'biomarkers',\n",
    "       'first_name_med', 'last_name_med',\n",
    "       'department','hospital','template_name','user_prompt', 'system_prompt', 'prefix', 'prefix_len']\n",
    "df_scenario = pd.DataFrame(list_scenario)[keep_cols]\n",
    "df_scenario.to_csv(\"results/generated_scenarios_\"+dt.datetime.now().strftime('%Y%m%d_%H%M')+\".csv\")"
   ]
  },
  {
   "cell_type": "markdown",
   "metadata": {},
   "source": [
    "## Generation with Mitral API"
   ]
  },
  {
   "cell_type": "code",
   "execution_count": 15,
   "metadata": {},
   "outputs": [],
   "source": [
    "from config import *\n",
    "api_url = \"https://api.mistral.ai/v1/chat\"\n",
    "model = \"mistral-large-latest\"\n",
    "client = Mistral(api_key=api_key)"
   ]
  },
  {
   "cell_type": "code",
   "execution_count": 27,
   "metadata": {},
   "outputs": [],
   "source": [
    "scenario_file_name = \"generated_scenarios_20250922_1207\"\n",
    "n_samples_by_batch = 12"
   ]
  },
  {
   "cell_type": "code",
   "execution_count": 9,
   "metadata": {},
   "outputs": [],
   "source": [
    "df_scenarios= pd.read_csv(path_results + scenario_file_name + \".csv\",index_col=0)"
   ]
  },
  {
   "cell_type": "code",
   "execution_count": 16,
   "metadata": {},
   "outputs": [
    {
     "name": "stdout",
     "output_type": "stream",
     "text": [
      "0 - 12\n",
      "Created input file id='546e2247-ba95-4949-9291-04caed0cfa90' object='file' bytes=104998 created_at=1758621088 filename='file.jsonl' purpose='batch' sample_type='batch_request' source='upload' num_lines=12\n",
      "Batch job 430c2ede-9142-4e76-aa31-8a2fb74da36f completed with status: SUCCESS\n",
      "Job duration: 208 seconds\n",
      "Downloading file to P:/Commun/Sources_donnees_complementaires/generation/recode_scenario/tmp/batch_0.json\n",
      "Downloaded file to P:/Commun/Sources_donnees_complementaires/generation/recode_scenario/tmp/batch_0.json\n"
     ]
    }
   ],
   "source": [
    "for i in range(0, int(len(df_scenarios)/n_samples_by_batch)):\n",
    "  print(str(i*n_samples_by_batch) + \" - \"+ str((i+1)*n_samples_by_batch) )\n",
    "  prompts = df_scenarios[i*n_samples_by_batch:(i+1)*n_samples_by_batch].reset_index(drop=True)\n",
    "  input_file = create_input_file(client, prompts)\n",
    "  print(f\"Created input file {input_file}\")\n",
    "  batch_job = run_batch_job(client, input_file, model)\n",
    "  print(f\"Job duration: {batch_job.completed_at - batch_job.created_at} seconds\")\n",
    "  download_file(client, batch_job.output_file, path_results +\"tmp/batch_\" +  str(i) + \".json\" )\n",
    "  prompts.to_csv(path_results+\"tmp/batch_\" +  str(i) + \".csv\" )"
   ]
  },
  {
   "cell_type": "code",
   "execution_count": 20,
   "metadata": {},
   "outputs": [],
   "source": [
    "\n",
    "df_res_final=pd.DataFrame()\n",
    "\n",
    "p = re.compile(\"```\")\n",
    "\n",
    "output_dir = path_results+\"tmp\"\n",
    "\n",
    "for i in range(int(len(df_scenarios)/n_samples_by_batch) ): # Iterate through all batch files\n",
    "    file_path = os.path.join(output_dir, f\"batch_{i}.json\")\n",
    "    if os.path.exists(file_path):\n",
    "        results = []\n",
    "        with open(file_path, \"r\", encoding=\"utf-8\") as f:\n",
    "            for line in f:\n",
    "                results.append(json.loads(line.strip()))\n",
    "\n",
    "        # Assuming extract_response is defined and works correctly\n",
    "        # and results contains the data structure as seen in the previous outputs\n",
    "\n",
    "        prep_dict=[]\n",
    "        for result_item in results:\n",
    "            # Check if the item has a response and extract it\n",
    "            if \"response\" in result_item and result_item[\"response\"] and \"body\" in result_item[\"response\"] and \"choices\" in result_item[\"response\"][\"body\"]:\n",
    "                message_content=result_item[\"response\"][\"body\"][\"choices\"][0][\"message\"][\"content\"]\n",
    "                if len(message_content)<40:\n",
    "                  continue\n",
    "                m = p.finditer(message_content)\n",
    "                positions = [i.span() for i in m]\n",
    "                if len(positions) == 1:\n",
    "                  res = message_content[positions[0][1]+4:]\n",
    "                else:\n",
    "                  res = message_content[positions[0][1]+4:positions[1][0]]\n",
    "\n",
    "                prep_dict.append({\"bacth\":i,\"num_in_\":result_item['custom_id'],\"crh\":res})\n",
    "\n",
    "        df_scenarios_save = pd.read_csv(output_dir+\"/batch_\" +  str(i) + \".csv\",index_col=0)\n",
    "        df_res_tmp = pd.DataFrame(prep_dict)\n",
    "        df_res_tmp[\"num_in_\"]=  df_res_tmp[\"num_in_\"].astype(int)\n",
    "        df_res_tmp = df_scenarios_save.merge(df_res_tmp,right_on=\"num_in_\",left_index=True)\n",
    "        df_res_final = pd.concat([df_res_final,df_res_tmp])"
   ]
  },
  {
   "cell_type": "code",
   "execution_count": 28,
   "metadata": {},
   "outputs": [],
   "source": [
    "df_res_final.to_csv(path_results+ \"/crh_\"+scenario_file_name+\".csv\")"
   ]
  },
  {
   "cell_type": "code",
   "execution_count": null,
   "metadata": {},
   "outputs": [],
   "source": []
  }
 ],
 "metadata": {
  "colab": {
   "include_colab_link": true,
   "provenance": []
  },
  "kernelspec": {
   "display_name": "Python 3.10.6 64-bit",
   "language": "python",
   "name": "python3"
  },
  "language_info": {
   "codemirror_mode": {
    "name": "ipython",
    "version": 3
   },
   "file_extension": ".py",
   "mimetype": "text/x-python",
   "name": "python",
   "nbconvert_exporter": "python",
   "pygments_lexer": "ipython3",
   "version": "3.10.6"
  },
  "vscode": {
   "interpreter": {
    "hash": "26de051ba29f2982a8de78e945f0abaf191376122a1563185a90213a26c5da77"
   }
  }
 },
 "nbformat": 4,
 "nbformat_minor": 4
}
