{
  "cells": [
    {
      "cell_type": "markdown",
      "metadata": {
        "colab_type": "text",
        "id": "view-in-github"
      },
      "source": [
        "<a href=\"https://colab.research.google.com/github/24p11/recode-scenario/blob/main/scenario_oncology_v2.ipynb\" target=\"_parent\"><img src=\"https://colab.research.google.com/assets/colab-badge.svg\" alt=\"Open In Colab\"/></a>"
      ]
    },
    {
      "cell_type": "markdown",
      "metadata": {
        "id": "TA98me3BVrPP"
      },
      "source": [
        "## Create fictive clinical notes from Code set (DRG + ICD)\n",
        "\n",
        "Code set are the raw classification data, we can extract from National database (Base nationale PMSI en France). They are made of \n",
        "* classification profile made of grouping variables from DRG records which are prepared with their frequency in the national database\n",
        "    - age (class)\n",
        "    - sexe\n",
        "    - DRG (racine GHM)\n",
        "    - Main diagnosis (ICD10) : cf\n",
        "    - Hospitalization management type : cf\n",
        "* diagnosis associated to each classification profile, extracted with their frequencies\n",
        "* procedures associated to each classification profile, specialy for surgery and technical gestures, extracted with their frequencies\n",
        "\n",
        "From thoses raw information we produce a coded clinical scenario which will be uses a seed.\n",
        "\n",
        "This scenario is transformed into a detail prompt that will be given to a LLM for generation.\n",
        "From the combinaision of primary and related diagnosis in French discharge abstract, we derived two notions :\n",
        "* Primary diagnosis : host the notion of principal pathology, it is rather the primary diagnosis of the discharge abstract or the related diagnosis when it exists and that the primary diagnosis of the discharge abstract is from the chapter \"Facteurs influant sur l’état de santé\" of ICD10\n",
        "* The Hospitalization management type is rather the term \"Primary diagnosis\" or the ICD-10 code of the related diagnosis when it exists\n"
      ]
    },
    {
      "cell_type": "code",
      "execution_count": 9,
      "metadata": {},
      "outputs": [
        {
          "name": "stdout",
          "output_type": "stream",
          "text": [
            "The autoreload extension is already loaded. To reload it, use:\n",
            "  %reload_ext autoreload\n"
          ]
        }
      ],
      "source": [
        "%load_ext autoreload\n",
        "%autoreload 2"
      ]
    },
    {
      "cell_type": "code",
      "execution_count": 10,
      "metadata": {
        "id": "iYwLpeT3VrPQ"
      },
      "outputs": [],
      "source": [
        "import pandas as pd\n",
        "import numpy as np\n",
        "import datetime as dt"
      ]
    },
    {
      "cell_type": "code",
      "execution_count": 11,
      "metadata": {},
      "outputs": [],
      "source": [
        "from utils import *"
      ]
    },
    {
      "cell_type": "code",
      "execution_count": 12,
      "metadata": {},
      "outputs": [],
      "source": [
        "path_ref  = \"referentials/\""
      ]
    },
    {
      "cell_type": "code",
      "execution_count": 13,
      "metadata": {},
      "outputs": [],
      "source": [
        "gs = generate_scenario()\n",
        "# Load official dictionaries\n",
        "# col_names option allow you to algin your column names the project dictionary.\n",
        "gs.load_offical_icd(\"cim_2024.xlsx\",col_names={\"code\" : \"icd_code\",\"libelle\":\"icd_code_description\"} )\n",
        "gs.load_offical_procedures(\"ccam_actes_2024.xlsx\",col_names={\"code\":\"procedure\",\"libelle_long\":\"procedure_description\"} )\n",
        "col_names={\"Code CIM\":\"icd_parent_code\",\"Localisation\":\"primary_site\",\"Type Histologique\":\"histological_type\",\n",
        "           \"Stade\":\"stage\",\"Marqueurs Tumoraux\":\"biomarkers\",\"Traitement\":\"treatment_recommandation\",\"Protocole de Chimiothérapie\":\"chemotherapy_regimen\"}\n",
        "gs.load_cancer_treatement_recommandations(\"Tableau récapitulatif traitement cancer.xlsx\",col_names ) \n",
        "col_names={\"racine\":\"drg_parent_code\",\"lib_spe_uma\":\"specialty\",\"ratio_spe_racine\":\"ratio\"}\n",
        "gs.load_specialty_refential(\"dictionnaire_spe_racine.xlsx\",col_names)\n",
        "gs.load_referential_hospital(\"chu\")\n",
        "gs.load_exclusions(\"exclusions\")\n",
        "\n",
        "# Load data from BN  PMSI\n",
        "col_names={\"racine\":\"drg_parent_code\",\"das\": \"icd_secondary_code\",\"diag\":\"icd_primary_code\",\"categ_cim\":\"icd_primary_parent_code\",\n",
        "            \"mdp\":\"case_management_type\",\"nb_situations\":\"nb\",\"acte\":\"procedure\",\n",
        "            \"mode_entree\":\"admission_mode\",\n",
        "            \"mode_sortie\":\"discharge_disposition\",\n",
        "            \"mode_hospit\":\"admission_type\"}\n",
        "gs.load_classification_profile(\"bn_pmsi_cases_20250819.csv\", col_names)\n",
        "gs.load_secondary_icd(\"bn_pmsi_related_diag_20250818.csv\",col_names)\n",
        "gs.load_procedures(\"bn_pmsi_procedures_20250818.csv\",col_names)"
      ]
    },
    {
      "cell_type": "code",
      "execution_count": 14,
      "metadata": {},
      "outputs": [],
      "source": [
        "cols_scenario = [\"first_name\",\"last_name\",\"cage2\",\"cage\",\"sexe\",\n",
        "                \"last_name_med\",\"icd_primary_code\",\n",
        "                \"admission_type\",\"admission_mode\",\"discharge_disposition\",\n",
        "                'drg_parent_code','icd_primary_code','icd_secondaray_code','cd_md_pec']\n",
        "                \n",
        "cols_cancer = [\"cancer_stage\",\"TNM_score\",\"histological_type\",\"treatment_recommandation\",\"chemotherapy_regimen\"]\n",
        "\n"
      ]
    },
    {
      "cell_type": "code",
      "execution_count": 8,
      "metadata": {},
      "outputs": [],
      "source": [
        "#Prepare cases\n",
        "df_profile = gs.df_classification_profile.drop(columns=\"nb\")\n",
        "df_profile = df_profile[df_profile.icd_primary_code.isin(gs.icd_codes_cancer)]"
      ]
    },
    {
      "cell_type": "code",
      "execution_count": 233,
      "metadata": {},
      "outputs": [
        {
          "name": "stderr",
          "output_type": "stream",
          "text": [
            "C:\\Users\\3056269\\AppData\\Roaming\\Python\\Python310\\site-packages\\pandas\\core\\series.py:1056: SettingWithCopyWarning: \n",
            "A value is trying to be set on a copy of a slice from a DataFrame\n",
            "\n",
            "See the caveats in the documentation: https://pandas.pydata.org/pandas-docs/stable/user_guide/indexing.html#returning-a-view-versus-a-copy\n",
            "  cacher_needs_updating = self._check_is_chained_assignment_possible()\n",
            "C:\\Users\\3056269\\AppData\\Roaming\\Python\\Python310\\site-packages\\pandas\\core\\indexing.py:1724: SettingWithCopyWarning: \n",
            "A value is trying to be set on a copy of a slice from a DataFrame\n",
            "\n",
            "See the caveats in the documentation: https://pandas.pydata.org/pandas-docs/stable/user_guide/indexing.html#returning-a-view-versus-a-copy\n",
            "  self._setitem_with_indexer_missing(indexer, value)\n"
          ]
        }
      ],
      "source": [
        "df_scenario =[]\n",
        "for i in range(0,5):\n",
        "\n",
        "    current_profile = df_profile.iloc[i,:]\n",
        "\n",
        "    scenario = gs.generate_scenario_from_profile(current_profile)\n",
        "    row = {k:scenario[k] for k in scenario if k in cols_scenario }\n",
        "    cancer = [scenario[k] for k in scenario if k in cols_cancer ]\n",
        "\n",
        "    row.update({\"cancer\":cancer})\n",
        "    \n",
        "    case  = gs.make_prompts_marks_from_scenario(scenario)\n",
        "    \n",
        "    row.update({'case': case})\n",
        "\n",
        "\n",
        "    if row['admission_type'] == \"Inpatient\" and row['drg_parent_code'][2:3]==\"C\" :\n",
        "        template_name = \"surgery_complete.txt\"\n",
        "    elif row['admission_type'] == \"Outpatient\" and row['drg_parent_code'][2:3]==\"C\" :\n",
        "        template_name = \"surgery_outpatient.txt\"\n",
        "    elif row['drg_parent_code'][2:3]==\"K\" :\n",
        "        template_name = \"interventionnel.txt\"\n",
        "    elif row['cd_md_pec']==17 :\n",
        "        template_name = \"bilan.txt\"\n",
        "    else:\n",
        "        template_name = \"scenario_onco_v1.txt\"\n",
        "        \n",
        "    prompt =  prepare_prompt(\"templates/\" + template_name ,case =case)\n",
        "    row.update({'prompt': prompt})\n",
        "\n",
        "    df_scenario.append(row)"
      ]
    },
    {
      "cell_type": "code",
      "execution_count": 4,
      "metadata": {},
      "outputs": [],
      "source": [
        "\n"
      ]
    },
    {
      "cell_type": "code",
      "execution_count": 5,
      "metadata": {},
      "outputs": [],
      "source": [
        "\n"
      ]
    },
    {
      "cell_type": "code",
      "execution_count": 8,
      "metadata": {},
      "outputs": [
        {
          "data": {
            "text/plain": [
              "'HOSPITALISATION POUR DIAGNOSTIC. Séjour programmé pour bilan pré-oératoire\\n'"
            ]
          },
          "execution_count": 8,
          "metadata": {},
          "output_type": "execute_result"
        }
      ],
      "source": [
        "rules[\"D3-3\"]['texte']"
      ]
    },
    {
      "cell_type": "code",
      "execution_count": 9,
      "metadata": {},
      "outputs": [
        {
          "data": {
            "text/plain": [
              "True"
            ]
          },
          "execution_count": 9,
          "metadata": {},
          "output_type": "execute_result"
        }
      ],
      "source": [
        "\"D3-3\" in rules"
      ]
    },
    {
      "cell_type": "code",
      "execution_count": null,
      "metadata": {},
      "outputs": [],
      "source": []
    },
    {
      "cell_type": "code",
      "execution_count": null,
      "metadata": {},
      "outputs": [],
      "source": [
        "def choose_atih_hierarchy_rule(self,icd_primary_code, case_management_type=None, icd_secondaray_code=None, procedure=None, admission_type = None, drg_parent_code = None):\n",
        "        \"\"\"\n",
        "        Détermine la situation clinique et la règle ATIH applicable en fonction des paramètres d'entrée.\n",
        "\n",
        "        Args:\n",
        "            selficd_primary_code (str): Diagnostic principal (code CIM-10).\n",
        "            icd_related_code (str): Diagnostic relié (code CIM-10 ou None).\n",
        "            das (list): Liste des diagnostics associés (codes CIM-10 ou None).\n",
        "            type_hosp (str): \"HC\" (hospitalisation complète) ou \"HP\" (hospitalisation partielle).\n",
        "            ds (int): Durée de séjour (en jours).\n",
        "\n",
        "        Returns:\n",
        "            dict: Un dictionnaire contenant la situation clinique et la règle ATIH applicable.\n",
        "        \"\"\"\n",
        "        # Liste des règles et situations possibles\n",
        "        rules_id = []\n",
        "\n",
        "        # --- Règles liées à l'hospitalisation pour diagnostic ---\n",
        "        # Règle D1 : DP = affection causale, DR = vide\n",
        "        # On ajoute aussi la situation de pancréatite aigue, qui peut être un épdisode unique (règle D1) \n",
        "        # ou compliquer une pancréatite chronique (regle D5)\n",
        "\n",
        "        icd_primary_description = gs.get_icd_description(icd_primary_code)\n",
        "\n",
        "        if case[\"icd_primary_code\"] :\n",
        "            rules_id.append([\"D1\"] )\n",
        "\n",
        "        # Règle D2 : DP = symptomatologie, DR = None ou suspicion non confirmée\n",
        "        if icd_primary_code.startswith('R') or icd_primary_code.startswith('Z03'):\n",
        "            rules_id +=  [\"D2\"] \n",
        "\n",
        "        # Règle D3 : DP = Z04.800, Z04.801, Z04.802, Z01.5\n",
        "        if icd_primary_code in self.icd_codes_overnight_study:\n",
        "           rules_id += [\"D3-1\"] \n",
        "        \n",
        "        if icd_primary_code in self.icd_codes_sensitization_tests:\n",
        "           rules_id  += [\"D3-2\"]    \n",
        "        \n",
        "        if icd_primary_code in self.icd_codes_preoperative_assessment:\n",
        "           rules_id  += [\"D3-3\"]   \n",
        "\n",
        "        # Règle D4 : DP = motif de recours pour antécédent ou symptomatologie\n",
        "        if icd_primary_code in self.icd_codes_personnel_history + self.icd_codes_family_history :\n",
        "            rules_id  += [\"D4\"]   \n",
        "\n",
        "        # Règle D5 : DP = maladie chronique en poussée aiguë\n",
        "        if icd_primary_code in self.icd_code_chronic :\n",
        "            rules_id += [\"D5\"] \n",
        "\n",
        "        # Règle D6 : DP = code spécifique pour poussée aiguë (ex. : J44.1 pour BPCO)\n",
        "        if icd_primary_code in self.icd_codes_chronic_attack:\n",
        "            rules_id  += [\"D6\"] \n",
        "\n",
        "        # Règle D7 : DP = complication d’une maladie chronique\n",
        "        # if not icd_primary_code.startswith('Z') and (icd_related_code is not None and (icd_related_code.startswith('E') or icd_related_code.startswith('I') or icd_related_code.startswith('J') or icd_related_code.startswith('N'))):\n",
        "        if icd_primary_code in self.icd_codes_chronic_complications : \n",
        "            #We can add a test on icd_secondary that should contain a least one chronicle disease.\n",
        "            rules_id  += [\"D7\"] \n",
        "\n",
        "        # Règle D8 : DP = affection intercurrente indépendante\n",
        "        if not icd_primary_code.startswith('Z') and (icd_primary_code not in self.icd_codes_chronic) and not set(das).isdisjoint(self.icd_codes_chronic):\n",
        "            rules_id  += [\"D8\"]  \n",
        "\n",
        "        # Règle D9 : DP = tumeur maligne (bilan initial d’extension)\n",
        "        if icd_primary_code in self.icd_codes_cancer:\n",
        "            rules_id  += [\"D9\"]  \n",
        "\n",
        "        # --- Règles liées à l'hospitalisation pour traitement ---\n",
        "        # Règle T1 : DP = code Z pour traitement répétitif\n",
        "        if case_management_type in  self.icd_codes_sessions:\n",
        "            rules_id  += [\"T1\"]  \n",
        "\n",
        "        # Règle T2 : Exceptions à T1 (douleur chronique, ascite, épanchement pleural, toxine botulique)\n",
        "        if icd_primary_code in self.icd_codes_t2_chronic_intractable_pain:\n",
        "            rules_id  += [\"T2-R52\"]  \n",
        "        if icd_primary_code in self.icd_codes_ascites:\n",
        "            rules_id  += [\"T2-R18\"]  \n",
        "        if icd_primary_code in self.icd_codes_pleural_effusion:\n",
        "            rules_id  += [\"T2-J9\"]  \n",
        "        if procedure in self.procedure_botulic_toxin and admission_type =\"Outpatient\":\n",
        "            rules_id  += [\"T2-Toxine\"]  \n",
        "           \n",
        "        # Règle T3 : Traitement chirurgical unique\n",
        "        if drg_parent_code[2:3] in [\"C\"] :\n",
        "\n",
        "            rules_id  += [\"T3\"]\n",
        "\n",
        "        # Règle T4 : Chirurgie esthétique\n",
        "        if case_management_type in self.icd_codes_cosmetic_surgery:\n",
        "            rules_id  += [\"T4\"]\n",
        "\n",
        "        # Règle T5 : Chirurgie plastique non esthétique\n",
        "        if case_management_type in self.icd_codes_plastic_surgery:\n",
        "            rules_id  += [\"T5\"]\n",
        "\n",
        "        # Règle T6 : Intervention de confort\n",
        "        if case_management_type in icd_codes_comfort_intervention:\n",
        "            rules_id  += [\"T5\"]\n",
        "\n",
        "        # Règle T7 : Soins spécifiques de stomies/prothèses\n",
        "        if icd_primary_code.startswith('Z4') and icd_primary_code not in [\"Z41.0\", \"Z41.1\", \"Z41.80\"]:\n",
        "            situations.append({\n",
        "                \"situation\": \"Séjour pour soins spécifiques de stomies/prothèses (DP = code Z43 à Z47 ou Z49).\",\n",
        "                \"regle\": \"T7\"\n",
        "            })\n",
        "\n",
        "        # Règle T8 : Traitement interventionnel\n",
        "        if not icd_primary_code.startswith('Z') and type_hosp == \"HC\" and ds is not None and ds <= 3:\n",
        "            situations.append({\n",
        "                \"situation\": \"Séjour pour traitement interventionnel (DP = maladie traitée).\",\n",
        "                \"regle\": \"T8\"\n",
        "            })\n",
        "\n",
        "        # Règle T9 : Traitement médical unique\n",
        "        if not icd_primary_code.startswith('Z') and type_hosp == \"HC\" and ds is not None and ds <= 5:\n",
        "            situations.append({\n",
        "                \"situation\": \"Séjour pour traitement médical unique (DP = affection traitée).\",\n",
        "                \"regle\": \"T9\"\n",
        "            })\n",
        "\n",
        "        # Règle T10 : Curiethérapie ou injection de fer\n",
        "        if icd_primary_code in [\"Z51.01\", \"Z51.2\"]:\n",
        "            situations.append({\n",
        "                \"situation\": \"Séjour pour curiethérapie ou injection de fer (DP = code Z51).\",\n",
        "                \"regle\": \"T10\"\n",
        "            })\n",
        "\n",
        "        # Règle T11 : Soins palliatifs\n",
        "        if icd_primary_code == \"Z51.5\":\n",
        "            situations.append({\n",
        "                \"situation\": \"Séjour pour soins palliatifs (DP = Z51.5).\",\n",
        "                \"regle\": \"T11\"\n",
        "            })\n",
        "\n",
        "        # Règle T12 : Accouchement normal\n",
        "        if icd_primary_code == \"O80.0\":\n",
        "            situations.append({\n",
        "                \"situation\": \"Séjour pour accouchement normal (DP = O80.0).\",\n",
        "                \"regle\": \"T12\"\n",
        "            })\n",
        "\n",
        "        # Règle T13 : Nouveau-né en maternité\n",
        "        if icd_primary_code.startswith('Z38'):\n",
        "            situations.append({\n",
        "                \"situation\": \"Séjour pour nouveau-né en maternité (DP = code Z38).\",\n",
        "                \"regle\": \"T13\"\n",
        "            })\n",
        "\n",
        "        # Règle T14 : Reprise de traitement chirurgical\n",
        "        if not icd_primary_code.startswith('Z') and type_hosp == \"HC\" and ds is not None and ds > 7:\n",
        "            situations.append({\n",
        "                \"situation\": \"Séjour pour reprise de traitement chirurgical (DP = maladie traitée).\",\n",
        "                \"regle\": \"T14\"\n",
        "            })\n",
        "\n",
        "        # Règle T15 : Intervention prophylactique\n",
        "        if icd_primary_code == \"Z40\":\n",
        "            situations.append({\n",
        "                \"situation\": \"Séjour pour intervention prophylactique (DP = Z40).\",\n",
        "                \"regle\": \"T15\"\n",
        "            })\n",
        "\n",
        "        # --- Règles liées à l'hospitalisation pour surveillance ---\n",
        "        # Règle S1 : Surveillance négative\n",
        "        if icd_primary_code.startswith('Z') and icd_primary_code not in [\"Z94\", \"Z95\", \"Z39.08\", \"Z76.2\"]:\n",
        "            situations.append({\n",
        "                \"situation\": \"Séjour pour surveillance négative (DP = code Z).\",\n",
        "                \"regle\": \"S1\"\n",
        "            })\n",
        "\n",
        "        # Règle S2 : Surveillance post-transplantation\n",
        "        if icd_primary_code.startswith('Z94'):\n",
        "            situations.append({\n",
        "                \"situation\": \"Séjour pour surveillance post-transplantation (DP = code Z94).\",\n",
        "                \"regle\": \"S2\"\n",
        "            })\n",
        "\n",
        "        # Règle S3 : Surveillance d’implant cardiovasculaire\n",
        "        if icd_primary_code.startswith('Z95'):\n",
        "            situations.append({\n",
        "                \"situation\": \"Séjour pour surveillance d’implant cardiovasculaire (DP = code Z95).\",\n",
        "                \"regle\": \"S3\"\n",
        "            })\n",
        "\n",
        "        # Règle SD1 : Surveillance positive\n",
        "        if icd_primary_code.startswith('Z') and icd_related_code is not None and not icd_related_code.startswith('Z'):\n",
        "            situations.append({\n",
        "                \"situation\": \"Séjour pour surveillance positive (DP = code Z, DR = affection nouvelle).\",\n",
        "                \"regle\": \"SD1\"\n",
        "            })\n",
        "\n",
        "        # Règle SD2 : Récidive de cancer\n",
        "        if icd_primary_code.startswith('C') and icd_related_code is not None and icd_related_code.startswith('Z85'):\n",
        "            situations.append({\n",
        "                \"situation\": \"Séjour pour récidive de cancer (DP = tumeur récidivante, DR = antécédent de cancer).\",\n",
        "                \"regle\": \"SD2\"\n",
        "            })\n",
        "\n",
        "        # Règle S4 : Surveillance post-accouchement\n",
        "        if icd_primary_code in [\"Z39.08\", \"Z76.2\"]:\n",
        "            situations.append({\n",
        "                \"situation\": \"Séjour pour surveillance post-accouchement ou nouveau-né sain (DP = code Z39 ou Z76).\",\n",
        "                \"regle\": \"S4\"\n",
        "            })\n",
        "\n",
        "        # --- Règles pour plusieurs DP possibles ---\n",
        "        # Règle M1 : Un problème principal\n",
        "        if len(situations) > 1:\n",
        "            situations.append({\n",
        "                \"situation\": \"Plusieurs problèmes de santé, mais un problème principal mobilise l’essentiel des efforts de soins.\",\n",
        "                \"regle\": \"M1\"\n",
        "            })\n",
        "\n",
        "        # Règle M2 : Efforts équivalents\n",
        "        if len(situations) > 1:\n",
        "            situations.append({\n",
        "                \"situation\": \"Plusieurs problèmes de santé avec efforts de soins équivalents.\",\n",
        "                \"regle\": \"M2\"\n",
        "            })\n",
        "\n",
        "        # --- Tirage au sort si plusieurs situations possibles ---\n",
        "        if len(situations) == 0:\n",
        "            return {\"situation\": \"Aucune règle ATIH ne correspond à ce scénario.\", \"regle\": None}\n",
        "        elif len(situations) == 1:\n",
        "            return situations[0]\n",
        "        else:\n",
        "            return random.choice(situations)\n",
        "\n",
        "    # Exemple d'utilisation\n",
        "    if __name__ == \"__main__\":\n",
        "        # Exemple 1 : DP = Z04.800, DR = G40.1\n",
        "        print(choisir_regle_atih(icd_primary_code=\"Z04.800\", icd_related_code=\"G40.1\"))\n",
        "\n",
        "        # Exemple 2 : DP = I21.9, DR = R07.4\n",
        "        print(choisir_regle_atih(icd_primary_code=\"I21.9\", icd_related_code=\"R07.4\"))\n",
        "\n",
        "        # Exemple 3 : DP = C50.9, DR = None\n",
        "        print(choisir_regle_atih(icd_primary_code=\"C50.9\", icd_related_code=None))\n",
        "\n",
        "        # Exemple 4 : DP = Z51.5, DR = None\n",
        "        print(choisir_regle_atih(icd_primary_code=\"Z51.5\", icd_related_code=None))"
      ]
    },
    {
      "cell_type": "code",
      "execution_count": 15,
      "metadata": {},
      "outputs": [],
      "source": [
        "df_res = pd.read_csv(\"results/test_generation_v1_response.csv\")\n",
        "    "
      ]
    },
    {
      "cell_type": "code",
      "execution_count": 16,
      "metadata": {},
      "outputs": [
        {
          "data": {
            "text/plain": [
              "Index(['Unnamed: 0', 'age', 'sexe', 'date_entry', 'date_discharge',\n",
              "       'date_of_birth', 'first_name', 'last_name', 'icd_primary_code',\n",
              "       'case_management_type', 'icd_secondaray_code', 'admission_mode',\n",
              "       'discharge_disposition', 'cancer_stage', 'score_TNM',\n",
              "       'histological_type', 'treatment_recommandation', 'chemotherapy_regimen',\n",
              "       'drg_parent_code', 'cage', 'cage2', 'admission_type', 'dms', 'los_mean',\n",
              "       'los_sd', 'drg_parent_description', 'icd_parent_code',\n",
              "       'icd_primary_description', 'case_management_type_description',\n",
              "       'first_name_med', 'last_name_med', 'text_secondary_icd_official',\n",
              "       'procedure', 'text_procedure', 'case_management_type_text', 'cd_md_pec',\n",
              "       'prompt', 'biomarkers', 'response'],\n",
              "      dtype='object')"
            ]
          },
          "execution_count": 16,
          "metadata": {},
          "output_type": "execute_result"
        }
      ],
      "source": [
        "df_res.columns\n"
      ]
    },
    {
      "cell_type": "code",
      "execution_count": 20,
      "metadata": {},
      "outputs": [],
      "source": [
        "\n",
        "df_res"
      ]
    },
    {
      "cell_type": "code",
      "execution_count": 34,
      "metadata": {},
      "outputs": [
        {
          "name": "stdout",
          "output_type": "stream",
          "text": [
            "Vous êtes un oncologue clinicien expert. Votre tâche est de générer un compte rendu d'hospitalisation en style clinique synthétique.\n",
            "\n",
            "\n",
            "**SCÉNARIO DE DÉPART :**\n",
            "- Âge du patient : 69 ans\n",
            "- Sexe du patient : Féminin\n",
            "- Date d'entrée : 10/01/2024\n",
            "- Date de sortie : 10/01/2024\n",
            "- Date de naissance : 26/07/1954\n",
            "- Prénom du patient : Nazra\n",
            "- Nom du patient : Velay\n",
            "- Mode de prise en charge : Hospitalisation en ambulatoire pour Examen de contrôle après d'autres traitements pour tumeur maligne\n",
            "- Codage CIM10 :\n",
            "   * Diagnostic principal : Tumeur maligne du sein (C50)\n",
            "   * Diagnostic relié : Examen de contrôle après d'autres traitements pour tumeur maligne (Z088)\n",
            "   * Diagnostic associés : \n",
            "- Autres formes de schizophrénie (F208)\n",
            "- Cachexie (R64)\n",
            "- Tumeur maligne secondaire du foie et des voies biliaires intrahépatiques (C787)\n",
            "- Tumeur maligne secondaire du cerveau et des méninges cérébrales (C793)\n",
            "- Douleurs chroniques irréductibles, autres et non précisées (R5218)\n",
            "- Pneumopathie bactérienne, sans précision (J159)\n",
            "- Hypothyroïdie, sans précision (E039)\n",
            "\n",
            "- Mode d'entrée' : DOMICILE\n",
            "- Mode de sortie' : DOMICILE\n",
            "- Score TNM : Si la notion de score de TNM est pertinente avec le type histologique et la localisation anatomique, vous choisirez un score TNM\n",
            "- Type anatomopathologique de la tumeur primaire : Vous choisirez vous même un type histologique cohérent avec la localisation anatomique\n",
            "- Localisation anatomique de la tumeur primaire : Tumeur maligne du sein (C50)\n",
            "\n",
            "\n",
            "\n",
            "**INSTRUCTIONS :**\n",
            "\n",
            "\n",
            "\n",
            "- Vous devez utiliser exclusivement les diagnostics fournis. Aucun autre diagnostic ne doit être ajouté ou inventé.\t\t\n",
            "\n",
            "- Lors vous mentionnerez dans le texte les diagnostics, vous utiliserez autant que faire ce peut une formulation moins formelle que la définition du code.\n",
            "\n",
            "- Aucune partie du texte ne doit être mise en gras.\n",
            "\n",
            "- Langue : Rédigez le compte rendu en français.\n",
            "\n",
            "- Style : Adoptez un style clinique informel, tel qu'utilisé couramment dans les notes cliniques quotidiennes.\n",
            "    + Ton télégraphique.\t\n",
            "    + Phrases éventuellement incomplètes (absence de sujet ou verbe) si cela reste naturel.\n",
            "    + Informations enchaînées par ponctuation simple : virgules, tirets, points-virgules, etc.\n",
            "\n",
            "- Formulation : \t\n",
            "    + Variez la structure des phrases. \t\n",
            "    + Variez les termes médicaux (synonymes, reformulations naturelles) tout en conservant leur précision clinique. Évitez les répétitions mot à mot.\t\n",
            "    + Utilisez, de manière occasionnelle et pertinente, des acronymes et abréviations médicales françaises courantes, sans en abuser.\n",
            "\n",
            "- Contenu à produire : Le compte rendu doit comporter les sections suivantes (max. 200 mots/section) :\t\n",
            "    + Motif d’hospitalisation\n",
            "    + Antécédents (médicaux, chirurgicaux, familiaux, allergies)\n",
            "    + Mode de vie (toxiques, profession, autres - par exemple activité physique, nombre de gestités et parités chez les femmes, situation sociale...)\n",
            "    + Histoire de la maladie\n",
            "    + Examen clinique (constantes vitales, examen physique, poids en kgs - en particulier si une dénutrition est évoquée, etc.) \n",
            "    + Examens complémentaires avec résultats (uniquement ceux réalisés durant l’hospitalisation)\n",
            "    + Évolution pendant l'hospitalisation: Veillez à être le plus exhaustif possible, en particulier indiquez : \n",
            "        Prise en charge diagnostique si pertinent\n",
            "\t\tConclusions des principaux examens complémentaires réalisés dans la section « Examens complémentaires »\n",
            " \t\tPathologies finales retenues si pertinent\n",
            "        Prise en charge thérapeutique si applicable\n",
            "        Suivi mis en place\n",
            "        Critères de sortie\n",
            "    + Conclusion\n",
            "\n",
            "- Chaque section doit commencer par un titre au format suivant : ### Nom de la section (ex. : ### Motif d'hospitalisation).\n",
            "\n",
            "- Attribuez des dates plausibles et cohérentes aux événements majeurs (hospitalisations, diagnostics, examens, traitements...).\n",
            "\n",
            "- Assurez la cohérence temporelle et médicale entre les différentes sections.\n",
            "\n",
            "- Ne pas inclure : Clauses de non-responsabilité.\n",
            "\n",
            "- Veillez à être le plus détaillé possible concernant le cancer. Incluez, si pertinent, les informations suivantes : \n",
            "    + État général : score de performance explicite selon l’échelle ECOG/OMS\n",
            "    + Statut gestationnel (contraception, grossesse ou allaitement) : uniquement chez les femmes\n",
            "    + Localisation anatomique de la tumeur primaire\n",
            "\t+ Type anatomopathologique de la tumeur primaire\n",
            "\t+ Stade tumoral : stade TNM ou mention qualitative (ex. : localisé, localement avancé...)\n",
            "    + Biomarqueurs tumoraux : si vous faites mention cette information,  indiquez obligatoirement les noms et valeurs, qu'elles soient quantitatives (chiffres) ou qualitatives (ex. : \"normal\", \"augmenté\"...)\n",
            "    + Localisation des sites métastatiques\n",
            "    + Évolutivité tumorale : si elle est mentionnée, vous devez obligatoirement :\n",
            "        * indiquer les examens ayant permis d’évaluer cette évolution, avec leurs résultats\n",
            "        * faire référence explicite aux examens antérieurs utilisés comme points de comparaison, afin de démontrer une progression ou une stabilité de la tumeur dans le temps\n",
            "    + Type de traitements antitumoraux reçus\n",
            "    + Médicaments antitumoraux administrés: précisez les noms \n",
            "    + Lignes de traitement antitumoral reçues: indiquez explicitement à quelle ligne de traitement le patient se trouve actuellement\n",
            "\t+ Cycles de chimiothérapie, la périodicité et le jour du cycle: indiquez explicitement à quel cycle de chimiothérapie le patient se trouve actuellement\n",
            "    + Protocole de chimiothérapie utilisé avec la dose\n",
            "    + La tolérance aiguë à la chimiothérapie\n",
            "\n",
            "Veillez à intégrer ces informations de façon naturelle dans le compte rendu, sans recourir à des formats semi-structurés, par exemple préférez une rédaction naturelle plutôt que « État général : ECOG 1 »).\n",
            "\n",
            "- À la fin du texte généré, fournissez :\n",
            "+ un dictionnaire listant les formulations utilisées pour chaque diagnostic fourni : {\"Code CIM - Définition du code\": [\"formulation utilisée 1\", \"formulation utilisée 2\", ...],...}\n",
            "Par exemple : {\"poussee hypertension arterielle\": [\"poussée hypertension arterielle\", \"poussée HTA\"],...} \n",
            "\n",
            "+ un dictionnaire listant les segments textuels utilisés pour décrire les informations suivantes, reproduits strictement à l’identique (copiés-collés depuis le texte généré, sans aucune modification ni interprétation, y compris ponctuation et orthographe) :\n",
            "    * Âge\n",
            "    * Sexe\n",
            "    * État général\n",
            "    * Statut gestationnel (s'il s'agit d'une femme)\n",
            "    * Gestité\n",
            "    * Comorbidités\n",
            "    * Topographie de la tumeur primaire: Localisation anatomique de la tumeur primaire\n",
            "    * Histologie tumorale : Type cellulaire explicite de la tumeur primaire. Ne pas inclure de localisations anatomiques générales (ex. : cancer du sein, tumeur pulmonaire...)\n",
            "    * Stade tumoral\n",
            "    * Biomarqueurs tumoraux\n",
            "    * Sites métastatiques : Localisations anatomiques des métastases\n",
            "    * Évolutivité tumorale\n",
            "    * Examens pour diagnostic initial: Noms des examens qui ont permis d'établir le diagnostic initial de la tumeur primaire\n",
            "    * Examens d'évaluation du stade tumoral : Noms des examens ayant servi à déterminer le stade tumoral initial\n",
            "    * Examens d’évaluation de l’évolutivité tumorale : Noms des examens ayant permis de juger de la progression ou de la stabilité de la maladie dans le temps\n",
            "    * Traitements antitumoraux : Type de traitements antitumoraux reçus, y compris les types de chirurgie pratiqués\n",
            "    * Lignes de traitement antitumoral\n",
            "    * Médicaments antitumoraux : Noms des médicaments antitumoraux administrés\n",
            "    * Cycles de chimiothérapie\n",
            "    * NFS: résultats explicites (valeurs ou qualificatifs comme \"normal\", \"élevé\",...)\n",
            "    * Créatinine : résultats explicites (valeurs ou qualificatifs comme \"normal\", \"élevé\",...)\n",
            "    * Bilan hepatique: résultats explicites (valeurs ou qualificatifs comme \"normal\", \"élevé\",...)\n",
            "\n",
            "Par exemple : {\"Âge\": [\"55 ans\"], \"Stade tumoral\": [\"cT4N1M2\"], \"Examens pour diagnostic initial\": [\"TDM thoracique\", \"IRM cérébrale\"],...}\n",
            "\n",
            "- La sortie doit être un objet JSON au format suivant :\n",
            "{\"CR\": \"le text généré\", \"formulations\": {\"diagnostics\": {...}, \"informations\": {...}}}\n",
            "\n",
            "Par exemple : {\"CR\": \"Texte du compte rendu ici...\", \"formulations\": {\"diagnostics\": {\"poussee hypertension arterielle\": [\"poussée hypertension arterielle\", \"poussée HTA\"]}, \"informations\": {\"Âge\": [\"55 ans\"], \"Stade tumoral\": [\"cT4N1M2\"], \"Examens pour diagnostic initial\": [\"TDM thoracique\", \"IRM cérébrale\"]}}}\n",
            "### Motif d’hospitalisation\n",
            "Hospitalisation en ambulatoire pour examen de contrôle après traitements pour tumeur maligne du sein.\n",
            "\n",
            "### Antécédents\n",
            "Médicaux : tumeur maligne du sein diagnostiquée en 2020, métastases au foie et au cerveau, cachexie, hypothyroïdie, pneumopathie bactérienne en 2022, schizophrénie.\n",
            "Chirurgicaux : mastectomie partielle en 2020.\n",
            "Familiaux : néant.\n",
            "Allergies : néant.\n",
            "\n",
            "### Mode de vie\n",
            "Toxiques : néant.\n",
            "Profession : retraitée.\n",
            "Autres : 3 gestités, 2 parités, vit seule à domicile, activité physique réduite.\n",
            "\n",
            "### Histoire de la maladie\n",
            "Diagnostic de cancer du sein en 2020, carcinome canalaire infiltrant, stade TNM cT2N1M0. Métastases hépatiques et cérébrales détectées en 2021. Traitements : mastectomie partielle, radiothérapie, chimiothérapie (6 cycles de FEC100), hormonothérapie (tamoxifène). Actuellement en 2ème ligne de traitement, cycle 3 de chimiothérapie (paclitaxel 80 mg/m²).\n",
            "\n",
            "### Examen clinique\n",
            "Constantes vitales : TA 120/80 mmHg, FC 80 bpm, SpO2 95%.\n",
            "Examen physique : patiente amaigrie, poids 48 kg, cicatrice de mastectomie, douleurs chroniques modérées.\n",
            "\n",
            "### Examens complémentaires avec résultats\n",
            "NFS : Hb 10 g/dL, GB 4000/mm³.\n",
            "Créatinine : 80 µmol/L.\n",
            "Bilan hépatique : normal.\n",
            "Scanner thoraco-abdomino-pelvien : stabilité des métastases hépatiques.\n",
            "IRM cérébrale : stabilité des métastases cérébrales.\n",
            "\n",
            "### Évolution pendant l'hospitalisation\n",
            "Prise en charge diagnostique : scanner TAP, IRM cérébrale.\n",
            "Conclusions : stabilité des métastases.\n",
            "Pathologies finales retenues : tumeur maligne du sein avec métastases hépatiques et cérébrales, cachexie, hypothyroïdie, pneumopathie bactérienne, schizophrénie.\n",
            "Prise en charge thérapeutique : poursuite de la chimiothérapie (paclitaxel), traitement de la douleur (paracétamol, tramadol), suivi psychiatrique.\n",
            "Suivi mis en place : consultation oncologie dans 3 mois, suivi psychiatrique mensuel.\n",
            "Critères de sortie : stabilité clinique et biologique.\n",
            "\n",
            "### Conclusion\n",
            "Patiente de 69 ans, ECOG 2, ménopausée, 3 gestités, 2 parités. Tumeur maligne du sein, carcinome canalaire infiltrant, stade cT2N1M0, métastases hépatiques et cérébrales. Stabilité sous chimiothérapie. Suivi oncologique et psychiatrique en place.\n"
          ]
        }
      ],
      "source": [
        "i = 6\n",
        "print(df_res.loc[i,\"prompt\"])\n",
        "print(json.loads(df_res.loc[i,\"response\"] )['CR'])"
      ]
    },
    {
      "cell_type": "code",
      "execution_count": 22,
      "metadata": {},
      "outputs": [],
      "source": [
        "gs.df_icd_official[(gs.df_icd_official.icd_code.str.contains(\"Z015\")) ].rename(columns={\"icd_code\":\"code\",\"icd_code_description\":\"description\"}).to_csv( path_ref + \"icd_codes_sensitization_tests.csv\",index=False,sep=\";\")"
      ]
    },
    {
      "cell_type": "code",
      "execution_count": 23,
      "metadata": {},
      "outputs": [
        {
          "data": {
            "text/plain": [
              "0    Z015\n",
              "Name: code, dtype: object"
            ]
          },
          "execution_count": 23,
          "metadata": {},
          "output_type": "execute_result"
        }
      ],
      "source": [
        " pd.read_csv(path_ref + \"icd_codes_sensitization_tests.csv\",sep=\";\").code"
      ]
    },
    {
      "cell_type": "code",
      "execution_count": null,
      "metadata": {},
      "outputs": [
        {
          "data": {
            "text/plain": [
              "0      E055\n",
              "1      E100\n",
              "2      E101\n",
              "3     E1100\n",
              "4     E1108\n",
              "5     E1110\n",
              "6     E1118\n",
              "7      J440\n",
              "8      J441\n",
              "9       J46\n",
              "10     K850\n",
              "11     K851\n",
              "12     K852\n",
              "13     K853\n",
              "14     K858\n",
              "15     K859\n",
              "Name: code, dtype: object"
            ]
          },
          "execution_count": 38,
          "metadata": {},
          "output_type": "execute_result"
        }
      ],
      "source": [
        "|Z94|Z951|Z952|Z953|Z954|Z955|Z956|Z957|Z958\n",
        "|\n",
        "Z762"
      ]
    },
    {
      "cell_type": "code",
      "execution_count": 3,
      "metadata": {},
      "outputs": [
        {
          "data": {
            "text/plain": [
              "False"
            ]
          },
          "execution_count": 3,
          "metadata": {},
          "output_type": "execute_result"
        }
      ],
      "source": [
        "\"toto\" in []"
      ]
    },
    {
      "cell_type": "code",
      "execution_count": 6,
      "metadata": {},
      "outputs": [],
      "source": [
        "df_scenario = pd.read_csv(\"results/generated_scenarios_20250918_1017.csv\")"
      ]
    },
    {
      "cell_type": "code",
      "execution_count": null,
      "metadata": {},
      "outputs": [],
      "source": [
        "df_scenario.to_csv(\"results/generated_scenarios_20250918_1017.csv\",index=False)"
      ]
    },
    {
      "cell_type": "code",
      "execution_count": 7,
      "metadata": {},
      "outputs": [
        {
          "name": "stdout",
          "output_type": "stream",
          "text": [
            "### Motif d’hospitalisationMonsieur Alann Vervoitte, 59 ans, est admis aux urgences de l’Hôpital Larrey le 10/11/2024 pour un tableau fébrile à 39,5°C évoluant depuis 48h, associé à des myalgies diffuses, des céphalées intenses et une coloration jaune des conjonctives. Il rapporte également des douleurs lombaires et une oligurie. À l’interrogatoire, il évoque un contact récent avec des eaux stagnantes (pêche en étang la semaine précédente). L’examen initial retrouve une hypotension à 90/60 mmHg, une tachycardie à 110 bpm et des pétéchies disséminées. Une suspicion de leptospirose sévère est évoquée en urgence, motivant son transfert en unité d’hépatogastroentérologie pour prise en charge diagnostique et thérapeutique.---### AntécédentsSur le plan médical, le patient présente :- Un **cancer de la prostate** diagnostiqué en 2022 (stade localisé, traité par radiothérapie externe en 2023, actuellement en surveillance avec PSA à 1,2 ng/mL en octobre 2024).- Des **troubles du rythme cardiaque** (bloc auriculoventriculaire de type Mobitz I diagnostiqué en 2021, sans pose de pacemaker à ce jour).- Une **dépendance alcoolique chronique** (consommation quotidienne estimée à 60 g/j d’éthanol pur, plusieurs tentatives de sevrage infructueuses).- Des **carences en magnésium** récidivantes (dernier épisode en 2023, lié à une malnutrition et à l’alcoolisme).- Un **érysipèle** de la jambe droite en 2020, traité par antibiothérapie per os.Aucun antécédent chirurgical notable en dehors de l’adénectomie prostatique par voie coelioscopique en 2023. Pas d’allergie médicamenteuse connue. Antécédents familiaux sans particularité (pas de cancer prostatique connu).---### Mode de vieAncien ouvrier du bâtiment (retraité depuis 2023 pour invalidité liée à son cancer), le patient vit seul dans un pavillon périurbain. Il déclare une **consommation alcoolique ancienne** (bière et vin quotidiennement depuis l’âge de 20 ans), sans autre toxique. Tabagisme sevré en 2020 (20 paquets-année). Activité physique réduite (marche occasionnelle). Alimentation déséquilibrée, pauvre en fruits et légumes, avec épisodes de dénutrition en lien avec ses hospitalisations passées.Aucun suivi social régulier, mais bénéficiaire de l’AME pour ses soins. Pas de soutien familial proche (divorcé, 2 enfants en région parisienne avec contacts sporadiques).---### Histoire de la maladieLes symptômes ont débuté 72h avant l’admission par un syndrome grippal (frissons, courbatures) avec fièvre mesurée à 38,5°C. Le 09/11, apparition d’une **ictère conjonctival** puis cutané, associée à des douleurs musculaires diffuses (notamment aux mollets) et une asthénie majeure. Le patient note aussi une **diminution du volume des urines** (diurèse estimée à 500 mL/24h) et des saignements gingivaux au brossage. Il consulte son médecin traitant qui suspecte une **infection sévère** et l’adresse aux urgences.À l’arrivée, le bilan initial confirme une **insuffisance rénale aiguë** (créatinine à 220 µmol/L vs 90 µmol/L en 2023), une **cytolyse hépatique** (ALAT à 5xN, bilirubine totale à 80 µmol/L) et une **thrombopénie** à 80 G/L. La notion de baignade en eau douce récente oriente vers une **leptospirose ictéro-hémorragique**, d’autant que le patient n’a pas voyagé en zone tropicale.---### Examen cliniqueÀ l’admission (10/11/2024, 14h) :- **Constantes** : TA 90/60 mmHg (vs 130/80 mmHg habituelle), FC 110 bpm (rythme régulier), FR 20/min, SpO₂ 98% en air ambiant, T° 39,2°C.- **Poids** : 68 kg (vs 75 kg en 2023, amaigrissement de 7 kg en 1 an).- **État général** : Patient prostré, déshydraté (pli cutané), ictère généralisé. Score ECOG estimé à 2 (alité >50% du temps depuis 48h).- **Examen physique** :  - **Cutané** : pétéchies des membres inférieurs et du tronc, érythème chaud et douloureux de la face antérieure de la jambe droite (récidive d’érysipèle ?).  - **Cardio** : souffle systolique 2/6 sans irradiation, pas de galop. ECG en urgence : bloc AV du 1er degré (PR à 280 ms) connu, sans aggravation.  - **Abdomen** : souple, foie palpable à 2 cm sous le rebord costal droit (sensible), pas de splénomégalie.  - **Neurologique** : céphalées diffuses, photophobie, pas de signe de localisation. Raideur méningée absente.  - **Urogénital** : prostate indurée, non douloureuse, sans globe vésical.---### Examens complémentaires- **Biologie** (10/11/2024) :  - **NFS** : Hb 11,2 g/dL (normocyte), leucocytes 12 G/L (PNN 80%), plaquettes 80 G/L.  - **Bilan rénal** : urée 15 mmol/L, créatinine 220 µmol/L (DFG estimé à 25 mL/min), kaliémie 5,1 mmol/L, natrémie 130 mmol/L.  - **Bilan hépatique** : bilirubine totale 80 µmol/L (conjuguée 60), ALAT 200 UI/L (N<40), ASAT 180 UI/L, TP 60% (INR 1,5).  - **Inflammatoire** : CRP 220 mg/L, PCT 15 µg/L.  - **Magnésémie** : 0,5 mmol/L (hypomagnésémie sévère).  - **Sérologie leptospirose** : IgM positives (titres élevés), PCR sanguine en attente.  - **Hémocultures** : négatives à J2.  - **BU** : protéinurie 1+, hématies 20/mm³, leucocytes 10/mm³.- **Imagerie** :  - **Échographie abdominale** (11/11) : foie homogène sans dilatation biliaire, reins de taille normale sans obstruction. Vésicule biliaire fine, sans lithiase.  - **ECG** (10/11) : bloc AV 1er degré stable, pas d’ischémie aiguë.  - **Radio thorax** : normale (pas de foyer infectieux).---### Évolution pendant l'hospitalisation#### Démarche diagnostiqueLe tableau clinique et biologique (fièvre + ictère + insuffisance rénale + thrombopénie + exposition à eau douce) est évocateur d’une **leptospirose sévère forme ictéro-hémorragique**. La sérologie positive (IgM) confirme le diagnostic. Les autres hypothèses (hépatite virale, sepsis à germes banals) sont écartées devant :- L’absence d’élévation des transaminases >10N.- Les hémocultures stériles.- La notion d’exposition environnementale typique.Un **érysipèle de la jambe droite** est également diagnostiqué (érythème + fièvre + leucocytose), probablement surinfecté à streptocoque (prélèvement cutané positif au streptocoque β-hémolytique du groupe A).Le **bloc AV** est surveillé en scope (pas d’aggravation sous traitement). La **carença en magnésium** est corrigée par perfusion (sulfate de magnésium).#### Traitements- **Antibiothérapie** :  - **Leptospirose** : céftriaxone 2 g/j IV (J1-J7), relayé par doxycycline 200 mg/j per os (J8-J14).  - **Érysipèle** : amoxicilline-acide clavulanique 1 g x3/j IV (J1-J5), puis per os.- **Traitement symptomatique** :  - Réhydratation IV (sérum physiologique 1,5 L/j) + correction des troubles ioniques (K+, Mg2+).  - Paracétamol 1 g x3/j pour la fièvre et les céphalées.  - Oméprazole 20 mg/j (protection gastrique).- **Prise en charge du cancer de prostate** :  - Surveillance du PSA (stable à 1,2 ng/mL, pas de signe de récidive).  - Consultation d’oncologie programmée en post-hospitalisation pour évaluation du statut hormonal (castration chimique en cours par acétate de leuproreline).- **Alcoolodépendance** :  - Initiation d’un traitement par acamprosate 666 mg x3/j, avec liaison avec le CSAPA local pour un sevrage ambulatoire.  - Prescription de vitamine B1 (thiamine) 250 mg/j IV puis per os.#### Évolution clinique- **J2 (12/11)** : Apyrexie sous antibiothérapie, diurèse redevenue normale (1,5 L/24h), amélioration de l’ictère (bilirubine à 50 µmol/L).- **J3 (13/11)** : Disparition des pétéchies, amélioration de l’érythème de jambe. Créatinine en baisse à 150 µmol/L.- **J5 (15/11)** : Reprise de l’alimentation orale, magnésémie normalisée (0,8 mmol/L). ECG de contrôle : bloc AV inchangé.- **J7 (17/11)** : Sortie prévue avec :  - Antibiotiques per os pour 7 jours supplémentaires.  - Rendez-vous en infectiologie (contrôle sérologique leptospirose à J21).  - Consultation en addictologie sous 1 semaine.---### ConclusionHospitalisation de 7 jours pour une **leptospirose ictéro-hémorragique** compliquée d’une **insuffisance rénale aiguë** et d’un **érysipèle surinfecté**, sur terrain fragilisé par une **alcoolodépendance chronique**, une **hypomagnésémie** et un **antécédent de cancer prostatique**. Évolution favorable sous céftriaxone et réhydratation, avec correction des troubles hydro-électrolytiques. Le **bloc auriculoventriculaire** connu n’a pas évolué. Sortie vers le domicile avec relais ambulatoire organisé (infectiologie, addictologie, oncologie).Le patient est informé des mesures de prévention (éviction des eaux stagnantes, port de bottes pour activités à risque) et de la nécessité d’un sevrage alcoolique pour limiter les récidives infectieuses et métaboliques.\n"
          ]
        }
      ],
      "source": [
        "print( \"### Motif d’hospitalisationMonsieur Alann Vervoitte, 59 ans, est admis aux urgences de l’Hôpital Larrey le 10/11/2024 pour un tableau fébrile à 39,5°C évoluant depuis 48h, associé à des myalgies diffuses, des céphalées intenses et une coloration jaune des conjonctives. Il rapporte également des douleurs lombaires et une oligurie. À l’interrogatoire, il évoque un contact récent avec des eaux stagnantes (pêche en étang la semaine précédente). L’examen initial retrouve une hypotension à 90/60 mmHg, une tachycardie à 110 bpm et des pétéchies disséminées. Une suspicion de leptospirose sévère est évoquée en urgence, motivant son transfert en unité d’hépatogastroentérologie pour prise en charge diagnostique et thérapeutique.---### AntécédentsSur le plan médical, le patient présente :- Un **cancer de la prostate** diagnostiqué en 2022 (stade localisé, traité par radiothérapie externe en 2023, actuellement en surveillance avec PSA à 1,2 ng/mL en octobre 2024).- Des **troubles du rythme cardiaque** (bloc auriculoventriculaire de type Mobitz I diagnostiqué en 2021, sans pose de pacemaker à ce jour).- Une **dépendance alcoolique chronique** (consommation quotidienne estimée à 60 g/j d’éthanol pur, plusieurs tentatives de sevrage infructueuses).- Des **carences en magnésium** récidivantes (dernier épisode en 2023, lié à une malnutrition et à l’alcoolisme).- Un **érysipèle** de la jambe droite en 2020, traité par antibiothérapie per os.Aucun antécédent chirurgical notable en dehors de l’adénectomie prostatique par voie coelioscopique en 2023. Pas d’allergie médicamenteuse connue. Antécédents familiaux sans particularité (pas de cancer prostatique connu).---### Mode de vieAncien ouvrier du bâtiment (retraité depuis 2023 pour invalidité liée à son cancer), le patient vit seul dans un pavillon périurbain. Il déclare une **consommation alcoolique ancienne** (bière et vin quotidiennement depuis l’âge de 20 ans), sans autre toxique. Tabagisme sevré en 2020 (20 paquets-année). Activité physique réduite (marche occasionnelle). Alimentation déséquilibrée, pauvre en fruits et légumes, avec épisodes de dénutrition en lien avec ses hospitalisations passées.Aucun suivi social régulier, mais bénéficiaire de l’AME pour ses soins. Pas de soutien familial proche (divorcé, 2 enfants en région parisienne avec contacts sporadiques).---### Histoire de la maladieLes symptômes ont débuté 72h avant l’admission par un syndrome grippal (frissons, courbatures) avec fièvre mesurée à 38,5°C. Le 09/11, apparition d’une **ictère conjonctival** puis cutané, associée à des douleurs musculaires diffuses (notamment aux mollets) et une asthénie majeure. Le patient note aussi une **diminution du volume des urines** (diurèse estimée à 500 mL/24h) et des saignements gingivaux au brossage. Il consulte son médecin traitant qui suspecte une **infection sévère** et l’adresse aux urgences.À l’arrivée, le bilan initial confirme une **insuffisance rénale aiguë** (créatinine à 220 µmol/L vs 90 µmol/L en 2023), une **cytolyse hépatique** (ALAT à 5xN, bilirubine totale à 80 µmol/L) et une **thrombopénie** à 80 G/L. La notion de baignade en eau douce récente oriente vers une **leptospirose ictéro-hémorragique**, d’autant que le patient n’a pas voyagé en zone tropicale.---### Examen cliniqueÀ l’admission (10/11/2024, 14h) :- **Constantes** : TA 90/60 mmHg (vs 130/80 mmHg habituelle), FC 110 bpm (rythme régulier), FR 20/min, SpO₂ 98% en air ambiant, T° 39,2°C.- **Poids** : 68 kg (vs 75 kg en 2023, amaigrissement de 7 kg en 1 an).- **État général** : Patient prostré, déshydraté (pli cutané), ictère généralisé. Score ECOG estimé à 2 (alité >50% du temps depuis 48h).- **Examen physique** :  - **Cutané** : pétéchies des membres inférieurs et du tronc, érythème chaud et douloureux de la face antérieure de la jambe droite (récidive d’érysipèle ?).  - **Cardio** : souffle systolique 2/6 sans irradiation, pas de galop. ECG en urgence : bloc AV du 1er degré (PR à 280 ms) connu, sans aggravation.  - **Abdomen** : souple, foie palpable à 2 cm sous le rebord costal droit (sensible), pas de splénomégalie.  - **Neurologique** : céphalées diffuses, photophobie, pas de signe de localisation. Raideur méningée absente.  - **Urogénital** : prostate indurée, non douloureuse, sans globe vésical.---### Examens complémentaires- **Biologie** (10/11/2024) :  - **NFS** : Hb 11,2 g/dL (normocyte), leucocytes 12 G/L (PNN 80%), plaquettes 80 G/L.  - **Bilan rénal** : urée 15 mmol/L, créatinine 220 µmol/L (DFG estimé à 25 mL/min), kaliémie 5,1 mmol/L, natrémie 130 mmol/L.  - **Bilan hépatique** : bilirubine totale 80 µmol/L (conjuguée 60), ALAT 200 UI/L (N<40), ASAT 180 UI/L, TP 60% (INR 1,5).  - **Inflammatoire** : CRP 220 mg/L, PCT 15 µg/L.  - **Magnésémie** : 0,5 mmol/L (hypomagnésémie sévère).  - **Sérologie leptospirose** : IgM positives (titres élevés), PCR sanguine en attente.  - **Hémocultures** : négatives à J2.  - **BU** : protéinurie 1+, hématies 20/mm³, leucocytes 10/mm³.- **Imagerie** :  - **Échographie abdominale** (11/11) : foie homogène sans dilatation biliaire, reins de taille normale sans obstruction. Vésicule biliaire fine, sans lithiase.  - **ECG** (10/11) : bloc AV 1er degré stable, pas d’ischémie aiguë.  - **Radio thorax** : normale (pas de foyer infectieux).---### Évolution pendant l'hospitalisation#### Démarche diagnostiqueLe tableau clinique et biologique (fièvre + ictère + insuffisance rénale + thrombopénie + exposition à eau douce) est évocateur d’une **leptospirose sévère forme ictéro-hémorragique**. La sérologie positive (IgM) confirme le diagnostic. Les autres hypothèses (hépatite virale, sepsis à germes banals) sont écartées devant :- L’absence d’élévation des transaminases >10N.- Les hémocultures stériles.- La notion d’exposition environnementale typique.Un **érysipèle de la jambe droite** est également diagnostiqué (érythème + fièvre + leucocytose), probablement surinfecté à streptocoque (prélèvement cutané positif au streptocoque β-hémolytique du groupe A).Le **bloc AV** est surveillé en scope (pas d’aggravation sous traitement). La **carença en magnésium** est corrigée par perfusion (sulfate de magnésium).#### Traitements- **Antibiothérapie** :  - **Leptospirose** : céftriaxone 2 g/j IV (J1-J7), relayé par doxycycline 200 mg/j per os (J8-J14).  - **Érysipèle** : amoxicilline-acide clavulanique 1 g x3/j IV (J1-J5), puis per os.- **Traitement symptomatique** :  - Réhydratation IV (sérum physiologique 1,5 L/j) + correction des troubles ioniques (K+, Mg2+).  - Paracétamol 1 g x3/j pour la fièvre et les céphalées.  - Oméprazole 20 mg/j (protection gastrique).- **Prise en charge du cancer de prostate** :  - Surveillance du PSA (stable à 1,2 ng/mL, pas de signe de récidive).  - Consultation d’oncologie programmée en post-hospitalisation pour évaluation du statut hormonal (castration chimique en cours par acétate de leuproreline).- **Alcoolodépendance** :  - Initiation d’un traitement par acamprosate 666 mg x3/j, avec liaison avec le CSAPA local pour un sevrage ambulatoire.  - Prescription de vitamine B1 (thiamine) 250 mg/j IV puis per os.#### Évolution clinique- **J2 (12/11)** : Apyrexie sous antibiothérapie, diurèse redevenue normale (1,5 L/24h), amélioration de l’ictère (bilirubine à 50 µmol/L).- **J3 (13/11)** : Disparition des pétéchies, amélioration de l’érythème de jambe. Créatinine en baisse à 150 µmol/L.- **J5 (15/11)** : Reprise de l’alimentation orale, magnésémie normalisée (0,8 mmol/L). ECG de contrôle : bloc AV inchangé.- **J7 (17/11)** : Sortie prévue avec :  - Antibiotiques per os pour 7 jours supplémentaires.  - Rendez-vous en infectiologie (contrôle sérologique leptospirose à J21).  - Consultation en addictologie sous 1 semaine.---### ConclusionHospitalisation de 7 jours pour une **leptospirose ictéro-hémorragique** compliquée d’une **insuffisance rénale aiguë** et d’un **érysipèle surinfecté**, sur terrain fragilisé par une **alcoolodépendance chronique**, une **hypomagnésémie** et un **antécédent de cancer prostatique**. Évolution favorable sous céftriaxone et réhydratation, avec correction des troubles hydro-électrolytiques. Le **bloc auriculoventriculaire** connu n’a pas évolué. Sortie vers le domicile avec relais ambulatoire organisé (infectiologie, addictologie, oncologie).Le patient est informé des mesures de prévention (éviction des eaux stagnantes, port de bottes pour activités à risque) et de la nécessité d’un sevrage alcoolique pour limiter les récidives infectieuses et métaboliques.\")"
      ]
    },
    {
      "cell_type": "code",
      "execution_count": 15,
      "metadata": {},
      "outputs": [],
      "source": [
        "file_name = \"extractions_associations_20250909.csv\"\n",
        "df_classification_profile = pd.read_csv(gs.path_data + file_name,sep=\";\")"
      ]
    },
    {
      "cell_type": "code",
      "execution_count": 21,
      "metadata": {},
      "outputs": [
        {
          "data": {
            "text/html": [
              "<div>\n",
              "<style scoped>\n",
              "    .dataframe tbody tr th:only-of-type {\n",
              "        vertical-align: middle;\n",
              "    }\n",
              "\n",
              "    .dataframe tbody tr th {\n",
              "        vertical-align: top;\n",
              "    }\n",
              "\n",
              "    .dataframe thead th {\n",
              "        text-align: right;\n",
              "    }\n",
              "</style>\n",
              "<table border=\"1\" class=\"dataframe\">\n",
              "  <thead>\n",
              "    <tr style=\"text-align: right;\">\n",
              "      <th></th>\n",
              "      <th>type_hosp</th>\n",
              "      <th>diagnostic</th>\n",
              "      <th>age</th>\n",
              "      <th>racine</th>\n",
              "      <th>diagnostic_associes</th>\n",
              "    </tr>\n",
              "  </thead>\n",
              "  <tbody>\n",
              "    <tr>\n",
              "      <th>0</th>\n",
              "      <td>HC</td>\n",
              "      <td>A000</td>\n",
              "      <td>ge_18</td>\n",
              "      <td>06M03</td>\n",
              "      <td>B180 B962 E46 E86 F122 I451 N178 R392 R571 T79...</td>\n",
              "    </tr>\n",
              "    <tr>\n",
              "      <th>1</th>\n",
              "      <td>HC</td>\n",
              "      <td>A001</td>\n",
              "      <td>ge_18</td>\n",
              "      <td>06M03</td>\n",
              "      <td>A038 E039 M1007 Z290</td>\n",
              "    </tr>\n",
              "    <tr>\n",
              "      <th>2</th>\n",
              "      <td>HC</td>\n",
              "      <td>A001</td>\n",
              "      <td>ge_18</td>\n",
              "      <td>06M03</td>\n",
              "      <td>E8718 R571 Z290</td>\n",
              "    </tr>\n",
              "    <tr>\n",
              "      <th>3</th>\n",
              "      <td>HC</td>\n",
              "      <td>A001</td>\n",
              "      <td>ge_18</td>\n",
              "      <td>06M03</td>\n",
              "      <td>Z290</td>\n",
              "    </tr>\n",
              "    <tr>\n",
              "      <th>4</th>\n",
              "      <td>HC</td>\n",
              "      <td>A009</td>\n",
              "      <td>ge_18</td>\n",
              "      <td>06M03</td>\n",
              "      <td>D695 E780 E8718 E891 I10 I252 I255 I482 K219 K...</td>\n",
              "    </tr>\n",
              "    <tr>\n",
              "      <th>...</th>\n",
              "      <td>...</td>\n",
              "      <td>...</td>\n",
              "      <td>...</td>\n",
              "      <td>...</td>\n",
              "      <td>...</td>\n",
              "    </tr>\n",
              "    <tr>\n",
              "      <th>2529155</th>\n",
              "      <td>HP</td>\n",
              "      <td>Z998</td>\n",
              "      <td>lt_18</td>\n",
              "      <td>23M20</td>\n",
              "      <td>C410</td>\n",
              "    </tr>\n",
              "    <tr>\n",
              "      <th>2529156</th>\n",
              "      <td>HP</td>\n",
              "      <td>Z998</td>\n",
              "      <td>lt_18</td>\n",
              "      <td>23M20</td>\n",
              "      <td>D588</td>\n",
              "    </tr>\n",
              "    <tr>\n",
              "      <th>2529157</th>\n",
              "      <td>HP</td>\n",
              "      <td>Z998</td>\n",
              "      <td>lt_18</td>\n",
              "      <td>23M20</td>\n",
              "      <td>K318</td>\n",
              "    </tr>\n",
              "    <tr>\n",
              "      <th>2529158</th>\n",
              "      <td>HP</td>\n",
              "      <td>Z998</td>\n",
              "      <td>lt_18</td>\n",
              "      <td>23M20</td>\n",
              "      <td>K500 Z713</td>\n",
              "    </tr>\n",
              "    <tr>\n",
              "      <th>2529159</th>\n",
              "      <td>HP</td>\n",
              "      <td>Z998</td>\n",
              "      <td>lt_18</td>\n",
              "      <td>23M20</td>\n",
              "      <td>R13 R5218</td>\n",
              "    </tr>\n",
              "  </tbody>\n",
              "</table>\n",
              "<p>2529160 rows × 5 columns</p>\n",
              "</div>"
            ],
            "text/plain": [
              "        type_hosp diagnostic    age racine  \\\n",
              "0              HC       A000  ge_18  06M03   \n",
              "1              HC       A001  ge_18  06M03   \n",
              "2              HC       A001  ge_18  06M03   \n",
              "3              HC       A001  ge_18  06M03   \n",
              "4              HC       A009  ge_18  06M03   \n",
              "...           ...        ...    ...    ...   \n",
              "2529155        HP       Z998  lt_18  23M20   \n",
              "2529156        HP       Z998  lt_18  23M20   \n",
              "2529157        HP       Z998  lt_18  23M20   \n",
              "2529158        HP       Z998  lt_18  23M20   \n",
              "2529159        HP       Z998  lt_18  23M20   \n",
              "\n",
              "                                       diagnostic_associes  \n",
              "0        B180 B962 E46 E86 F122 I451 N178 R392 R571 T79...  \n",
              "1                                     A038 E039 M1007 Z290  \n",
              "2                                          E8718 R571 Z290  \n",
              "3                                                     Z290  \n",
              "4        D695 E780 E8718 E891 I10 I252 I255 I482 K219 K...  \n",
              "...                                                    ...  \n",
              "2529155                                               C410  \n",
              "2529156                                               D588  \n",
              "2529157                                               K318  \n",
              "2529158                                          K500 Z713  \n",
              "2529159                                          R13 R5218  \n",
              "\n",
              "[2529160 rows x 5 columns]"
            ]
          },
          "execution_count": 21,
          "metadata": {},
          "output_type": "execute_result"
        }
      ],
      "source": [
        "df_classification_profile"
      ]
    },
    {
      "cell_type": "code",
      "execution_count": 57,
      "metadata": {},
      "outputs": [],
      "source": [
        "df = gs.df_classification_profile.copy()\n",
        "file_name = \"icd_primary_exclusions.csv\"\n",
        "df_exc = pd.read_csv(gs.path_ref + file_name,sep=\";\")"
      ]
    },
    {
      "cell_type": "code",
      "execution_count": 63,
      "metadata": {},
      "outputs": [],
      "source": [
        "df_z = df[df.icd_primary_code.str.slice(0,1)==\"Z\"].groupby(\"icd_primary_code\").agg(nb=(\"nb\",\"sum\")).reset_index().rename(columns={\"icd_primary_code\":\"icd_code\"})"
      ]
    },
    {
      "cell_type": "code",
      "execution_count": 64,
      "metadata": {},
      "outputs": [],
      "source": [
        "df_z = gs.df_icd_official[gs.df_icd_official.icd_code.str.slice(0,1)==\"Z\"].merge(df_z,how= \"left\")"
      ]
    },
    {
      "cell_type": "code",
      "execution_count": 65,
      "metadata": {},
      "outputs": [
        {
          "name": "stderr",
          "output_type": "stream",
          "text": [
            "C:\\Users\\3056269\\AppData\\Local\\Temp\\ipykernel_22508\\1599298326.py:2: SettingWithCopyWarning: \n",
            "A value is trying to be set on a copy of a slice from a DataFrame\n",
            "\n",
            "See the caveats in the documentation: https://pandas.pydata.org/pandas-docs/stable/user_guide/indexing.html#returning-a-view-versus-a-copy\n",
            "  df_z.exclus[df_z.icd_code.isin(df_exc.icd_code)]=\"Oui\"\n"
          ]
        }
      ],
      "source": [
        "df_z = df_z.assign(exclus=\"Non\")\n",
        "df_z.exclus[df_z.icd_code.isin(df_exc.icd_code)]=\"Oui\""
      ]
    },
    {
      "cell_type": "code",
      "execution_count": 67,
      "metadata": {},
      "outputs": [],
      "source": [
        "df_z.to_excel(\"C:/data/wd/z_dp.xlsx\",index=False)"
      ]
    },
    {
      "cell_type": "code",
      "execution_count": 56,
      "metadata": {},
      "outputs": [
        {
          "data": {
            "text/plain": [
              "0     Z001\n",
              "1     Z004\n",
              "2     Z005\n",
              "3     Z006\n",
              "4     Z008\n",
              "      ... \n",
              "92    C118\n",
              "93    C138\n",
              "94    C258\n",
              "95    C328\n",
              "96    Z491\n",
              "Name: icd_code, Length: 97, dtype: object"
            ]
          },
          "execution_count": 56,
          "metadata": {},
          "output_type": "execute_result"
        }
      ],
      "source": [
        "df_exc.icd_code"
      ]
    },
    {
      "cell_type": "code",
      "execution_count": 49,
      "metadata": {},
      "outputs": [],
      "source": []
    },
    {
      "cell_type": "code",
      "execution_count": null,
      "metadata": {},
      "outputs": [],
      "source": [
        "df_z = gs.df_icd_official[]"
      ]
    },
    {
      "cell_type": "code",
      "execution_count": 50,
      "metadata": {},
      "outputs": [
        {
          "data": {
            "text/html": [
              "<div>\n",
              "<style scoped>\n",
              "    .dataframe tbody tr th:only-of-type {\n",
              "        vertical-align: middle;\n",
              "    }\n",
              "\n",
              "    .dataframe tbody tr th {\n",
              "        vertical-align: top;\n",
              "    }\n",
              "\n",
              "    .dataframe thead th {\n",
              "        text-align: right;\n",
              "    }\n",
              "</style>\n",
              "<table border=\"1\" class=\"dataframe\">\n",
              "  <thead>\n",
              "    <tr style=\"text-align: right;\">\n",
              "      <th></th>\n",
              "      <th>icd_code</th>\n",
              "      <th>description</th>\n",
              "    </tr>\n",
              "  </thead>\n",
              "  <tbody>\n",
              "    <tr>\n",
              "      <th>0</th>\n",
              "      <td>Z001</td>\n",
              "      <td>NaN</td>\n",
              "    </tr>\n",
              "    <tr>\n",
              "      <th>1</th>\n",
              "      <td>Z004</td>\n",
              "      <td>NaN</td>\n",
              "    </tr>\n",
              "    <tr>\n",
              "      <th>2</th>\n",
              "      <td>Z005</td>\n",
              "      <td>NaN</td>\n",
              "    </tr>\n",
              "    <tr>\n",
              "      <th>3</th>\n",
              "      <td>Z006</td>\n",
              "      <td>NaN</td>\n",
              "    </tr>\n",
              "    <tr>\n",
              "      <th>4</th>\n",
              "      <td>Z008</td>\n",
              "      <td>NaN</td>\n",
              "    </tr>\n",
              "    <tr>\n",
              "      <th>...</th>\n",
              "      <td>...</td>\n",
              "      <td>...</td>\n",
              "    </tr>\n",
              "    <tr>\n",
              "      <th>92</th>\n",
              "      <td>C118</td>\n",
              "      <td>NaN</td>\n",
              "    </tr>\n",
              "    <tr>\n",
              "      <th>93</th>\n",
              "      <td>C138</td>\n",
              "      <td>NaN</td>\n",
              "    </tr>\n",
              "    <tr>\n",
              "      <th>94</th>\n",
              "      <td>C258</td>\n",
              "      <td>NaN</td>\n",
              "    </tr>\n",
              "    <tr>\n",
              "      <th>95</th>\n",
              "      <td>C328</td>\n",
              "      <td>NaN</td>\n",
              "    </tr>\n",
              "    <tr>\n",
              "      <th>96</th>\n",
              "      <td>Z491</td>\n",
              "      <td>Dialyse extra-corporelle</td>\n",
              "    </tr>\n",
              "  </tbody>\n",
              "</table>\n",
              "<p>97 rows × 2 columns</p>\n",
              "</div>"
            ],
            "text/plain": [
              "   icd_code               description\n",
              "0      Z001                       NaN\n",
              "1      Z004                       NaN\n",
              "2      Z005                       NaN\n",
              "3      Z006                       NaN\n",
              "4      Z008                       NaN\n",
              "..      ...                       ...\n",
              "92     C118                       NaN\n",
              "93     C138                       NaN\n",
              "94     C258                       NaN\n",
              "95     C328                       NaN\n",
              "96     Z491  Dialyse extra-corporelle\n",
              "\n",
              "[97 rows x 2 columns]"
            ]
          },
          "execution_count": 50,
          "metadata": {},
          "output_type": "execute_result"
        }
      ],
      "source": [
        "gs.df_icd_official.to_excel(\"C:/data/wd/z_dp.xlsx\")\n",
        "\n",
        "df_exc"
      ]
    },
    {
      "cell_type": "code",
      "execution_count": null,
      "metadata": {},
      "outputs": [],
      "source": [
        "profile = df_scenario.loc[1]\n",
        "grouping_procedure =[\"procedure\",\"drg_parent_code\",\"icd_primary_code\",\"cage2\",\"sexe\"]\n",
        "procedures = gs.sample_from_df(profile =profile,df_values= gs.df_procedures[grouping_procedure],nb=1) \n",
        "procedures.procedure.values[0]\n",
        "procedures.procedure_description_official.values[0]"
      ]
    }
  ],
  "metadata": {
    "colab": {
      "include_colab_link": true,
      "provenance": []
    },
    "kernelspec": {
      "display_name": "Python 3",
      "name": "python3"
    },
    "language_info": {
      "codemirror_mode": {
        "name": "ipython",
        "version": 3
      },
      "file_extension": ".py",
      "mimetype": "text/x-python",
      "name": "python",
      "nbconvert_exporter": "python",
      "pygments_lexer": "ipython3",
      "version": "3.10.6"
    },
    "orig_nbformat": 4,
    "vscode": {
      "interpreter": {
        "hash": "26de051ba29f2982a8de78e945f0abaf191376122a1563185a90213a26c5da77"
      }
    }
  },
  "nbformat": 4,
  "nbformat_minor": 0
}
