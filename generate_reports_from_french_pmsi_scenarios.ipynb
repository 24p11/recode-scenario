{
  "cells": [
    {
      "cell_type": "markdown",
      "metadata": {
        "colab_type": "text",
        "id": "view-in-github"
      },
      "source": [
        "<a href=\"https://colab.research.google.com/github/24p11/recode-scenario/blob/main/scenario_oncology_v2.ipynb\" target=\"_parent\"><img src=\"https://colab.research.google.com/assets/colab-badge.svg\" alt=\"Open In Colab\"/></a>"
      ]
    },
    {
      "cell_type": "markdown",
      "metadata": {
        "id": "TA98me3BVrPP"
      },
      "source": [
        "## Create fictive clinical notes from Code set (DRG + ICD)\n",
        "\n",
        "Code set are the raw classification data, we can extract from National database (Base nationale PMSI en France). They are made of \n",
        "* classification profile made of grouping variables from DRG records which are prepared with their frequency in the national database\n",
        "    - age (class)\n",
        "    - sexe\n",
        "    - DRG (racine GHM)\n",
        "    - Main diagnosis (ICD10) : cf\n",
        "    - Hospitalization management type : cf\n",
        "* diagnosis associated to each classification profile, extracted with their frequencies\n",
        "* procedures associated to each classification profile, specialy for surgery and technical gestures, extracted with their frequencies\n",
        "\n",
        "From thoses raw information we produce a coded clinical scenario which will be uses a seed.\n",
        "\n",
        "This scenario is transformed into a detail prompt that will be given to a LLM for generation.\n",
        "From the combinaision of primary and related diagnosis in French discharge abstract, we derived two notions :\n",
        "* Primary diagnosis : host the notion of principal pathology, it is rather the primary diagnosis of the discharge abstract or the related diagnosis when it exists and that the primary diagnosis of the discharge abstract is from the chapter \"Facteurs influant sur l’état de santé\" of ICD10\n",
        "* The Hospitalization management type is rather the term \"Primary diagnosis\" or the ICD-10 code of the related diagnosis when it exists\n"
      ]
    },
    {
      "cell_type": "code",
      "execution_count": 2,
      "metadata": {},
      "outputs": [],
      "source": [
        "%load_ext autoreload\n",
        "%autoreload 2"
      ]
    },
    {
      "cell_type": "code",
      "execution_count": 3,
      "metadata": {
        "id": "iYwLpeT3VrPQ"
      },
      "outputs": [],
      "source": [
        "import pandas as pd\n",
        "import numpy as np\n",
        "import datetime as dt"
      ]
    },
    {
      "cell_type": "code",
      "execution_count": 4,
      "metadata": {},
      "outputs": [],
      "source": [
        "from utils import *"
      ]
    },
    {
      "cell_type": "code",
      "execution_count": 5,
      "metadata": {},
      "outputs": [],
      "source": [
        "gs = generate_scenario()\n",
        "# Load official dictionaries\n",
        "# col_names option allow you to algin your column names the project dictionary.\n",
        "gs.load_offical_icd(\"cim_2024.xlsx\",col_names={\"code\" : \"icd_code\",\"libelle\":\"icd_code_description\"} )\n",
        "gs.load_offical_procedures(\"ccam_actes_2024.xlsx\",col_names={\"code\":\"procedure\",\"libelle_long\":\"procedure_description\"} )\n",
        "col_names={\"Code CIM\":\"icd_parent_code\",\"Localisation\":\"primary_site\",\"Type Histologique\":\"histological_type\",\n",
        "\t\"Stade\":\"stage\",\"Marqueurs Tumoraux\":\"biomarkers\",\"Traitement\":\"treatment_recommandation\",\"Protocole de Chimiothérapie\":\"chemotherapy_regimen\"}\n",
        "gs.load_cancer_treatement_recommandations(\"Tableau récapitulatif traitement cancer.xlsx\",col_names ) "
      ]
    },
    {
      "cell_type": "code",
      "execution_count": 6,
      "metadata": {},
      "outputs": [],
      "source": [
        "# Load data from BN  PMSI\n",
        "col_names={\"racine\":\"drg_parent_code\",\"das\": \"icd_secondary_code\",\"diag\":\"icd_primary_code\",\"categ_cim\":\"icd_primary_parent_code\",\n",
        "            \"mdp\":\"case_management_type\",\"nb_situations\":\"nb\",\"acte\":\"procedure\",\n",
        "            \"mode_entree\":\"admission_mode\",\n",
        "            \"mode_sortie\":\"discharge_disposition\",\n",
        "            \"mode_hospit\":\"admission_type\"}\n",
        "gs.load_classification_profile(\"bn_pmsi_cases_20250819.csv\", col_names)\n",
        "gs.load_secondary_icd(\"bn_pmsi_related_diag_20250818.csv\",col_names)\n",
        "gs.load_procedures(\"bn_pmsi_procedures_20250818.csv\",col_names)"
      ]
    },
    {
      "cell_type": "code",
      "execution_count": 7,
      "metadata": {},
      "outputs": [
        {
          "data": {
            "text/plain": [
              "icd_primary_code                                             C50\n",
              "case_management_type                                        Z511\n",
              "drg_parent_code                                            28Z07\n",
              "age                                                        ge_18\n",
              "cage                                                     [30-40[\n",
              "cage2                                                    [18-50[\n",
              "sexe                                                           2\n",
              "admission_type                                         Inpatient\n",
              "admission_mode                                          DOMICILE\n",
              "discharge_disposition                                   DOMICILE\n",
              "dms                                         1,32352941176471e+00\n",
              "los_mean                                                     2.0\n",
              "los_sd                                                       0.0\n",
              "drg_parent_description    Chimiothérapie pour tumeur, en séances\n",
              "da                                                           D27\n",
              "libelle_da                                               Séances\n",
              "gp_cas                                                       S02\n",
              "libelle_gp_cas                        Chimiothérapie pour tumeur\n",
              "ga                                                          G190\n",
              "libelle_ga                              Séances : chimiothérapie\n",
              "da_gp                                                     D27S02\n",
              "da_gp_ga                                              D27S02G190\n",
              "anseqta                                                     2024\n",
              "aso                                                            M\n",
              "Name: 10232, dtype: object"
            ]
          },
          "execution_count": 7,
          "metadata": {},
          "output_type": "execute_result"
        }
      ],
      "source": [
        "query = \"icd_primary_code=='C50' and case_management_type=='Z511'\"\n",
        "current_profile = gs.df_classification_profile.query(query).drop(columns=\"nb\").iloc[1]\n",
        "current_profile"
      ]
    },
    {
      "cell_type": "code",
      "execution_count": 8,
      "metadata": {},
      "outputs": [],
      "source": [
        "scenario = gs.generate_scenario_from_profile(current_profile)"
      ]
    },
    {
      "cell_type": "code",
      "execution_count": 11,
      "metadata": {},
      "outputs": [],
      "source": [
        "case = gs.make_prompts_marks_from_scenario(scenario)"
      ]
    },
    {
      "cell_type": "code",
      "execution_count": 12,
      "metadata": {
        "id": "-QSvXRCGQn3d"
      },
      "outputs": [
        {
          "name": "stdout",
          "output_type": "stream",
          "text": [
            "Vous êtes un oncologue clinicien expert. Votre tâche est de générer un compte rendu d'hospitalisation en style clinique synthétique à partir d'un scénario comprenant le résumé PMSI (codes de la classification internationale des maladies), ainsi que d'autres informations décrivant l'hospitalisation.\n",
            "\n",
            "\n",
            "**SCÉNARIO DE DÉPART :**\n",
            "- Âge du patient : 40ans\n",
            "- Sexe du patient : 2\n",
            "- Date d'entrée : 08/01/2024\n",
            "- Date de sortie : 10/01/2024\n",
            "- Date de naissance : 29/08/1983\n",
            "- Prénom du patient : Leonisa\n",
            "- Mode de prise en charge : Hospitalisation pour prise en charge du cancer\n",
            "- codage CIM10 :\n",
            "   * Diagnostic principal : Tumeur maligne du sein(C50)\n",
            "   * Diagnostic relié : Séance de chimiothérapie pour tumeur(Z511)\n",
            "   * Diagnostic associés : \n",
            "- Dépendance envers un respirateur : ventilation par un autre moyen(Z991+8)\n",
            "- Hypertension essentielle (primitive)(I10)\n",
            "- Tumeur maligne secondaire et non précisée des ganglions lymphatiques de l'aisselle et du membre supérieur(C773)\n",
            "- Tumeur maligne secondaire du foie et des voies biliaires intrahépatiques(C787)\n",
            "- Tumeur maligne secondaire du rétropéritoine et du péritoine(C786)\n",
            "- Antécédents personnels d'irradiation(Z923)\n",
            "- Tumeur bénigne du rectum(D128)\n",
            "- Autres formes de chimiothérapie(Z512)\n",
            "\n",
            "- Type anatomopathologique de la tumeur primaire : (Cancer du sein pendant la grossesse)\n",
            "- Biomarqueurs tumoraux : ER/PR, HER2\n",
            "\n",
            "\n",
            "\n",
            "\n",
            "\n",
            "**INSTRUCTIONS :**\n",
            "\n",
            "vous choisirez un épisode de traitement sachant que les recommandations pour ce stade du cancer sont les suivantes :\n",
            " - Schéma thérapeutique : Traitement personnalisé basé sur le stade et l'âge gestationnel, souvent incluant chirurgie et chimiothérapie néoadjuvante\n",
            " - Protocole de chimiothérapie : Protocoles adaptés pour minimiser les risques pour le fœtusVeillez à bien préciser le type histologique et la valeur des biomarqueurs si recherchés\n",
            "\n",
            "\n",
            "- Vous devez utiliser exclusivement les diagnostics fournis. Aucun autre diagnostic ne doit être ajouté ou inventé.\t\t\n",
            "\n",
            "- Lors vous mentionnerez dans le texte les diagnostics, vous utiliserez autant que faire ce peut une formulation moins formelle que la définition du code. Pour vous aider nous vous proposons ci-dessous quelques exemples de formulation alternative qui peut être retrouvée dans les comptes rendus d'hospitalisation.\n",
            "\n",
            "\n",
            "- Vous pourrez reformulez librement ces propositions de manière fluide et naturelle dans le texte. Néanmoins, vous devrez donner à la fin sous forme structuré, pour chaque diagnostic les formulations que vous aurez choisi sous la forme :\n",
            "Code CIM - Définition du code : formulations utilisées dans le texte.\n",
            "\n",
            "- Aucune partie du texte ne doit être mise en gras.\n",
            "\n",
            "- Langue : Rédigez le compte rendu en français.\n",
            "\n",
            "- Style : Adoptez un style clinique informel, tel qu'utilisé couramment dans les notes cliniques quotidiennes.\n",
            "+ Ton télégraphique.\t\n",
            "+ Phrases éventuellement incomplètes (absence de sujet ou verbe) si cela reste naturel.\n",
            "+ Informations enchaînées par ponctuation simple : virgules, tirets, points-virgules, etc.\n",
            "\n",
            "- Formulation : \t\n",
            "+ Variez la structure des phrases. \t\n",
            "+ Variez les termes médicaux (synonymes, reformulations naturelles) tout en conservant leur précision clinique. Évitez les répétitions mot à mot.\t\n",
            "+ Utilisez, de manière occasionnelle et pertinente, des acronymes et abréviations médicales françaises courantes, sans en abuser.\n",
            "\n",
            "- Contenu à produire : Le compte rendu doit comporter les sections suivantes (max. 200 mots/section) :\t\n",
            "+ Motif d’hospitalisation\n",
            "+ Antécédents (médicaux, chirurgicaux, familiaux, allergies)\n",
            "+ Mode de vie (toxiques, profession, autres) par exemple activité physique, nombre de gestités et parités chez les femmes, situation sociale...)\n",
            "+ Histoire de la maladie\n",
            "+ Examen clinique (constantes vitales, examen physique, poids en kgs en particulier si une dénutrition est évoquée, etc.) \n",
            "+ Examens complémentaires avec résultats (uniquement ceux réalisés durant l’hospitalisation)\n",
            "+ Évolution pendant l'hospitalisation: Veillez à être le plus exhaustif possible, en particulier indiquez : Conclusions des principaux examens complémentaires réalisés dans la section « Examens complémentaires »; Prise en charge thérapeutique; Suivi mis en place; Critères de sortie\n",
            "+ Conclusion\n",
            "\n",
            "- Chaque section doit commencer par un titre au format suivant :\n",
            "### Nom de la section (ex. : ### Motif d'hospitalisation)\n",
            "- Attribuez des dates plausibles et cohérentes aux événements majeurs (hospitalisations, diagnostics, examens, traitements...).\n",
            "- Assurez la cohérence temporelle et médicale entre les différentes sections.\n",
            "- Ne pas inclure : Clauses de non-responsabilité.\n",
            "- Veillez à être le plus détaillé possible concernant le cancer. Incluez, si pertinent, les informations suivantes : \n",
            "+ État général : score de performance explicite selon l’échelle ECOG/OMS\n",
            "+ Statut gestationnel (contraception, grossesse ou allaitement) : uniquement chez les femmes\n",
            "+ Évolutivité tumorale : si elle est mentionée, vous devez obligatoirement :\n",
            "* indiquer les examens ayant permis d’évaluer cette évolution, avec leurs résultats\n",
            "* faire référence explicite aux examens antérieurs utilisés comme points de comparaison, afin de démontrer une progression ou une stabilité de la tumeur dans le temps\n",
            "+ Type de traitements antitumoraux reçus\n",
            "+ Lignes de traitement antitumoral reçues: indiquez explicitement à quelle ligne de traitement le patient se trouve actuellement.\n",
            "+ La tolérance aiguë à la chimiothérapie\n",
            "\n",
            "Veillez à intégrer ces informations de façon naturelle dans le compte rendu, sans recourir à des formats semi-structurés, par exemple préférez une rédaction naturelle plutôt que « État général : ECOG 1 »).\n",
            "\n",
            "- À la fin du texte généré, fournissez :\n",
            "+ un dictionnaire listant les formulations utilisées pour chaque diagnostic fourni (y compris le diagnostic principal et les diagnostics associés) : {\"Code CIM - Définition du code\": [\"formulation utilisée 1\", \"formulation utilisée 2\", ...],...}\n",
            "* Par exemple : {\"poussee hypertension arterielle\": [\"poussée hypertension arterielle\", \"poussée HTA\"],...} \n",
            "+ un dictionnaire listant les segments textuels utilisés pour décrire les informations suivantes, reproduits strictement à l’identique (copiés-collés depuis le texte généré, sans aucune modification ni interprétation, y compris ponctuation et orthographe) :\n",
            "* Âge\n",
            "* Sexe\n",
            "* État général\n",
            "* Statut gestationnel (s'il s'agit d'une femme)\n",
            "* Gestité\n",
            "* Comorbidités\n",
            "* Topographie de la tumeur primaire: Localisation anatomique de la tumeur primaire- Histologie tumorale : Type cellulaire explicite de la tumeur primaire. Ne pas inclure de localisations anatomiques générales (ex. : cancer du sein, tumeur pulmonaire...)\n",
            "* Stade tumoral\n",
            "* Biomarqueurs tumoraux\n",
            "* Sites métastatiques : Localisations anatomiques des métastases\n",
            "* Évolutivité tumorale\n",
            "* Examens pour diagnostic initial: Noms des examens qui ont permis d'établir le diagnostic initial de la tumeur primaire\n",
            "* Examens d'évaluation du stade tumoral : Noms des examens ayant servi à déterminer le stade tumoral initial- Examens d’évaluation de l’évolutivité tumorale : Noms des examens ayant permis de juger de la progression ou de la stabilité de la maladie dans le temps - Traitements antitumoraux : Type de traitements antitumoraux reçus, y compris les types de chirurgie pratiqués- Lignes de traitement antitumoral\n",
            "* Médicaments antitumoraux : Noms des médicaments antitumoraux administrés\n",
            "* Cycles de chimiothérapie\n",
            "* NFS: résultats explicites (valeurs ou qualificatifs comme \"normal\", \"élevé\",...)\n",
            "* Créatinine : résultats explicites (valeurs ou qualificatifs comme \"normal\", \"élevé\",...)\n",
            "* Bilan hepatique: résultats explicites (valeurs ou qualificatifs comme \"normal\", \"élevé\",...)\n",
            "\n",
            "Par exemple : {\"Âge\": [\"55 ans\"],\"Stade tumoral\" : [\"cT4N1M2\"],\"Examens pour diagnostic initial\": [\"TDM thoracique\", \"IRM cérébrale\"],...}- La sortie doit être un objet JSON au format suivant :{\"CR\": \"le text généré\",\"formulations\": {  \"diagnostics\": {...},  \"informations\": {...}  }}Par exemple : {\"CR\": \"Texte du compte rendu ici...\",\"formulations\": {  \"diagnostics\": {\"poussee hypertension arterielle\": [\"poussée hypertension arterielle\", \"poussée HTA\"]},  \"informations\": {\"Âge\": [\"55 ans\"], \"Stade tumoral\" : [\"cT4N1M2\"], \"Examens pour diagnostic initial\": [\"TDM thoracique\", \"IRM cérébrale\"]}  }}\n"
          ]
        }
      ],
      "source": [
        "def prepare_prompt(prompt_path, case):\n",
        "  with open(prompt_path, \"r\", encoding=\"utf-8\") as f:\n",
        "      content = f.read()\n",
        "  return (content\n",
        "          .replace(\"[SCENARIO here]\", case[\"SCENARIO\"])\n",
        "          .replace(\"[INSTRUCTIONS_CANCER here]\", case[\"INSTRUCTIONS_CANCER\"])\n",
        "          .replace(\"[ICD_ALTERNATIVES here]\", case[\"ICD_ALTERNATIVES\"])\n",
        "\n",
        "          )\n",
        "\n",
        "print(prepare_prompt(\"templates/scenario_onco_v1.txt\",case =case))"
      ]
    },
    {
      "cell_type": "code",
      "execution_count": null,
      "metadata": {},
      "outputs": [],
      "source": []
    }
  ],
  "metadata": {
    "colab": {
      "include_colab_link": true,
      "provenance": []
    },
    "kernelspec": {
      "display_name": "Python 3",
      "name": "python3"
    },
    "language_info": {
      "codemirror_mode": {
        "name": "ipython",
        "version": 3
      },
      "file_extension": ".py",
      "mimetype": "text/x-python",
      "name": "python",
      "nbconvert_exporter": "python",
      "pygments_lexer": "ipython3",
      "version": "3.10.6"
    },
    "orig_nbformat": 4,
    "vscode": {
      "interpreter": {
        "hash": "26de051ba29f2982a8de78e945f0abaf191376122a1563185a90213a26c5da77"
      }
    }
  },
  "nbformat": 4,
  "nbformat_minor": 0
}
