{
 "cells": [
  {
   "cell_type": "markdown",
   "metadata": {
    "colab_type": "text",
    "id": "view-in-github"
   },
   "source": [
    "<a href=\"https://colab.research.google.com/github/24p11/recode-scenario/blob/main/scenario_oncology_v2.ipynb\" target=\"_parent\"><img src=\"https://colab.research.google.com/assets/colab-badge.svg\" alt=\"Open In Colab\"/></a>"
   ]
  },
  {
   "cell_type": "markdown",
   "metadata": {
    "id": "TA98me3BVrPP"
   },
   "source": [
    "## Create fictive clinical notes from Code set (DRG + ICD)\n",
    "\n",
    "Code set are the raw classification data, we can extract from National database (Base nationale PMSI en France). They are made of \n",
    "* classification profile made of grouping variables from DRG records which are prepared with their frequency in the national database\n",
    "    - age (class)\n",
    "    - sexe\n",
    "    - DRG (racine GHM)\n",
    "    - Main diagnosis (ICD10) : cf\n",
    "    - Hospitalization management type : cf\n",
    "* diagnosis associated to each classification profile, extracted with their frequencies\n",
    "* procedures associated to each classification profile, specialy for surgery and technical gestures, extracted with their frequencies\n",
    "\n",
    "From thoses raw information we produce a coded clinical scenario which will be uses a seed.\n",
    "\n",
    "This scenario is transformed into a detail prompt that will be given to a LLM for generation.\n",
    "From the combinaision of primary and related diagnosis in French discharge abstract, we derived two notions :\n",
    "* Primary diagnosis : host the notion of principal pathology, it is rather the primary diagnosis of the discharge abstract or the related diagnosis when it exists and that the primary diagnosis of the discharge abstract is from the chapter \"Facteurs influant sur l’état de santé\" of ICD10\n",
    "* The Hospitalization management type is rather the term \"Primary diagnosis\" or the ICD-10 code of the related diagnosis when it exists\n"
   ]
  },
  {
   "cell_type": "code",
   "execution_count": 201,
   "metadata": {
    "tags": []
   },
   "outputs": [
    {
     "name": "stdout",
     "output_type": "stream",
     "text": [
      "The autoreload extension is already loaded. To reload it, use:\n",
      "  %reload_ext autoreload\n"
     ]
    }
   ],
   "source": [
    "%load_ext autoreload\n",
    "%autoreload 2"
   ]
  },
  {
   "cell_type": "code",
   "execution_count": 202,
   "metadata": {
    "id": "iYwLpeT3VrPQ",
    "tags": []
   },
   "outputs": [],
   "source": [
    "import pandas as pd\n",
    "import numpy as np\n",
    "import datetime as dt"
   ]
  },
  {
   "cell_type": "code",
   "execution_count": 203,
   "metadata": {
    "tags": []
   },
   "outputs": [],
   "source": [
    "from utils import *"
   ]
  },
  {
   "cell_type": "code",
   "execution_count": 204,
   "metadata": {},
   "outputs": [],
   "source": [
    "gs = generate_scenario()\n",
    "# Load official dictionaries\n",
    "# col_names option allow you to algin your column names the project dictionary.\n",
    "gs.load_offical_icd(\"cim_2024.xlsx\",col_names={\"code\" : \"icd_code\",\"libelle\":\"icd_code_description\"} )\n",
    "gs.load_offical_procedures(\"ccam_actes_2024.xlsx\",col_names={\"code\":\"procedure\",\"libelle_long\":\"procedure_description\"} )\n",
    "col_names={\"Code CIM\":\"icd_parent_code\",\"Localisation\":\"primary_site\",\"Type Histologique\":\"histological_type\",\n",
    "\t\"Stade\":\"stage\",\"Marqueurs Tumoraux\":\"biomarkers\",\"Traitement\":\"treatment_recommandation\",\"Protocole de Chimiothérapie\":\"chemotherapy_regimen\"}\n",
    "gs.load_cancer_treatement_recommandations(\"Tableau récapitulatif traitement cancer.xlsx\",col_names ) "
   ]
  },
  {
   "cell_type": "code",
   "execution_count": 205,
   "metadata": {},
   "outputs": [],
   "source": [
    "# Load data from BN  PMSI\n",
    "col_names={\"racine\":\"drg_parent_code\",\"das\": \"icd_secondary_code\",\"diag\":\"icd_primary_code\",\"categ_cim\":\"icd_primary_parent_code\",\n",
    "            \"mdp\":\"case_management_type\",\"nb_situations\":\"nb\",\"acte\":\"procedure\",\n",
    "            \"mode_entree\":\"admission_mode\",\n",
    "            \"mode_sortie\":\"discharge_disposition\",\n",
    "            \"mode_hospit\":\"admission_type\"}\n",
    "gs.load_classification_profile(\"bn_pmsi_cases_20250819.csv\", col_names)\n",
    "gs.load_secondary_icd(\"bn_pmsi_related_diag_20250818.csv\",col_names)\n",
    "gs.load_procedures(\"bn_pmsi_procedures_20250818.csv\",col_names)"
   ]
  },
  {
   "cell_type": "code",
   "execution_count": 206,
   "metadata": {
    "tags": []
   },
   "outputs": [],
   "source": [
    "cols_scenario = [\"first_name\",\"last_name\",\"cage2\",\"cage\",\"sexe\",\n",
    "                \"last_name_med\",\"icd_primary_code\",\n",
    "                \"admission_type\",\"admission_mode\",\"discharge_disposition\",\n",
    "                'drg_parent_code','icd_primary_code','icd_secondaray_code','cd_md_pec']\n",
    "                \n",
    "cols_cancer = [\"cancer_stage\",\"TNM_score\",\"histological_type\",\"treatment_recommandation\",\"chemotherapy_regimen\"]\n",
    "\n"
   ]
  },
  {
   "cell_type": "code",
   "execution_count": 207,
   "metadata": {
    "tags": []
   },
   "outputs": [],
   "source": [
    "#Prepare cases\n",
    "df_profile = gs.df_classification_profile.drop(columns=\"nb\")\n",
    "df_profile = df_profile[df_profile.icd_primary_code.isin(gs.icd_codes_cancer)]"
   ]
  },
  {
   "cell_type": "code",
   "execution_count": 208,
   "metadata": {
    "tags": []
   },
   "outputs": [
    {
     "data": {
      "text/plain": [
       "icd_primary_code                                                     C50\n",
       "case_management_type                                                  DP\n",
       "drg_parent_code                                                    09M10\n",
       "age                                                                ge_18\n",
       "cage                                                               [80-[\n",
       "cage2                                                              [50-[\n",
       "sexe                                                                   2\n",
       "admission_type                                                 Inpatient\n",
       "admission_mode                                                  URGENCES\n",
       "discharge_disposition                                                SMR\n",
       "dms                                                 2,08000000000000e+01\n",
       "los_mean                                                       11.610687\n",
       "los_sd                                                         16.134052\n",
       "drg_parent_description                        Tumeurs malignes des seins\n",
       "da                                                                   D12\n",
       "libelle_da                                            Gynécologie - sein\n",
       "gp_cas                                                               X11\n",
       "libelle_gp_cas                 Gynécologie, Sénologie (hors Obstétrique)\n",
       "ga                                                                  G114\n",
       "libelle_ga                Prise en charge médicale des tumeurs des seins\n",
       "da_gp                                                             D12X11\n",
       "da_gp_ga                                                      D12X11G114\n",
       "anseqta                                                             2024\n",
       "aso                                                                    M\n",
       "Name: 732, dtype: object"
      ]
     },
     "execution_count": 208,
     "metadata": {},
     "output_type": "execute_result"
    }
   ],
   "source": [
    "test_profile = df_profile[(df_profile[\"icd_primary_code\"]==\"C50\") & (df_profile[\"case_management_type\"]==\"DP\")].iloc[0].copy()\n",
    "test_profile"
   ]
  },
  {
   "cell_type": "code",
   "execution_count": 209,
   "metadata": {
    "tags": []
   },
   "outputs": [
    {
     "data": {
      "text/plain": [
       "{'age': 87,\n",
       " 'sexe': np.int64(2),\n",
       " 'date_entry': datetime.date(2024, 6, 8),\n",
       " 'date_discharge': datetime.date(2024, 6, 10),\n",
       " 'date_of_birth': datetime.date(1936, 8, 12),\n",
       " 'first_name': 'Renee',\n",
       " 'last_name': 'Rougier',\n",
       " 'icd_primary_code': 'C50',\n",
       " 'case_management_type': 'DP',\n",
       " 'icd_secondaray_code': ['I10',\n",
       "  'J961+0',\n",
       "  'R4700',\n",
       "  'C773',\n",
       "  'I269',\n",
       "  'R33',\n",
       "  'D226',\n",
       "  'E755'],\n",
       " 'admission_mode': 'URGENCES',\n",
       " 'discharge_disposition': 'SMR',\n",
       " 'cancer_stage': 'Stade III',\n",
       " 'score_TNM': 'T4N3M0',\n",
       " 'histological_type': 'Carcinome invasif',\n",
       " 'treatment_recommandation': 'Traitement néoadjuvant (chimiothérapie, thérapie ciblée HER2), chirurgie, radiothérapie, thérapie systémique adjuvante',\n",
       " 'chemotherapy_regimen': 'AC   (Doxorubicine/Cyclophosphamide) suivi de Taxane et Pertuzumab/Trastuzumab',\n",
       " 'drg_parent_code': '09M10',\n",
       " 'cage': '[80-[',\n",
       " 'cage2': '[50-[',\n",
       " 'admission_type': 'Inpatient',\n",
       " 'dms': '2,08000000000000e+01',\n",
       " 'los_mean': np.float64(11.6106870229008),\n",
       " 'los_sd': np.float64(16.1340517172082),\n",
       " 'drg_parent_description': 'Tumeurs malignes des seins',\n",
       " 'da': 'D12',\n",
       " 'libelle_da': 'Gynécologie - sein',\n",
       " 'gp_cas': 'X11',\n",
       " 'libelle_gp_cas': 'Gynécologie, Sénologie (hors Obstétrique)',\n",
       " 'ga': 'G114',\n",
       " 'libelle_ga': 'Prise en charge médicale des tumeurs des seins',\n",
       " 'da_gp': 'D12X11',\n",
       " 'da_gp_ga': 'D12X11G114',\n",
       " 'anseqta': np.int64(2024),\n",
       " 'aso': 'M',\n",
       " 'icd_parent_code': 'C50',\n",
       " 'icd_primary_description': 'Tumeur maligne du sein',\n",
       " 'case_management_type_description': '',\n",
       " 'first_name_med': 'Brad',\n",
       " 'last_name_med': 'Bravot',\n",
       " 'text_secondary_icd_official': \"- Hypertension essentielle (primitive) (I10)\\n- Insuffisance respiratoire chronique obstructive (J961+0)\\n- Aphasie récente, persistant au-delà de 24 heures (R4700)\\n- Tumeur maligne secondaire et non précisée des ganglions lymphatiques de l'aisselle et du membre supérieur (C773)\\n- Embolie pulmonaire, (sans mention de coeur pulmonaire aigu) (I269)\\n- Rétention d'urine (R33)\\n- Naevus à mélanocytes du membre supérieur, y compris l'épaule (D226)\\n- Autres anomalies du stockage des lipides (E755)\\n\",\n",
       " 'biomarkers': 'ER/PR, HER2',\n",
       " 'procedure': ['QEHJ001'],\n",
       " 'text_procedure': \"- Biopsie d'une lésion de la glande mammaire, par voie transcutanée avec guidage échographique (QEHJ001)\\n\",\n",
       " 'case_management_type_text': 'Première hospitalisation pour découverte de cancer',\n",
       " 'cd_md_pec': 16}"
      ]
     },
     "execution_count": 209,
     "metadata": {},
     "output_type": "execute_result"
    }
   ],
   "source": [
    "test_scenario = gs.generate_scenario_from_profile(test_profile)\n",
    "test_scenario"
   ]
  },
  {
   "cell_type": "code",
   "execution_count": 210,
   "metadata": {
    "tags": []
   },
   "outputs": [],
   "source": [
    "def create_prompt(scenario):\n",
    "    if scenario['admission_type'] == \"Inpatient\" and scenario['drg_parent_code'][2:3]==\"C\" :\n",
    "        template_name = \"surgery_complete.txt\"\n",
    "    elif scenario['admission_type'] == \"Outpatient\" and scenario['drg_parent_code'][2:3]==\"C\" :\n",
    "        template_name = \"surgery_outpatient.txt\"\n",
    "    else:\n",
    "        template_name = \"scenario_onco_v1.txt\"\n",
    "    \n",
    "    case  = gs.make_prompts_marks_from_scenario(scenario)\n",
    "    prompt = prepare_prompt(\"templates/\" + template_name, case =case)\n",
    "    return prompt"
   ]
  },
  {
   "cell_type": "code",
   "execution_count": 211,
   "metadata": {
    "tags": []
   },
   "outputs": [
    {
     "name": "stdout",
     "output_type": "stream",
     "text": [
      "Vous êtes un oncologue clinicien expert. Votre tâche est de générer un compte rendu d'hospitalisation en style clinique synthétique.\n",
      "\n",
      "\n",
      "**SCÉNARIO DE DÉPART :**\n",
      "- Âge du patient : 87 ans\n",
      "- Sexe du patient : Féminin\n",
      "- Date d'entrée : 08/06/2024\n",
      "- Date de sortie : 10/06/2024\n",
      "- Date de naissance : 12/08/1936\n",
      "- Prénom du patient : Renee\n",
      "- Nom du patient : Rougier\n",
      "- Mode de prise en charge : Première hospitalisation pour découverte de cancer\n",
      "- Codage CIM10 :\n",
      "   * Diagnostic principal : Tumeur maligne du sein (C50)\n",
      "   * Diagnostic relié : Aucun\n",
      "   * Diagnostic associés : \n",
      "- Hypertension essentielle (primitive) (I10)\n",
      "- Insuffisance respiratoire chronique obstructive (J961+0)\n",
      "- Aphasie récente, persistant au-delà de 24 heures (R4700)\n",
      "- Tumeur maligne secondaire et non précisée des ganglions lymphatiques de l'aisselle et du membre supérieur (C773)\n",
      "- Embolie pulmonaire, (sans mention de coeur pulmonaire aigu) (I269)\n",
      "- Rétention d'urine (R33)\n",
      "- Naevus à mélanocytes du membre supérieur, y compris l'épaule (D226)\n",
      "- Autres anomalies du stockage des lipides (E755)\n",
      "\n",
      "- Mode d'entrée' : URGENCES\n",
      "- Mode de sortie' : SMR\n",
      "- Stade tumoral : Stade III\n",
      "- Score TNM : T4N3M0\n",
      "- Type anatomopathologique de la tumeur primaire : Carcinome invasif\n",
      "- Localisation anatomique de la tumeur primaire : Tumeur maligne du sein (C50)\n",
      "- Biomarqueurs tumoraux : ER/PR, HER2\n",
      "\n",
      "\n",
      "\n",
      "**INSTRUCTIONS :**\n",
      "\n",
      "Vous choisirez un épisode de traitement sachant que les recommandations pour ce stade du cancer sont les suivantes :\n",
      "   - Schéma thérapeutique : Traitement néoadjuvant (chimiothérapie, thérapie ciblée HER2), chirurgie, radiothérapie, thérapie systémique adjuvante\n",
      "   - Protocole de chimiothérapie : AC   (Doxorubicine/Cyclophosphamide) suivi de Taxane et Pertuzumab/Trastuzumab\n",
      "\n",
      "\n",
      "- Vous devez utiliser exclusivement les diagnostics fournis. Aucun autre diagnostic ne doit être ajouté ou inventé.\t\t\n",
      "\n",
      "- Lors vous mentionnerez dans le texte les diagnostics, vous utiliserez autant que faire ce peut une formulation moins formelle que la définition du code.\n",
      "\n",
      "- Aucune partie du texte ne doit être mise en gras.\n",
      "\n",
      "- Langue : Rédigez le compte rendu en français.\n",
      "\n",
      "- Style : Adoptez un style clinique informel, tel qu'utilisé couramment dans les notes cliniques quotidiennes.\n",
      "    + Ton télégraphique.\t\n",
      "    + Phrases éventuellement incomplètes (absence de sujet ou verbe) si cela reste naturel.\n",
      "    + Informations enchaînées par ponctuation simple : virgules, tirets, points-virgules, etc.\n",
      "\n",
      "- Formulation : \t\n",
      "    + Variez la structure des phrases. \t\n",
      "    + Variez les termes médicaux (synonymes, reformulations naturelles) tout en conservant leur précision clinique. Évitez les répétitions mot à mot.\t\n",
      "    + Utilisez, de manière occasionnelle et pertinente, des acronymes et abréviations médicales françaises courantes, sans en abuser.\n",
      "\n",
      "- Contenu à produire : Le compte rendu doit comporter les sections suivantes (max. 200 mots/section) :\t\n",
      "    + Motif d’hospitalisation\n",
      "    + Antécédents (médicaux, chirurgicaux, familiaux, allergies)\n",
      "    + Mode de vie (toxiques, profession, autres - par exemple activité physique, nombre de gestités et parités chez les femmes, situation sociale...)\n",
      "    + Histoire de la maladie\n",
      "    + Examen clinique (constantes vitales, examen physique, poids en kgs - en particulier si une dénutrition est évoquée, etc.) \n",
      "    + Examens complémentaires avec résultats (uniquement ceux réalisés durant l’hospitalisation)\n",
      "    + Évolution pendant l'hospitalisation: Veillez à être le plus exhaustif possible, en particulier indiquez : \n",
      "        Prise en charge diagnostique si pertinent\n",
      "\t\tConclusions des principaux examens complémentaires réalisés dans la section « Examens complémentaires »\n",
      " \t\tPathologies finales retenues si pertinent\n",
      "        Prise en charge thérapeutique si applicable\n",
      "        Suivi mis en place\n",
      "        Critères de sortie\n",
      "    + Conclusion\n",
      "\n",
      "- Chaque section doit commencer par un titre au format suivant : ### Nom de la section (ex. : ### Motif d'hospitalisation).\n",
      "\n",
      "- Attribuez des dates plausibles et cohérentes aux événements majeurs (hospitalisations, diagnostics, examens, traitements...).\n",
      "\n",
      "- Assurez la cohérence temporelle et médicale entre les différentes sections.\n",
      "\n",
      "- Ne pas inclure : Clauses de non-responsabilité.\n",
      "\n",
      "- Veillez à être le plus détaillé possible concernant le cancer. Incluez, si pertinent, les informations suivantes : \n",
      "    + État général : score de performance explicite selon l’échelle ECOG/OMS\n",
      "    + Statut gestationnel (contraception, grossesse ou allaitement) : uniquement chez les femmes\n",
      "    + Localisation anatomique de la tumeur primaire\n",
      "\t+ Type anatomopathologique de la tumeur primaire\n",
      "\t+ Stade tumoral : stade TNM ou mention qualitative (ex. : localisé, localement avancé...)\n",
      "    + Biomarqueurs tumoraux : si vous faites mention cette information,  indiquez obligatoirement les noms et valeurs, qu'elles soient quantitatives (chiffres) ou qualitatives (ex. : \"normal\", \"augmenté\"...)\n",
      "    + Localisation des sites métastatiques\n",
      "    + Évolutivité tumorale : si elle est mentionnée, vous devez obligatoirement :\n",
      "        * indiquer les examens ayant permis d’évaluer cette évolution, avec leurs résultats\n",
      "        * faire référence explicite aux examens antérieurs utilisés comme points de comparaison, afin de démontrer une progression ou une stabilité de la tumeur dans le temps\n",
      "    + Type de traitements antitumoraux reçus\n",
      "    + Médicaments antitumoraux administrés: précisez les noms \n",
      "    + Lignes de traitement antitumoral reçues: indiquez explicitement à quelle ligne de traitement le patient se trouve actuellement\n",
      "\t+ Cycles de chimiothérapie, la périodicité et le jour du cycle: indiquez explicitement à quel cycle de chimiothérapie le patient se trouve actuellement\n",
      "    + Protocole de chimiothérapie utilisé avec la dose\n",
      "    + La tolérance aiguë à la chimiothérapie\n",
      "\n",
      "Veillez à intégrer ces informations de façon naturelle dans le compte rendu, sans recourir à des formats semi-structurés, par exemple préférez une rédaction naturelle plutôt que « État général : ECOG 1 »).\n",
      "\n",
      "- À la fin du texte généré, fournissez :\n",
      "+ un dictionnaire listant les formulations utilisées pour chaque diagnostic fourni : {\"Code CIM - Définition du code\": [\"formulation utilisée 1\", \"formulation utilisée 2\", ...],...}\n",
      "Par exemple : {\"poussee hypertension arterielle\": [\"poussée hypertension arterielle\", \"poussée HTA\"],...} \n",
      "\n",
      "+ un dictionnaire listant les segments textuels utilisés pour décrire les informations suivantes, reproduits strictement à l’identique (copiés-collés depuis le texte généré, sans aucune modification ni interprétation, y compris ponctuation et orthographe) :\n",
      "    * Âge\n",
      "    * Sexe\n",
      "    * État général\n",
      "    * Statut gestationnel (s'il s'agit d'une femme)\n",
      "    * Gestité\n",
      "    * Comorbidités\n",
      "    * Topographie de la tumeur primaire: Localisation anatomique de la tumeur primaire\n",
      "    * Histologie tumorale : Type cellulaire explicite de la tumeur primaire. Ne pas inclure de localisations anatomiques générales (ex. : cancer du sein, tumeur pulmonaire...)\n",
      "    * Stade tumoral\n",
      "    * Biomarqueurs tumoraux\n",
      "    * Sites métastatiques : Localisations anatomiques des métastases\n",
      "    * Évolutivité tumorale\n",
      "    * Examens pour diagnostic initial: Noms des examens qui ont permis d'établir le diagnostic initial de la tumeur primaire\n",
      "    * Examens d'évaluation du stade tumoral : Noms des examens ayant servi à déterminer le stade tumoral initial\n",
      "    * Examens d’évaluation de l’évolutivité tumorale : Noms des examens ayant permis de juger de la progression ou de la stabilité de la maladie dans le temps\n",
      "    * Traitements antitumoraux : Type de traitements antitumoraux reçus, y compris les types de chirurgie pratiqués\n",
      "    * Lignes de traitement antitumoral\n",
      "    * Médicaments antitumoraux : Noms des médicaments antitumoraux administrés\n",
      "    * Cycles de chimiothérapie\n",
      "    * NFS: résultats explicites (valeurs ou qualificatifs comme \"normal\", \"élevé\",...)\n",
      "    * Créatinine : résultats explicites (valeurs ou qualificatifs comme \"normal\", \"élevé\",...)\n",
      "    * Bilan hepatique: résultats explicites (valeurs ou qualificatifs comme \"normal\", \"élevé\",...)\n",
      "\n",
      "Par exemple : {\"Âge\": [\"55 ans\"], \"Stade tumoral\" : [\"cT4N1M2\"], \"Examens pour diagnostic initial\": [\"TDM thoracique\", \"IRM cérébrale\"],...}\n",
      "\n",
      "- La sortie doit être un objet JSON au format suivant :\n",
      "{\"CR\": \"le text généré\", \"formulations\": {\"diagnostics\": {...}, \"informations\": {...}}}\n",
      "\n",
      "Par exemple : {\"CR\": \"Texte du compte rendu ici...\", \"formulations\": {\"diagnostics\": {\"poussee hypertension arterielle\": [\"poussée hypertension arterielle\", \"poussée HTA\"]},  \"informations\": {\"Âge\": [\"55 ans\"], \"Stade tumoral\" : [\"cT4N1M2\"], \"Examens pour diagnostic initial\": [\"TDM thoracique\", \"IRM cérébrale\"]}}}\n"
     ]
    }
   ],
   "source": [
    "test_prompt = create_prompt(test_scenario)\n",
    "print (test_prompt)"
   ]
  },
  {
   "cell_type": "code",
   "execution_count": 233,
   "metadata": {},
   "outputs": [
    {
     "name": "stderr",
     "output_type": "stream",
     "text": [
      "C:\\Users\\3056269\\AppData\\Roaming\\Python\\Python310\\site-packages\\pandas\\core\\series.py:1056: SettingWithCopyWarning: \n",
      "A value is trying to be set on a copy of a slice from a DataFrame\n",
      "\n",
      "See the caveats in the documentation: https://pandas.pydata.org/pandas-docs/stable/user_guide/indexing.html#returning-a-view-versus-a-copy\n",
      "  cacher_needs_updating = self._check_is_chained_assignment_possible()\n",
      "C:\\Users\\3056269\\AppData\\Roaming\\Python\\Python310\\site-packages\\pandas\\core\\indexing.py:1724: SettingWithCopyWarning: \n",
      "A value is trying to be set on a copy of a slice from a DataFrame\n",
      "\n",
      "See the caveats in the documentation: https://pandas.pydata.org/pandas-docs/stable/user_guide/indexing.html#returning-a-view-versus-a-copy\n",
      "  self._setitem_with_indexer_missing(indexer, value)\n"
     ]
    }
   ],
   "source": [
    "# df_scenario =[]\n",
    "# for i in range(0,5):\n",
    "\n",
    "#     current_profile = df_profile.iloc[i,:]\n",
    "\n",
    "#     scenario = gs.generate_scenario_from_profile(current_profile)\n",
    "#     row = {k:scenario[k] for k in scenario if k in cols_scenario }\n",
    "#     cancer = [scenario[k] for k in scenario if k in cols_cancer ]\n",
    "\n",
    "#     row.update({\"cancer\":cancer})\n",
    "    \n",
    "#     case  = gs.make_prompts_marks_from_scenario(scenario)\n",
    "    \n",
    "#     row.update({'case': case})\n",
    "\n",
    "\n",
    "#     if row['admission_type'] == \"Inpatient\" and row['drg_parent_code'][2:3]==\"C\" :\n",
    "#         template_name = \"surgery_complete.txt\"\n",
    "#     elif row['admission_type'] == \"Outpatient\" and row['drg_parent_code'][2:3]==\"C\" :\n",
    "#         template_name = \"surgery_outpatient.txt\"\n",
    "#     elif row['drg_parent_code'][2:3]==\"K\" :\n",
    "#         template_name = \"interventionnel.txt\"\n",
    "#     elif row['cd_md_pec']==17 :\n",
    "#         template_name = \"bilan.txt\"\n",
    "#     else:\n",
    "#         template_name = \"scenario_onco_v1.txt\"\n",
    "        \n",
    "#     prompt =  prepare_prompt(\"templates/\" + template_name ,case =case)\n",
    "#     row.update({'prompt': prompt})\n",
    "\n",
    "#     df_scenario.append(row)"
   ]
  },
  {
   "cell_type": "code",
   "execution_count": 226,
   "metadata": {},
   "outputs": [],
   "source": [
    "# df_scenario= pd.DataFrame(df_scenario)"
   ]
  },
  {
   "cell_type": "code",
   "execution_count": 227,
   "metadata": {},
   "outputs": [],
   "source": [
    "# df_scenario.to_csv(gs.path_data + \"test_scenario_v1.csv\")"
   ]
  },
  {
   "cell_type": "code",
   "execution_count": 212,
   "metadata": {},
   "outputs": [
    {
     "data": {
      "text/plain": [
       "{'sexe': 2,\n",
       " 'first_name': 'Zeinab',\n",
       " 'icd_secondaray_code': ['R2630', 'I10', 'C773', 'C795', 'C792', 'Z290'],\n",
       " 'admission_mode': 'DOMICILE',\n",
       " 'discharge_disposition': 'DOMICILE',\n",
       " 'icd_primary_code': 'C50',\n",
       " 'drg_parent_code': '28Z07',\n",
       " 'cage': '[30-40[',\n",
       " 'cage2': '[18-50[',\n",
       " 'admission_type': 'Inpatient',\n",
       " 'last_name': 'Jouhanet',\n",
       " 'last_name_med': 'Lissillour',\n",
       " 'cancer': ['Stade II',\n",
       "  None,\n",
       "  'Carcinome métaplasique',\n",
       "  'Chirurgie (mastectomie ou BCS) + radiothérapie, thérapie systémique adjuvante incluant chimiothérapie, thérapie ciblée HER2 si HER2+',\n",
       "  'TAC (Docetaxel, Doxorubicine, Cyclophosphamide)'],\n",
       " 'case': {'SCENARIO': \"**SCÉNARIO DE DÉPART :**\\n- Âge du patient : 34ans\\n- Sexe du patient : 2\\n- Date d'entrée : 18/07/2024\\n- Date de sortie : 20/07/2024\\n- Date de naissance : 29/06/1990\\n- Prénom du patient : Zeinab\\n- Mode de prise en charge : Hospitalisation pour prise en charge du cancer\\n- codage CIM10 :\\n   * Diagnostic principal : Tumeur maligne du sein(C50)\\n   * Diagnostic relié : Séance de chimiothérapie pour tumeur(Z511)\\n   * Diagnostic associés : \\n- État grabataire(R2630)\\n- Hypertension essentielle (primitive)(I10)\\n- Tumeur maligne secondaire et non précisée des ganglions lymphatiques de l'aisselle et du membre supérieur(C773)\\n- Tumeur maligne secondaire des os et de la moelle osseuse(C795)\\n- Tumeur maligne secondaire de la peau(C792)\\n- Isolement (prophylactique)(Z290)\\n\\n- Stade tumoral : Stade II\\n- Type anatomopathologique de la tumeur primaire : (Carcinome métaplasique)\\n- Nom du patient : Jouhanet\\n- Score TNM :T2N1M0\\n- Biomarqueurs tumoraux : ER/PR, HER2\\n\",\n",
       "  'ICD_ALTERNATIVES': '',\n",
       "  'INSTRUCTIONS_CANCER': 'vous choisirez un épisode de traitement sachant que les recommandations pour ce stade du cancer sont les suivantes :\\n - Schéma thérapeutique : Chirurgie (mastectomie ou BCS) + radiothérapie, thérapie systémique adjuvante incluant chimiothérapie, thérapie ciblée HER2 si HER2+\\n - Protocole de chimiothérapie : TAC (Docetaxel, Doxorubicine, Cyclophosphamide)\\nVeillez à bien préciser le type histologique et la valeur des biomarqueurs si recherchés\\n'},\n",
       " 'prompt': 'Vous êtes un oncologue clinicien expert. Votre tâche est de générer un compte rendu d\\'hospitalisation en style clinique synthétique à partir d\\'un scénario comprenant le résumé PMSI (codes de la classification internationale des maladies), ainsi que d\\'autres informations décrivant l\\'hospitalisation.\\n\\n\\n**SCÉNARIO DE DÉPART :**\\n- Âge du patient : 34ans\\n- Sexe du patient : 2\\n- Date d\\'entrée : 18/07/2024\\n- Date de sortie : 20/07/2024\\n- Date de naissance : 29/06/1990\\n- Prénom du patient : Zeinab\\n- Mode de prise en charge : Hospitalisation pour prise en charge du cancer\\n- codage CIM10 :\\n   * Diagnostic principal : Tumeur maligne du sein(C50)\\n   * Diagnostic relié : Séance de chimiothérapie pour tumeur(Z511)\\n   * Diagnostic associés : \\n- État grabataire(R2630)\\n- Hypertension essentielle (primitive)(I10)\\n- Tumeur maligne secondaire et non précisée des ganglions lymphatiques de l\\'aisselle et du membre supérieur(C773)\\n- Tumeur maligne secondaire des os et de la moelle osseuse(C795)\\n- Tumeur maligne secondaire de la peau(C792)\\n- Isolement (prophylactique)(Z290)\\n\\n- Stade tumoral : Stade II\\n- Type anatomopathologique de la tumeur primaire : (Carcinome métaplasique)\\n- Nom du patient : Jouhanet\\n- Score TNM :T2N1M0\\n- Biomarqueurs tumoraux : ER/PR, HER2\\n\\n\\n\\n\\n\\n**INSTRUCTIONS :**\\n\\nvous choisirez un épisode de traitement sachant que les recommandations pour ce stade du cancer sont les suivantes :\\n - Schéma thérapeutique : Chirurgie (mastectomie ou BCS) + radiothérapie, thérapie systémique adjuvante incluant chimiothérapie, thérapie ciblée HER2 si HER2+\\n - Protocole de chimiothérapie : TAC (Docetaxel, Doxorubicine, Cyclophosphamide)\\nVeillez à bien préciser le type histologique et la valeur des biomarqueurs si recherchés\\n\\n\\n- Vous devez utiliser exclusivement les diagnostics fournis. Aucun autre diagnostic ne doit être ajouté ou inventé.\\t\\t\\n\\n- Lors vous mentionnerez dans le texte les diagnostics, vous utiliserez autant que faire ce peut une formulation moins formelle que la définition du code. Pour vous aider nous vous proposons ci-dessous quelques exemples de formulation alternative qui peut être retrouvée dans les comptes rendus d\\'hospitalisation.\\n\\n\\n- Vous pourrez reformulez librement ces propositions de manière fluide et naturelle dans le texte. Néanmoins, vous devrez donner à la fin sous forme structuré, pour chaque diagnostic les formulations que vous aurez choisi sous la forme :\\nCode CIM - Définition du code : formulations utilisées dans le texte.\\n\\n- Aucune partie du texte ne doit être mise en gras.\\n\\n- Langue : Rédigez le compte rendu en français.\\n\\n- Style : Adoptez un style clinique informel, tel qu\\'utilisé couramment dans les notes cliniques quotidiennes.\\n+ Ton télégraphique.\\t\\n+ Phrases éventuellement incomplètes (absence de sujet ou verbe) si cela reste naturel.\\n+ Informations enchaînées par ponctuation simple : virgules, tirets, points-virgules, etc.\\n\\n- Formulation : \\t\\n+ Variez la structure des phrases. \\t\\n+ Variez les termes médicaux (synonymes, reformulations naturelles) tout en conservant leur précision clinique. Évitez les répétitions mot à mot.\\t\\n+ Utilisez, de manière occasionnelle et pertinente, des acronymes et abréviations médicales françaises courantes, sans en abuser.\\n\\n- Contenu à produire : Le compte rendu doit comporter les sections suivantes (max. 200 mots/section) :\\t\\n+ Motif d’hospitalisation\\n+ Antécédents (médicaux, chirurgicaux, familiaux, allergies)\\n+ Mode de vie (toxiques, profession, autres) par exemple activité physique, nombre de gestités et parités chez les femmes, situation sociale...)\\n+ Histoire de la maladie\\n+ Examen clinique (constantes vitales, examen physique, poids en kgs en particulier si une dénutrition est évoquée, etc.) \\n+ Examens complémentaires avec résultats (uniquement ceux réalisés durant l’hospitalisation)\\n+ Évolution pendant l\\'hospitalisation: Veillez à être le plus exhaustif possible, en particulier indiquez : Conclusions des principaux examens complémentaires réalisés dans la section « Examens complémentaires »; Prise en charge thérapeutique; Suivi mis en place; Critères de sortie\\n+ Conclusion\\n\\n- Chaque section doit commencer par un titre au format suivant :\\n### Nom de la section (ex. : ### Motif d\\'hospitalisation)\\n- Attribuez des dates plausibles et cohérentes aux événements majeurs (hospitalisations, diagnostics, examens, traitements...).\\n- Assurez la cohérence temporelle et médicale entre les différentes sections.\\n- Ne pas inclure : Clauses de non-responsabilité.\\n- Veillez à être le plus détaillé possible concernant le cancer. Incluez, si pertinent, les informations suivantes : \\n+ État général : score de performance explicite selon l’échelle ECOG/OMS\\n+ Statut gestationnel (contraception, grossesse ou allaitement) : uniquement chez les femmes\\n+ Évolutivité tumorale : si elle est mentionée, vous devez obligatoirement :\\n* indiquer les examens ayant permis d’évaluer cette évolution, avec leurs résultats\\n* faire référence explicite aux examens antérieurs utilisés comme points de comparaison, afin de démontrer une progression ou une stabilité de la tumeur dans le temps\\n+ Type de traitements antitumoraux reçus\\n+ Lignes de traitement antitumoral reçues: indiquez explicitement à quelle ligne de traitement le patient se trouve actuellement.\\n+ La tolérance aiguë à la chimiothérapie\\n\\nVeillez à intégrer ces informations de façon naturelle dans le compte rendu, sans recourir à des formats semi-structurés, par exemple préférez une rédaction naturelle plutôt que « État général : ECOG 1 »).\\n\\n- À la fin du texte généré, fournissez :\\n+ un dictionnaire listant les formulations utilisées pour chaque diagnostic fourni (y compris le diagnostic principal et les diagnostics associés) : {\"Code CIM - Définition du code\": [\"formulation utilisée 1\", \"formulation utilisée 2\", ...],...}\\n* Par exemple : {\"poussee hypertension arterielle\": [\"poussée hypertension arterielle\", \"poussée HTA\"],...} \\n+ un dictionnaire listant les segments textuels utilisés pour décrire les informations suivantes, reproduits strictement à l’identique (copiés-collés depuis le texte généré, sans aucune modification ni interprétation, y compris ponctuation et orthographe) :\\n* Âge\\n* Sexe\\n* État général\\n* Statut gestationnel (s\\'il s\\'agit d\\'une femme)\\n* Gestité\\n* Comorbidités\\n* Topographie de la tumeur primaire: Localisation anatomique de la tumeur primaire- Histologie tumorale : Type cellulaire explicite de la tumeur primaire. Ne pas inclure de localisations anatomiques générales (ex. : cancer du sein, tumeur pulmonaire...)\\n* Stade tumoral\\n* Biomarqueurs tumoraux\\n* Sites métastatiques : Localisations anatomiques des métastases\\n* Évolutivité tumorale\\n* Examens pour diagnostic initial: Noms des examens qui ont permis d\\'établir le diagnostic initial de la tumeur primaire\\n* Examens d\\'évaluation du stade tumoral : Noms des examens ayant servi à déterminer le stade tumoral initial- Examens d’évaluation de l’évolutivité tumorale : Noms des examens ayant permis de juger de la progression ou de la stabilité de la maladie dans le temps - Traitements antitumoraux : Type de traitements antitumoraux reçus, y compris les types de chirurgie pratiqués- Lignes de traitement antitumoral\\n* Médicaments antitumoraux : Noms des médicaments antitumoraux administrés\\n* Cycles de chimiothérapie\\n* NFS: résultats explicites (valeurs ou qualificatifs comme \"normal\", \"élevé\",...)\\n* Créatinine : résultats explicites (valeurs ou qualificatifs comme \"normal\", \"élevé\",...)\\n* Bilan hepatique: résultats explicites (valeurs ou qualificatifs comme \"normal\", \"élevé\",...)\\n\\nPar exemple : {\"Âge\": [\"55 ans\"],\"Stade tumoral\" : [\"cT4N1M2\"],\"Examens pour diagnostic initial\": [\"TDM thoracique\", \"IRM cérébrale\"],...}- La sortie doit être un objet JSON au format suivant :{\"CR\": \"le text généré\",\"formulations\": {  \"diagnostics\": {...},  \"informations\": {...}  }}Par exemple : {\"CR\": \"Texte du compte rendu ici...\",\"formulations\": {  \"diagnostics\": {\"poussee hypertension arterielle\": [\"poussée hypertension arterielle\", \"poussée HTA\"]},  \"informations\": {\"Âge\": [\"55 ans\"], \"Stade tumoral\" : [\"cT4N1M2\"], \"Examens pour diagnostic initial\": [\"TDM thoracique\", \"IRM cérébrale\"]}  }}'}"
      ]
     },
     "execution_count": 212,
     "metadata": {},
     "output_type": "execute_result"
    }
   ],
   "source": [
    "# df_scenario[]"
   ]
  }
 ],
 "metadata": {
  "colab": {
   "include_colab_link": true,
   "provenance": []
  },
  "kernelspec": {
   "display_name": "Python (gliner-onco)",
   "language": "python",
   "name": "gliner-onco"
  },
  "language_info": {
   "codemirror_mode": {
    "name": "ipython",
    "version": 3
   },
   "file_extension": ".py",
   "mimetype": "text/x-python",
   "name": "python",
   "nbconvert_exporter": "python",
   "pygments_lexer": "ipython3",
   "version": "3.13.5"
  },
  "vscode": {
   "interpreter": {
    "hash": "26de051ba29f2982a8de78e945f0abaf191376122a1563185a90213a26c5da77"
   }
  }
 },
 "nbformat": 4,
 "nbformat_minor": 4
}
